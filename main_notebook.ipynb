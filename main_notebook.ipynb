{
 "cells": [
  {
   "cell_type": "markdown",
   "id": "ebfa8f6058f07c39",
   "metadata": {
    "collapsed": false
   },
   "source": [
    "# Human Value Detection"
   ]
  },
  {
   "cell_type": "markdown",
   "id": "f47fe4c58990df29",
   "metadata": {
    "collapsed": false
   },
   "source": [
    "## Imports"
   ]
  },
  {
   "cell_type": "code",
   "execution_count": 1,
   "id": "9e9333223475180",
   "metadata": {
    "collapsed": false,
    "ExecuteTime": {
     "end_time": "2023-12-17T12:18:23.469150779Z",
     "start_time": "2023-12-17T12:18:21.385633987Z"
    }
   },
   "outputs": [],
   "source": [
    "%load_ext autoreload\n",
    "%autoreload 2\n",
    "\n",
    "\n",
    "from sys import platform\n",
    "\n",
    "\n",
    "from drTorch.utilities import *\n",
    "from drTorch.callbacks import EarlyStopper\n",
    "from drTorch.metrics import F1_Score_Multi_Labels\n",
    "from drTorch.wrappers import OptimizerWrapper\n",
    "from drTorch.wrappers import Criterion\n",
    "from drTorch.model_selection import grid_search_train_validation\n",
    "\n",
    "\n",
    "from utilities import *\n",
    "\n",
    "from models.randomUniformClassifier import RandomUniformClassifier\n",
    "from models.majorityCalssifier import MajorityClassifier\n",
    "from models.bertOne import BertOne\n",
    "from models.berTwo import BerTwo\n",
    "from models.berThree import BerThree\n",
    "\n",
    "from sklearn.metrics import accuracy_score\n",
    "from functools import partial\n",
    "\n",
    "import numpy as np\n",
    "import joblib\n"
   ]
  },
  {
   "cell_type": "markdown",
   "source": [
    "## Setting the device"
   ],
   "metadata": {
    "collapsed": false
   },
   "id": "29e2eb57cfb6e30c"
  },
  {
   "cell_type": "code",
   "execution_count": 2,
   "id": "29dcff5a5f7bfb48",
   "metadata": {
    "collapsed": false,
    "ExecuteTime": {
     "end_time": "2023-12-17T12:18:23.483187211Z",
     "start_time": "2023-12-17T12:18:23.468798448Z"
    }
   },
   "outputs": [
    {
     "name": "stdout",
     "output_type": "stream",
     "text": [
      "PyTorch version: 2.1.1+cu121\n",
      "Using device: cuda\n"
     ]
    }
   ],
   "source": [
    "print(f\"PyTorch version: {torch.__version__}\")\n",
    "\n",
    "if platform == \"darwin\":    #Run on macOS\n",
    "    \n",
    "    print(f\"Is MPS (Metal Performance Shader) built? {torch.backends.mps.is_built()}\")\n",
    "    print(f\"Is MPS available? {torch.backends.mps.is_available()}\")\n",
    "    device = \"mps\" if torch.backends.mps.is_available() else \"cpu\"    \n",
    "else:\n",
    "    device = torch.device('cuda' if torch.cuda.is_available() else 'cpu') \n",
    "\n",
    "print(f\"Using device: {device}\")\n"
   ]
  },
  {
   "cell_type": "code",
   "execution_count": 3,
   "outputs": [
    {
     "name": "stdout",
     "output_type": "stream",
     "text": [
      "Sun Dec 17 13:18:23 2023       \r\n",
      "+---------------------------------------------------------------------------------------+\r\n",
      "| NVIDIA-SMI 545.29.06              Driver Version: 545.29.06    CUDA Version: 12.3     |\r\n",
      "|-----------------------------------------+----------------------+----------------------+\r\n",
      "| GPU  Name                 Persistence-M | Bus-Id        Disp.A | Volatile Uncorr. ECC |\r\n",
      "| Fan  Temp   Perf          Pwr:Usage/Cap |         Memory-Usage | GPU-Util  Compute M. |\r\n",
      "|                                         |                      |               MIG M. |\r\n",
      "|=========================================+======================+======================|\r\n",
      "|   0  NVIDIA GeForce RTX 4060 ...    Off | 00000000:01:00.0  On |                  N/A |\r\n",
      "| N/A   36C    P8               3W /  80W |    161MiB /  8188MiB |     26%      Default |\r\n",
      "|                                         |                      |                  N/A |\r\n",
      "+-----------------------------------------+----------------------+----------------------+\r\n",
      "                                                                                         \r\n",
      "+---------------------------------------------------------------------------------------+\r\n",
      "| Processes:                                                                            |\r\n",
      "|  GPU   GI   CI        PID   Type   Process name                            GPU Memory |\r\n",
      "|        ID   ID                                                             Usage      |\r\n",
      "|=======================================================================================|\r\n",
      "|    0   N/A  N/A       820      G   /usr/lib/Xorg                                45MiB |\r\n",
      "|    0   N/A  N/A      8542      C   ...ects/NLP_homework_1/venv/bin/python      106MiB |\r\n",
      "+---------------------------------------------------------------------------------------+\r\n"
     ]
    }
   ],
   "source": [
    "if device != 'mps':\n",
    "    !nvidia-smi\n",
    "    "
   ],
   "metadata": {
    "collapsed": false,
    "ExecuteTime": {
     "end_time": "2023-12-17T12:18:23.699844328Z",
     "start_time": "2023-12-17T12:18:23.484364275Z"
    }
   },
   "id": "a070748d8ab72410"
  },
  {
   "cell_type": "markdown",
   "id": "9f2553b6aeb5c7f9",
   "metadata": {
    "collapsed": false
   },
   "source": []
  },
  {
   "cell_type": "markdown",
   "id": "ef2ee4b05f9169d2",
   "metadata": {
    "collapsed": false
   },
   "source": [
    "## Defining constants flags and work directory"
   ]
  },
  {
   "cell_type": "code",
   "execution_count": 4,
   "outputs": [],
   "source": [
    "##### PATHS AND DATAFRAME CREATION\n",
    "\n",
    "# Directory paths for data storage\n",
    "DATA_DIR = \"data\"\n",
    "ARGUMENTS_DIR = os.path.join(DATA_DIR, \"arguments\")\n",
    "LABELS_DIR = os.path.join(DATA_DIR, \"labels\")\n",
    "\n",
    "# Directory paths for model and result storage\n",
    "BERT_MODELS_DIRECTORY = \"bert_models\"\n",
    "RESULT_DIRECTORY = 'results'  # Directory to store the results\n",
    "WEIGHTS_DIRECTORY = os.path.join(RESULT_DIRECTORY, 'weights')  # Directory to store model weights\n",
    "\n",
    "# File paths for grid search results\n",
    "BERTONE_GRID_SEARCH_RESULTS_PATH = os.path.join(RESULT_DIRECTORY, 'bertone_grid_search_model.pkl')\n",
    "BERTWO_GRID_SEARCH_RESULTS_PATH = os.path.join(RESULT_DIRECTORY, 'bertwo_grid_search_model.pkl')\n",
    "BERTHREE_GRID_SEARCH_RESULTS_PATH = os.path.join(RESULT_DIRECTORY, 'berthree_grid_search_model.pkl')\n",
    "\n",
    "# File paths for model weights\n",
    "BERTONE__WEIGHTS_PATH = os.path.join(WEIGHTS_DIRECTORY, 'bertone_wights.pth')\n",
    "BERTWO_WEIGHTS_PATH = os.path.join(WEIGHTS_DIRECTORY, 'bertwo_wights.pth')\n",
    "BERTHREE_WEIGHTS_PATH = os.path.join(WEIGHTS_DIRECTORY, 'berthree_wights.pth')\n",
    "\n",
    "\n",
    "##### CONSTANTS \n",
    "\n",
    "# Number of labels and classes\n",
    "N_LABELS = 4\n",
    "N_CLASSES = 2\n",
    "\n",
    "# Batch sizes for different models\n",
    "BATCH_SIZE_C = 32\n",
    "BATCH_SIZE_CP = 8\n",
    "BATCH_SIZE_CPS = 8\n",
    "\n",
    "# Available BERT versions\n",
    "BERT_VERSIONS=[\"bert-base-uncased\", \"roberta-base\"]\n",
    "\n",
    "# BERT model constructors and tokenizer constructors\n",
    "BERT_CONSTRUCTORS = {'bert-base-uncased': transformers.BertModel, 'roberta-base': transformers.RobertaModel}\n",
    "BERT_TOKENIZER_CONSTRUCTORS = {'bert-base-uncased': transformers.BertTokenizer, 'roberta-base':transformers.RobertaTokenizer}\n",
    "\n",
    "# Input and batch sizes for different model types\n",
    "MODEL_INPUTS = {\"C\":[\"Conclusion\"], \"CP\":[\"Conclusion\", \"Premise\"], \"CPS\":[\"Conclusion\", \"Premise\", \"Stance\"]}\n",
    "MODEL_BATCH_SIZES = {\"C\": BATCH_SIZE_C, \"CP\": BATCH_SIZE_CP, \"CPS\": BATCH_SIZE_CPS}\n",
    "MODEL_DATASET_BUILDERS = {\"C\":CustomDataset_C, \"CP\": CustomDataset_CP, \"CPS\": CustomDataset_CPS}\n",
    "\n",
    "\n",
    "##### FLAGS FOR MODEL TRAINING AND EVALUATION\n",
    "\n",
    "# Flags to control the execution of grid searches and model training\n",
    "RUN_BERTONE_GRID_SEARCH = True\n",
    "RUN_BERTWO_GRID_SEARCH = True\n",
    "RUN_BERTHREE_GRID_SEARCH = True\n",
    "\n",
    "# Flags for running additional classifiers\n",
    "RUN_RANDOM_CLF = True\n",
    "RUN_MAJORITY_CLF = True\n",
    "\n",
    "# Flags for fitting different BERT models\n",
    "FIT_BERTONE = True\n",
    "FIT_BERTWO = False\n",
    "FIT_BERTHREE = False\n",
    "\n",
    "# One-hot encoding for binary classification\n",
    "CLASS_2_ONE_HOT = {class_label: np.eye(N_CLASSES)[i].astype(float).tolist() for i, class_label in enumerate(range(N_CLASSES))}\n"
   ],
   "metadata": {
    "collapsed": false,
    "ExecuteTime": {
     "end_time": "2023-12-17T12:18:23.725055912Z",
     "start_time": "2023-12-17T12:18:23.704538654Z"
    }
   },
   "id": "7d71adb601979737"
  },
  {
   "cell_type": "markdown",
   "id": "32a409b1e982e3dd",
   "metadata": {
    "collapsed": false
   },
   "source": [
    "## Task 1"
   ]
  },
  {
   "cell_type": "markdown",
   "id": "3723181a1d5f1aad",
   "metadata": {
    "collapsed": false
   },
   "source": [
    "### Visualizing the data"
   ]
  },
  {
   "cell_type": "code",
   "execution_count": 5,
   "id": "910abdb6bbf8ee01",
   "metadata": {
    "collapsed": false,
    "ExecuteTime": {
     "end_time": "2023-12-17T12:18:23.782109552Z",
     "start_time": "2023-12-17T12:18:23.723716764Z"
    }
   },
   "outputs": [
    {
     "name": "stdout",
     "output_type": "stream",
     "text": [
      "Let's visualize the data: \n"
     ]
    },
    {
     "data": {
      "text/plain": "                                              Conclusion       Stance  \\\nArgument ID                                                             \nA01002                       We should ban human cloning  in favor of   \nA01005                           We should ban fast food  in favor of   \nA01006       We should end the use of economic sanctions      against   \nA01007              We should abolish capital punishment      against   \nA01008                     We should ban factory farming      against   \n\n                                                       Premise  \nArgument ID                                                     \nA01002       we should ban human cloning as it will only ca...  \nA01005       fast food should be banned because it is reall...  \nA01006       sometimes economic sanctions are the only thin...  \nA01007       capital punishment is sometimes the only optio...  \nA01008       factory farming allows for the production of c...  ",
      "text/html": "<div>\n<style scoped>\n    .dataframe tbody tr th:only-of-type {\n        vertical-align: middle;\n    }\n\n    .dataframe tbody tr th {\n        vertical-align: top;\n    }\n\n    .dataframe thead th {\n        text-align: right;\n    }\n</style>\n<table border=\"1\" class=\"dataframe\">\n  <thead>\n    <tr style=\"text-align: right;\">\n      <th></th>\n      <th>Conclusion</th>\n      <th>Stance</th>\n      <th>Premise</th>\n    </tr>\n    <tr>\n      <th>Argument ID</th>\n      <th></th>\n      <th></th>\n      <th></th>\n    </tr>\n  </thead>\n  <tbody>\n    <tr>\n      <th>A01002</th>\n      <td>We should ban human cloning</td>\n      <td>in favor of</td>\n      <td>we should ban human cloning as it will only ca...</td>\n    </tr>\n    <tr>\n      <th>A01005</th>\n      <td>We should ban fast food</td>\n      <td>in favor of</td>\n      <td>fast food should be banned because it is reall...</td>\n    </tr>\n    <tr>\n      <th>A01006</th>\n      <td>We should end the use of economic sanctions</td>\n      <td>against</td>\n      <td>sometimes economic sanctions are the only thin...</td>\n    </tr>\n    <tr>\n      <th>A01007</th>\n      <td>We should abolish capital punishment</td>\n      <td>against</td>\n      <td>capital punishment is sometimes the only optio...</td>\n    </tr>\n    <tr>\n      <th>A01008</th>\n      <td>We should ban factory farming</td>\n      <td>against</td>\n      <td>factory farming allows for the production of c...</td>\n    </tr>\n  </tbody>\n</table>\n</div>"
     },
     "metadata": {},
     "output_type": "display_data"
    },
    {
     "data": {
      "text/plain": "             Self-direction: thought  Self-direction: action  Stimulation  \\\nArgument ID                                                                 \nA01002                             0                       0            0   \nA01005                             0                       0            0   \nA01006                             0                       0            0   \nA01007                             0                       0            0   \nA01008                             0                       0            0   \n\n             Hedonism  Achievement  Power: dominance  Power: resources  Face  \\\nArgument ID                                                                    \nA01002              0            0                 0                 0     0   \nA01005              0            0                 0                 0     0   \nA01006              0            0                 1                 0     0   \nA01007              0            0                 0                 0     0   \nA01008              0            0                 0                 0     0   \n\n             Security: personal  Security: societal  Tradition  \\\nArgument ID                                                      \nA01002                        0                   1          0   \nA01005                        1                   0          0   \nA01006                        0                   1          0   \nA01007                        0                   1          0   \nA01008                        1                   0          0   \n\n             Conformity: rules  Conformity: interpersonal  Humility  \\\nArgument ID                                                           \nA01002                       0                          0         0   \nA01005                       0                          0         0   \nA01006                       0                          0         0   \nA01007                       1                          0         0   \nA01008                       0                          0         0   \n\n             Benevolence: caring  Benevolence: dependability  \\\nArgument ID                                                    \nA01002                         0                           0   \nA01005                         0                           0   \nA01006                         0                           0   \nA01007                         0                           0   \nA01008                         1                           0   \n\n             Universalism: concern  Universalism: nature  \\\nArgument ID                                                \nA01002                           0                     0   \nA01005                           0                     0   \nA01006                           0                     0   \nA01007                           1                     0   \nA01008                           1                     0   \n\n             Universalism: tolerance  Universalism: objectivity  \nArgument ID                                                      \nA01002                             0                          0  \nA01005                             0                          0  \nA01006                             0                          0  \nA01007                             0                          0  \nA01008                             0                          0  ",
      "text/html": "<div>\n<style scoped>\n    .dataframe tbody tr th:only-of-type {\n        vertical-align: middle;\n    }\n\n    .dataframe tbody tr th {\n        vertical-align: top;\n    }\n\n    .dataframe thead th {\n        text-align: right;\n    }\n</style>\n<table border=\"1\" class=\"dataframe\">\n  <thead>\n    <tr style=\"text-align: right;\">\n      <th></th>\n      <th>Self-direction: thought</th>\n      <th>Self-direction: action</th>\n      <th>Stimulation</th>\n      <th>Hedonism</th>\n      <th>Achievement</th>\n      <th>Power: dominance</th>\n      <th>Power: resources</th>\n      <th>Face</th>\n      <th>Security: personal</th>\n      <th>Security: societal</th>\n      <th>Tradition</th>\n      <th>Conformity: rules</th>\n      <th>Conformity: interpersonal</th>\n      <th>Humility</th>\n      <th>Benevolence: caring</th>\n      <th>Benevolence: dependability</th>\n      <th>Universalism: concern</th>\n      <th>Universalism: nature</th>\n      <th>Universalism: tolerance</th>\n      <th>Universalism: objectivity</th>\n    </tr>\n    <tr>\n      <th>Argument ID</th>\n      <th></th>\n      <th></th>\n      <th></th>\n      <th></th>\n      <th></th>\n      <th></th>\n      <th></th>\n      <th></th>\n      <th></th>\n      <th></th>\n      <th></th>\n      <th></th>\n      <th></th>\n      <th></th>\n      <th></th>\n      <th></th>\n      <th></th>\n      <th></th>\n      <th></th>\n      <th></th>\n    </tr>\n  </thead>\n  <tbody>\n    <tr>\n      <th>A01002</th>\n      <td>0</td>\n      <td>0</td>\n      <td>0</td>\n      <td>0</td>\n      <td>0</td>\n      <td>0</td>\n      <td>0</td>\n      <td>0</td>\n      <td>0</td>\n      <td>1</td>\n      <td>0</td>\n      <td>0</td>\n      <td>0</td>\n      <td>0</td>\n      <td>0</td>\n      <td>0</td>\n      <td>0</td>\n      <td>0</td>\n      <td>0</td>\n      <td>0</td>\n    </tr>\n    <tr>\n      <th>A01005</th>\n      <td>0</td>\n      <td>0</td>\n      <td>0</td>\n      <td>0</td>\n      <td>0</td>\n      <td>0</td>\n      <td>0</td>\n      <td>0</td>\n      <td>1</td>\n      <td>0</td>\n      <td>0</td>\n      <td>0</td>\n      <td>0</td>\n      <td>0</td>\n      <td>0</td>\n      <td>0</td>\n      <td>0</td>\n      <td>0</td>\n      <td>0</td>\n      <td>0</td>\n    </tr>\n    <tr>\n      <th>A01006</th>\n      <td>0</td>\n      <td>0</td>\n      <td>0</td>\n      <td>0</td>\n      <td>0</td>\n      <td>1</td>\n      <td>0</td>\n      <td>0</td>\n      <td>0</td>\n      <td>1</td>\n      <td>0</td>\n      <td>0</td>\n      <td>0</td>\n      <td>0</td>\n      <td>0</td>\n      <td>0</td>\n      <td>0</td>\n      <td>0</td>\n      <td>0</td>\n      <td>0</td>\n    </tr>\n    <tr>\n      <th>A01007</th>\n      <td>0</td>\n      <td>0</td>\n      <td>0</td>\n      <td>0</td>\n      <td>0</td>\n      <td>0</td>\n      <td>0</td>\n      <td>0</td>\n      <td>0</td>\n      <td>1</td>\n      <td>0</td>\n      <td>1</td>\n      <td>0</td>\n      <td>0</td>\n      <td>0</td>\n      <td>0</td>\n      <td>1</td>\n      <td>0</td>\n      <td>0</td>\n      <td>0</td>\n    </tr>\n    <tr>\n      <th>A01008</th>\n      <td>0</td>\n      <td>0</td>\n      <td>0</td>\n      <td>0</td>\n      <td>0</td>\n      <td>0</td>\n      <td>0</td>\n      <td>0</td>\n      <td>1</td>\n      <td>0</td>\n      <td>0</td>\n      <td>0</td>\n      <td>0</td>\n      <td>0</td>\n      <td>1</td>\n      <td>0</td>\n      <td>1</td>\n      <td>0</td>\n      <td>0</td>\n      <td>0</td>\n    </tr>\n  </tbody>\n</table>\n</div>"
     },
     "metadata": {},
     "output_type": "display_data"
    }
   ],
   "source": [
    "# convert files in dataframes\n",
    "train_arg_df, val_arg_df, test_arg_df = create_dfs(ARGUMENTS_DIR)\n",
    "train_labels_df, val_labels_df, test_labels_df = create_dfs(LABELS_DIR)\n",
    "\n",
    "print(\"Let's visualize the data: \")\n",
    "display(train_arg_df.head(5))\n",
    "display(train_labels_df.head(5))\n"
   ]
  },
  {
   "cell_type": "markdown",
   "id": "f2f8c631fc728aa8",
   "metadata": {
    "collapsed": false
   },
   "source": [
    "### Mapping labels to level-3 categories"
   ]
  },
  {
   "cell_type": "code",
   "execution_count": 6,
   "id": "998d8c9bd76a90f4",
   "metadata": {
    "collapsed": false,
    "ExecuteTime": {
     "end_time": "2023-12-17T12:18:24.745183261Z",
     "start_time": "2023-12-17T12:18:23.781100740Z"
    }
   },
   "outputs": [
    {
     "name": "stdout",
     "output_type": "stream",
     "text": [
      "The training labels after the mapping are the following: \n"
     ]
    },
    {
     "data": {
      "text/plain": "             Openess_to_change  Self_enhancement  Conservation  \\\nArgument ID                                                      \nA01002                       0                 0             1   \nA01005                       0                 0             1   \nA01006                       0                 1             1   \nA01007                       0                 0             1   \nA01008                       0                 0             1   \n...                        ...               ...           ...   \nE08016                       0                 1             1   \nE08017                       0                 0             1   \nE08018                       0                 0             0   \nE08019                       0                 0             1   \nE08020                       1                 1             1   \n\n             Self_transcendence  \nArgument ID                      \nA01002                        0  \nA01005                        0  \nA01006                        0  \nA01007                        0  \nA01008                        1  \n...                         ...  \nE08016                        1  \nE08017                        1  \nE08018                        1  \nE08019                        1  \nE08020                        1  \n\n[5393 rows x 4 columns]",
      "text/html": "<div>\n<style scoped>\n    .dataframe tbody tr th:only-of-type {\n        vertical-align: middle;\n    }\n\n    .dataframe tbody tr th {\n        vertical-align: top;\n    }\n\n    .dataframe thead th {\n        text-align: right;\n    }\n</style>\n<table border=\"1\" class=\"dataframe\">\n  <thead>\n    <tr style=\"text-align: right;\">\n      <th></th>\n      <th>Openess_to_change</th>\n      <th>Self_enhancement</th>\n      <th>Conservation</th>\n      <th>Self_transcendence</th>\n    </tr>\n    <tr>\n      <th>Argument ID</th>\n      <th></th>\n      <th></th>\n      <th></th>\n      <th></th>\n    </tr>\n  </thead>\n  <tbody>\n    <tr>\n      <th>A01002</th>\n      <td>0</td>\n      <td>0</td>\n      <td>1</td>\n      <td>0</td>\n    </tr>\n    <tr>\n      <th>A01005</th>\n      <td>0</td>\n      <td>0</td>\n      <td>1</td>\n      <td>0</td>\n    </tr>\n    <tr>\n      <th>A01006</th>\n      <td>0</td>\n      <td>1</td>\n      <td>1</td>\n      <td>0</td>\n    </tr>\n    <tr>\n      <th>A01007</th>\n      <td>0</td>\n      <td>0</td>\n      <td>1</td>\n      <td>0</td>\n    </tr>\n    <tr>\n      <th>A01008</th>\n      <td>0</td>\n      <td>0</td>\n      <td>1</td>\n      <td>1</td>\n    </tr>\n    <tr>\n      <th>...</th>\n      <td>...</td>\n      <td>...</td>\n      <td>...</td>\n      <td>...</td>\n    </tr>\n    <tr>\n      <th>E08016</th>\n      <td>0</td>\n      <td>1</td>\n      <td>1</td>\n      <td>1</td>\n    </tr>\n    <tr>\n      <th>E08017</th>\n      <td>0</td>\n      <td>0</td>\n      <td>1</td>\n      <td>1</td>\n    </tr>\n    <tr>\n      <th>E08018</th>\n      <td>0</td>\n      <td>0</td>\n      <td>0</td>\n      <td>1</td>\n    </tr>\n    <tr>\n      <th>E08019</th>\n      <td>0</td>\n      <td>0</td>\n      <td>1</td>\n      <td>1</td>\n    </tr>\n    <tr>\n      <th>E08020</th>\n      <td>1</td>\n      <td>1</td>\n      <td>1</td>\n      <td>1</td>\n    </tr>\n  </tbody>\n</table>\n<p>5393 rows × 4 columns</p>\n</div>"
     },
     "execution_count": 6,
     "metadata": {},
     "output_type": "execute_result"
    }
   ],
   "source": [
    "mapping = define_mapping()\n",
    "train_labels_df, val_labels_df, test_labels_df = map_to_level_3(mapping, train_labels_df, val_labels_df, test_labels_df) \n",
    "\n",
    "print(\"The training labels after the mapping are the following: \")\n",
    "train_labels_df\n"
   ]
  },
  {
   "cell_type": "markdown",
   "source": [
    "### Visualising the data distributions"
   ],
   "metadata": {
    "collapsed": false
   },
   "id": "b906019f7db003d7"
  },
  {
   "cell_type": "code",
   "execution_count": 7,
   "outputs": [
    {
     "data": {
      "text/plain": "<Figure size 2000x400 with 4 Axes>",
      "image/png": "[encoded data removed]"
     },
     "metadata": {},
     "output_type": "display_data"
    }
   ],
   "source": [
    "plot_comparison_across_sets(train_labels_df, val_labels_df, test_labels_df)\n"
   ],
   "metadata": {
    "collapsed": false,
    "ExecuteTime": {
     "end_time": "2023-12-17T12:18:25.174064514Z",
     "start_time": "2023-12-17T12:18:24.745974240Z"
    }
   },
   "id": "582c6f9c685915c"
  },
  {
   "cell_type": "markdown",
   "id": "45a3b5162e441c9",
   "metadata": {
    "collapsed": false
   },
   "source": [
    "### One-hot encoding, tokenization and data loaders building"
   ]
  },
  {
   "cell_type": "code",
   "execution_count": 8,
   "outputs": [],
   "source": [
    "dataloaders = {}\n",
    "\n",
    "if os.path.exists(BERT_MODELS_DIRECTORY):\n",
    "    bert_versions_paths = [os.path.join(BERT_MODELS_DIRECTORY, version)for version in BERT_VERSIONS]\n",
    "else:    \n",
    "    bert_versions_paths = download_bert_models(BERT_MODELS_DIRECTORY, BERT_VERSIONS, BERT_CONSTRUCTORS, BERT_TOKENIZER_CONSTRUCTORS)  \n",
    "\n",
    "for model_path in bert_versions_paths:\n",
    "    model_name = os.path.basename(model_path)\n",
    "    dataloaders[model_name]={}\n",
    "    \n",
    "    for model_key in MODEL_INPUTS.keys():\n",
    "        dataloaders[model_name][model_key]={}\n",
    "     \n",
    "        dataloader_train = build_dataloader(data=train_arg_df, \n",
    "                                            labels=train_labels_df, \n",
    "                                            one_hot_mapping=CLASS_2_ONE_HOT, \n",
    "                                            pretrained_model_name_or_path=model_path, \n",
    "                                            tokenizer_constructor=BERT_TOKENIZER_CONSTRUCTORS[model_name],\n",
    "                                            model_input=MODEL_INPUTS[model_key],\n",
    "                                            custom_dataset_builder=MODEL_DATASET_BUILDERS[model_key],\n",
    "                                            batch_size=MODEL_BATCH_SIZES[model_key], \n",
    "                                            shuffle=True)  \n",
    "    \n",
    "        dataloader_val = build_dataloader(data=val_arg_df, \n",
    "                                          labels=val_labels_df, \n",
    "                                          one_hot_mapping=CLASS_2_ONE_HOT, \n",
    "                                          pretrained_model_name_or_path=model_path, \n",
    "                                          tokenizer_constructor=BERT_TOKENIZER_CONSTRUCTORS[model_name],\n",
    "                                          model_input=MODEL_INPUTS[model_key],\n",
    "                                          custom_dataset_builder=MODEL_DATASET_BUILDERS[model_key],\n",
    "                                          batch_size=MODEL_BATCH_SIZES[model_key], \n",
    "                                          shuffle=True)  \n",
    "  \n",
    "        dataloader_test = build_dataloader(data=test_arg_df, \n",
    "                                           labels=test_labels_df, \n",
    "                                           one_hot_mapping=CLASS_2_ONE_HOT, \n",
    "                                           pretrained_model_name_or_path=model_path, \n",
    "                                           tokenizer_constructor=BERT_TOKENIZER_CONSTRUCTORS[model_name],\n",
    "                                           model_input=MODEL_INPUTS[model_key],\n",
    "                                           custom_dataset_builder=MODEL_DATASET_BUILDERS[model_key],\n",
    "                                           batch_size=MODEL_BATCH_SIZES[model_key], \n",
    "                                           shuffle=True)  \n",
    "       \n",
    "\n",
    "        dataloaders[model_name][model_key]['train'] = dataloader_train\n",
    "        dataloaders[model_name][model_key]['val'] = dataloader_val\n",
    "        dataloaders[model_name][model_key]['test'] = dataloader_test\n",
    "\n",
    "\n",
    "\n",
    "\"\"\"\n",
    "for batch , input in dataloaders['bert-base-uncased']['C']['train']:\n",
    "    print(batch['Conclusion']['input_ids'].shape)\n",
    "\"\"\";\n"
   ],
   "metadata": {
    "collapsed": false,
    "ExecuteTime": {
     "end_time": "2023-12-17T12:18:35.119026520Z",
     "start_time": "2023-12-17T12:18:25.175479682Z"
    }
   },
   "id": "a75679e23071d3a"
  },
  {
   "cell_type": "markdown",
   "id": "5b9b4d8eb2b9080d",
   "metadata": {
    "collapsed": false,
    "ExecuteTime": {
     "end_time": "2023-12-13T16:45:19.405346392Z",
     "start_time": "2023-12-13T16:45:13.535600867Z"
    }
   },
   "source": [
    "## Task 2 "
   ]
  },
  {
   "cell_type": "markdown",
   "source": [
    "### Creating the directory to store the results for our grid search\n"
   ],
   "metadata": {
    "collapsed": false
   },
   "id": "61ddc78f00c59c3e"
  },
  {
   "cell_type": "code",
   "execution_count": 9,
   "outputs": [],
   "source": [
    "if not os.path.exists(RESULT_DIRECTORY):\n",
    "    os.makedirs(RESULT_DIRECTORY)\n",
    "    "
   ],
   "metadata": {
    "collapsed": false,
    "ExecuteTime": {
     "end_time": "2023-12-17T12:18:35.133174599Z",
     "start_time": "2023-12-17T12:18:35.119533415Z"
    }
   },
   "id": "7aa8a4f5c6bbef61"
  },
  {
   "cell_type": "markdown",
   "source": [
    "### Models Definition"
   ],
   "metadata": {
    "collapsed": false
   },
   "id": "31dbdf03bd612820"
  },
  {
   "cell_type": "markdown",
   "source": [
    "####  1) Random uniform classifier"
   ],
   "metadata": {
    "collapsed": false
   },
   "id": "4b3848b4411be166"
  },
  {
   "cell_type": "code",
   "execution_count": 10,
   "outputs": [
    {
     "name": "stdout",
     "output_type": "stream",
     "text": [
      "Accuracy of the model over all the classes: 0.05139593908629442\n",
      "\n",
      " - Openess_to_change F1: 0.4669833300765103\n",
      " - Self_enhancement F1: 0.4853913989937102\n",
      " - Conservation F1: 0.4638275730953191\n",
      " - Self_transcendence F1: 0.4908207282506933\n",
      "\n",
      "Average F1: 0.4767557576040582\n"
     ]
    }
   ],
   "source": [
    "if RUN_RANDOM_CLF:\n",
    "    # Create an instance of the random uniform classifier\n",
    "    random_classifier = RandomUniformClassifier(N_LABELS)\n",
    "    \n",
    "    # Make predictions on the test set\n",
    "    predicted_labels = random_classifier.predict(test_arg_df)\n",
    "    \n",
    "    # Accuracy of the Random Classifier\n",
    "    accuracy = accuracy_score(test_labels_df, predicted_labels)\n",
    "    print(f'Accuracy of the model over all the classes: {accuracy}\\n')\n",
    "    \n",
    "    # F1 scores on the different labels singularly taken \n",
    "    f1_scorer = F1_Score_Multi_Labels(name='F1_macro_avg', num_labels=N_LABELS, num_classes=N_CLASSES, compute_mean=False)\n",
    "    f1_scores_random_classifier = f1_scorer(torch.tensor(test_labels_df.values.tolist()), torch.tensor(predicted_labels))\n",
    "    # AVG F1 score\n",
    "    f1_avg_random_classifier = np.average(f1_scores_random_classifier)\n",
    "    \n",
    "    \n",
    "    for idx, f1_score in enumerate(f1_scores_random_classifier):\n",
    "        print(f\" - {train_labels_df.columns[idx]} F1: {f1_score}\")\n",
    "    \n",
    "    print(f'\\nAverage F1: {f1_avg_random_classifier}')\n"
   ],
   "metadata": {
    "collapsed": false,
    "ExecuteTime": {
     "end_time": "2023-12-17T12:18:35.153817931Z",
     "start_time": "2023-12-17T12:18:35.134703197Z"
    }
   },
   "id": "82f51d9c86bef3a0"
  },
  {
   "cell_type": "markdown",
   "source": [
    "####  2) Majority classifier"
   ],
   "metadata": {
    "collapsed": false
   },
   "id": "4db911208037aa18"
  },
  {
   "cell_type": "code",
   "execution_count": 11,
   "outputs": [
    {
     "name": "stdout",
     "output_type": "stream",
     "text": [
      "Accuracy of the model over all the classes: 0.13642131979695432\n",
      "\n",
      " - Openess_to_change F1: 0.41150112023898433\n",
      " - Self_enhancement F1: 0.3708582834331337\n",
      " - Conservation F1: 0.4152133580705009\n",
      " - Self_transcendence F1: 0.32850447379633574\n",
      "\n",
      "Average F1: 0.3815193088847386\n"
     ]
    }
   ],
   "source": [
    "if RUN_MAJORITY_CLF:\n",
    "    majority_classifier = MajorityClassifier()\n",
    "    \n",
    "    # Train the majority classifier (even though in practice, no training is needed)\n",
    "    majority_classifier.fit(train_labels_df)\n",
    "    \n",
    "    # Make predictions on the test set\n",
    "    predicted_labels = majority_classifier.predict(test_labels_df)\n",
    "    \n",
    "    # Accuracy of the Majority Classifier\n",
    "    accuracy = accuracy_score(test_labels_df, predicted_labels)\n",
    "    print(f'Accuracy of the model over all the classes: {accuracy}\\n')\n",
    "    \n",
    "    # F1 scores on the different labels singularly taken \n",
    "    f1_scorer = F1_Score_Multi_Labels(name='F1_macro_avg', num_labels=N_LABELS, num_classes=N_CLASSES, compute_mean=False)\n",
    "    f1_scores_majority_classifier = f1_scorer(torch.tensor(test_labels_df.values.tolist()), torch.tensor(predicted_labels))\n",
    "    # AVG F1 score\n",
    "    f1_avg_majority_classifier = np.average(f1_scores_majority_classifier)\n",
    "    \n",
    "    \n",
    "    for idx, f1_score in enumerate(f1_scores_majority_classifier):\n",
    "        print(f\" - {train_labels_df.columns[idx]} F1: {f1_score}\")\n",
    "    \n",
    "    print(f'\\nAverage F1: {f1_avg_majority_classifier}')\n"
   ],
   "metadata": {
    "collapsed": false,
    "ExecuteTime": {
     "end_time": "2023-12-17T12:18:35.198168109Z",
     "start_time": "2023-12-17T12:18:35.155529303Z"
    }
   },
   "id": "7948530f7e667126"
  },
  {
   "cell_type": "markdown",
   "source": [
    "####  3) Bert w/C"
   ],
   "metadata": {
    "collapsed": false
   },
   "id": "ed615adcd88b156c"
  },
  {
   "cell_type": "markdown",
   "source": [
    "##### Searching the hyperparameters for bert w/C"
   ],
   "metadata": {
    "collapsed": false
   },
   "id": "669a93b6db152b24"
  },
  {
   "cell_type": "code",
   "execution_count": null,
   "outputs": [
    {
     "name": "stderr",
     "output_type": "stream",
     "text": [
      " 61%|██████    | 11/18 [3:28:35<2:43:24, 1400.61s/it]"
     ]
    }
   ],
   "source": [
    "if RUN_BERTONE_GRID_SEARCH:\n",
    "    hyperparameters_key_to_save = ['optimizer', 'pretrained_model_name_or_path', 'dropout_prob']\n",
    "    seeds = [69, 4, 21]\n",
    "    \n",
    "    weight_classes, = calculate_class_weights(train_labels_df)\n",
    "    criterion = Criterion('loss', loss_function=torch.nn.BCEWithLogitsLoss(weight=weight_classes, reduction='none'), reduction_function=torch.mean)\n",
    "    optimizers = [OptimizerWrapper(torch.optim.Adam, identifier=f'lr={10**i}', optimizer_partial_params={'lr':10 ** i}) for i in range(-5, -8, -1)]\n",
    "    early_stopper = EarlyStopper(monitor='F1_macro_avg', patience=4, delta=0, mode='max', restore_weights=True)\n",
    "    metrics = [[F1_Score_Multi_Labels('F1_macro_avg', num_labels=N_LABELS, num_classes=N_CLASSES)]] \n",
    "    \n",
    "\n",
    "    model_hyperparameters_to_test = [{'model_class': BertOne,\n",
    "                                      'dropout_prob': i,\n",
    "                                      'hidden_size': 768,\n",
    "                                      'pretrained_model_name_or_path': os.path.join(BERT_MODELS_DIRECTORY, version),\n",
    "                                      'bert_constructor': BERT_CONSTRUCTORS[version],\n",
    "                                     } for i in [0, 0.3, 0.5] for version in BERT_VERSIONS]\n",
    "    \n",
    "    training_hyperparameters_to_test = [{'num_epochs': 200,\n",
    "                                         'optimizer': opt,\n",
    "                                         'batch_size': BATCH_SIZE_C,\n",
    "                                         'criterion': criterion,\n",
    "                                         'metrics': metrics[0],\n",
    "                                         'early_stopper': early_stopper,\n",
    "                                         } for opt in optimizers]\n",
    "    \n",
    "    \n",
    "    partial_build_dataloader = partial(build_dataloader, \n",
    "                                       one_hot_mapping=CLASS_2_ONE_HOT,\n",
    "                                       model_input=MODEL_INPUTS['C'],\n",
    "                                       custom_dataset_builder=MODEL_DATASET_BUILDERS['C'],\n",
    "                                       batch_size=MODEL_BATCH_SIZES['C'])  \n",
    "    \n",
    "\n",
    "    grid_search_train_validation(train_data=(train_arg_df, train_labels_df),\n",
    "                                 val_data=(val_arg_df, val_labels_df),\n",
    "                                 dataloader_builder=partial_build_dataloader,\n",
    "                                 dataloader_parameters_unpacking_strategy=unpacking_dataloader_builder_parameters_strategy,\n",
    "                                 variable_dataloader_parameters=['pretrained_model_name_or_path', 'batch_size'],\n",
    "                                 shuffle=True,\n",
    "                                 model_hyperparameters_to_test=model_hyperparameters_to_test,\n",
    "                                 training_hyperparameters_to_test=training_hyperparameters_to_test,\n",
    "                                 hyperparameters_key_to_save=hyperparameters_key_to_save,\n",
    "                                 seeds=seeds,\n",
    "                                 device=device,\n",
    "                                 path_to_grid_search_results=BERTONE_GRID_SEARCH_RESULTS_PATH) \n",
    "                                 "
   ],
   "metadata": {
    "collapsed": false,
    "is_executing": true,
    "ExecuteTime": {
     "start_time": "2023-12-17T12:18:35.181497677Z"
    }
   },
   "id": "74ac5898e1d9685"
  },
  {
   "cell_type": "markdown",
   "source": [
    "##### Grid search results for bert w/C"
   ],
   "metadata": {
    "collapsed": false
   },
   "id": "b5b5fcca437f43c4"
  },
  {
   "cell_type": "code",
   "execution_count": 15,
   "outputs": [
    {
     "data": {
      "text/plain": "    hidden_size      optimizer  pretrained_model_name_or_path  mean_time  \\\n5           768  Adam lr=1e-05       bert_models/roberta-base    247.753   \n3           768  Adam lr=1e-05       bert_models/roberta-base    251.110   \n1           768  Adam lr=1e-05       bert_models/roberta-base    223.467   \n9           768  Adam lr=1e-06       bert_models/roberta-base    526.212   \n7           768  Adam lr=1e-06       bert_models/roberta-base    334.214   \n11          768  Adam lr=1e-06       bert_models/roberta-base    429.952   \n2           768  Adam lr=1e-05  bert_models/bert-base-uncased    312.710   \n4           768  Adam lr=1e-05  bert_models/bert-base-uncased    303.515   \n0           768  Adam lr=1e-05  bert_models/bert-base-uncased    234.973   \n6           768  Adam lr=1e-06  bert_models/bert-base-uncased    376.276   \n10          768  Adam lr=1e-06  bert_models/bert-base-uncased    363.836   \n8           768  Adam lr=1e-06  bert_models/bert-base-uncased    298.694   \n15          768  Adam lr=1e-07       bert_models/roberta-base    322.696   \n17          768  Adam lr=1e-07       bert_models/roberta-base    355.974   \n13          768  Adam lr=1e-07       bert_models/roberta-base    311.973   \n14          768  Adam lr=1e-07  bert_models/bert-base-uncased    802.780   \n12          768  Adam lr=1e-07  bert_models/bert-base-uncased    685.316   \n16          768  Adam lr=1e-07  bert_models/bert-base-uncased    352.824   \n\n    std_time  F1_macro_avg_train_mean  F1_macro_avg_train_std  \\\n5    100.259                 0.695055                0.009359   \n3     40.864                 0.700074                0.004538   \n1     68.336                 0.694482                0.007262   \n9    178.081                 0.693204                0.008179   \n7     55.516                 0.685973                0.008183   \n11   131.651                 0.682633                0.011238   \n2     55.525                 0.702546                0.004213   \n4     81.305                 0.698685                0.010572   \n0     54.231                 0.694593                0.009100   \n6     67.052                 0.676477                0.009050   \n10   109.795                 0.653757                0.024642   \n8     60.534                 0.647913                0.013067   \n15     0.186                 0.611826                0.003182   \n17    26.739                 0.613261                0.000122   \n13    15.118                 0.613290                0.000187   \n14   203.219                 0.629724                0.013835   \n12   203.194                 0.627792                0.013312   \n16   189.724                 0.488048                0.094962   \n\n    F1_macro_avg_val_mean  F1_macro_avg_val_std  \n5                0.665047              0.002546  \n3                0.659232              0.002329  \n1                0.658473              0.003444  \n9                0.657026              0.004140  \n7                0.656944              0.004170  \n11               0.655464              0.003932  \n2                0.649182              0.002071  \n4                0.645494              0.001993  \n0                0.645207              0.006020  \n6                0.631963              0.021034  \n10               0.627188              0.020809  \n8                0.625964              0.019097  \n15               0.619127              0.008467  \n17               0.618162              0.006457  \n13               0.617816              0.007529  \n14               0.611720              0.015598  \n12               0.609120              0.024897  \n16               0.488954              0.090208  ",
      "text/html": "<div>\n<style scoped>\n    .dataframe tbody tr th:only-of-type {\n        vertical-align: middle;\n    }\n\n    .dataframe tbody tr th {\n        vertical-align: top;\n    }\n\n    .dataframe thead th {\n        text-align: right;\n    }\n</style>\n<table border=\"1\" class=\"dataframe\">\n  <thead>\n    <tr style=\"text-align: right;\">\n      <th></th>\n      <th>hidden_size</th>\n      <th>optimizer</th>\n      <th>pretrained_model_name_or_path</th>\n      <th>mean_time</th>\n      <th>std_time</th>\n      <th>F1_macro_avg_train_mean</th>\n      <th>F1_macro_avg_train_std</th>\n      <th>F1_macro_avg_val_mean</th>\n      <th>F1_macro_avg_val_std</th>\n    </tr>\n  </thead>\n  <tbody>\n    <tr>\n      <th>5</th>\n      <td>768</td>\n      <td>Adam lr=1e-05</td>\n      <td>bert_models/roberta-base</td>\n      <td>247.753</td>\n      <td>100.259</td>\n      <td>0.695055</td>\n      <td>0.009359</td>\n      <td>0.665047</td>\n      <td>0.002546</td>\n    </tr>\n    <tr>\n      <th>3</th>\n      <td>768</td>\n      <td>Adam lr=1e-05</td>\n      <td>bert_models/roberta-base</td>\n      <td>251.110</td>\n      <td>40.864</td>\n      <td>0.700074</td>\n      <td>0.004538</td>\n      <td>0.659232</td>\n      <td>0.002329</td>\n    </tr>\n    <tr>\n      <th>1</th>\n      <td>768</td>\n      <td>Adam lr=1e-05</td>\n      <td>bert_models/roberta-base</td>\n      <td>223.467</td>\n      <td>68.336</td>\n      <td>0.694482</td>\n      <td>0.007262</td>\n      <td>0.658473</td>\n      <td>0.003444</td>\n    </tr>\n    <tr>\n      <th>9</th>\n      <td>768</td>\n      <td>Adam lr=1e-06</td>\n      <td>bert_models/roberta-base</td>\n      <td>526.212</td>\n      <td>178.081</td>\n      <td>0.693204</td>\n      <td>0.008179</td>\n      <td>0.657026</td>\n      <td>0.004140</td>\n    </tr>\n    <tr>\n      <th>7</th>\n      <td>768</td>\n      <td>Adam lr=1e-06</td>\n      <td>bert_models/roberta-base</td>\n      <td>334.214</td>\n      <td>55.516</td>\n      <td>0.685973</td>\n      <td>0.008183</td>\n      <td>0.656944</td>\n      <td>0.004170</td>\n    </tr>\n    <tr>\n      <th>11</th>\n      <td>768</td>\n      <td>Adam lr=1e-06</td>\n      <td>bert_models/roberta-base</td>\n      <td>429.952</td>\n      <td>131.651</td>\n      <td>0.682633</td>\n      <td>0.011238</td>\n      <td>0.655464</td>\n      <td>0.003932</td>\n    </tr>\n    <tr>\n      <th>2</th>\n      <td>768</td>\n      <td>Adam lr=1e-05</td>\n      <td>bert_models/bert-base-uncased</td>\n      <td>312.710</td>\n      <td>55.525</td>\n      <td>0.702546</td>\n      <td>0.004213</td>\n      <td>0.649182</td>\n      <td>0.002071</td>\n    </tr>\n    <tr>\n      <th>4</th>\n      <td>768</td>\n      <td>Adam lr=1e-05</td>\n      <td>bert_models/bert-base-uncased</td>\n      <td>303.515</td>\n      <td>81.305</td>\n      <td>0.698685</td>\n      <td>0.010572</td>\n      <td>0.645494</td>\n      <td>0.001993</td>\n    </tr>\n    <tr>\n      <th>0</th>\n      <td>768</td>\n      <td>Adam lr=1e-05</td>\n      <td>bert_models/bert-base-uncased</td>\n      <td>234.973</td>\n      <td>54.231</td>\n      <td>0.694593</td>\n      <td>0.009100</td>\n      <td>0.645207</td>\n      <td>0.006020</td>\n    </tr>\n    <tr>\n      <th>6</th>\n      <td>768</td>\n      <td>Adam lr=1e-06</td>\n      <td>bert_models/bert-base-uncased</td>\n      <td>376.276</td>\n      <td>67.052</td>\n      <td>0.676477</td>\n      <td>0.009050</td>\n      <td>0.631963</td>\n      <td>0.021034</td>\n    </tr>\n    <tr>\n      <th>10</th>\n      <td>768</td>\n      <td>Adam lr=1e-06</td>\n      <td>bert_models/bert-base-uncased</td>\n      <td>363.836</td>\n      <td>109.795</td>\n      <td>0.653757</td>\n      <td>0.024642</td>\n      <td>0.627188</td>\n      <td>0.020809</td>\n    </tr>\n    <tr>\n      <th>8</th>\n      <td>768</td>\n      <td>Adam lr=1e-06</td>\n      <td>bert_models/bert-base-uncased</td>\n      <td>298.694</td>\n      <td>60.534</td>\n      <td>0.647913</td>\n      <td>0.013067</td>\n      <td>0.625964</td>\n      <td>0.019097</td>\n    </tr>\n    <tr>\n      <th>15</th>\n      <td>768</td>\n      <td>Adam lr=1e-07</td>\n      <td>bert_models/roberta-base</td>\n      <td>322.696</td>\n      <td>0.186</td>\n      <td>0.611826</td>\n      <td>0.003182</td>\n      <td>0.619127</td>\n      <td>0.008467</td>\n    </tr>\n    <tr>\n      <th>17</th>\n      <td>768</td>\n      <td>Adam lr=1e-07</td>\n      <td>bert_models/roberta-base</td>\n      <td>355.974</td>\n      <td>26.739</td>\n      <td>0.613261</td>\n      <td>0.000122</td>\n      <td>0.618162</td>\n      <td>0.006457</td>\n    </tr>\n    <tr>\n      <th>13</th>\n      <td>768</td>\n      <td>Adam lr=1e-07</td>\n      <td>bert_models/roberta-base</td>\n      <td>311.973</td>\n      <td>15.118</td>\n      <td>0.613290</td>\n      <td>0.000187</td>\n      <td>0.617816</td>\n      <td>0.007529</td>\n    </tr>\n    <tr>\n      <th>14</th>\n      <td>768</td>\n      <td>Adam lr=1e-07</td>\n      <td>bert_models/bert-base-uncased</td>\n      <td>802.780</td>\n      <td>203.219</td>\n      <td>0.629724</td>\n      <td>0.013835</td>\n      <td>0.611720</td>\n      <td>0.015598</td>\n    </tr>\n    <tr>\n      <th>12</th>\n      <td>768</td>\n      <td>Adam lr=1e-07</td>\n      <td>bert_models/bert-base-uncased</td>\n      <td>685.316</td>\n      <td>203.194</td>\n      <td>0.627792</td>\n      <td>0.013312</td>\n      <td>0.609120</td>\n      <td>0.024897</td>\n    </tr>\n    <tr>\n      <th>16</th>\n      <td>768</td>\n      <td>Adam lr=1e-07</td>\n      <td>bert_models/bert-base-uncased</td>\n      <td>352.824</td>\n      <td>189.724</td>\n      <td>0.488048</td>\n      <td>0.094962</td>\n      <td>0.488954</td>\n      <td>0.090208</td>\n    </tr>\n  </tbody>\n</table>\n</div>"
     },
     "execution_count": 15,
     "metadata": {},
     "output_type": "execute_result"
    }
   ],
   "source": [
    "BertOne_grid_search_results_df = joblib.load(BERTONE_GRID_SEARCH_RESULTS_PATH)\n",
    "BertOne_grid_search_results_df = BertOne_grid_search_results_df.sort_values(by='F1_macro_avg_val_mean', ascending=False)\n",
    "\n",
    "BertOne_grid_search_results_df\n"
   ],
   "metadata": {
    "collapsed": false,
    "ExecuteTime": {
     "end_time": "2023-12-16T19:36:33.485376780Z",
     "start_time": "2023-12-16T19:36:33.442757475Z"
    }
   },
   "id": "e7f5b806f983523d"
  },
  {
   "cell_type": "markdown",
   "source": [
    "#### 4) Bert w/CP"
   ],
   "metadata": {
    "collapsed": false
   },
   "id": "813fade858d92531"
  },
  {
   "cell_type": "markdown",
   "source": [
    "##### Searching the hyperparameters for bert w/CP\n"
   ],
   "metadata": {
    "collapsed": false
   },
   "id": "575bb555ea3f198b"
  },
  {
   "cell_type": "code",
   "execution_count": null,
   "outputs": [],
   "source": [
    "if RUN_BERTWO_GRID_SEARCH:\n",
    "    hyperparameters_key_to_save = ['optimizer', 'pretrained_model_name_or_path', 'dropout_prob']\n",
    "    seeds = [69, 4, 21]\n",
    "    \n",
    "    weight_classes = calculate_class_weights(train_labels_df)\n",
    "    criterion = Criterion('loss', loss_function=torch.nn.BCEWithLogitsLoss(weight=weight_classes, reduction='none'), reduction_function=torch.mean)\n",
    "    optimizers = [OptimizerWrapper(torch.optim.Adam, identifier=f'lr={10**i}', optimizer_partial_params={'lr':10 ** i}) for i in range(-5, -8, -1)]\n",
    "    early_stopper = EarlyStopper(monitor='F1_macro_avg', patience=4, delta=0, mode='max', restore_weights=True)\n",
    "    metrics = [[F1_Score_Multi_Labels('F1_macro_avg', num_labels=N_LABELS, num_classes=N_CLASSES)]] \n",
    "    \n",
    "\n",
    "    model_hyperparameters_to_test = [{'model_class': BerTwo,\n",
    "                                      'dropout_prob': i,\n",
    "                                      'hidden_size': 768,\n",
    "                                      'pretrained_model_name_or_path': os.path.join(BERT_MODELS_DIRECTORY, version),\n",
    "                                      'bert_constructor': BERT_CONSTRUCTORS[version],\n",
    "                                     } for i in [0, 0.3, 0.5] for version in BERT_VERSIONS]\n",
    "    \n",
    "    training_hyperparameters_to_test = [{'num_epochs': 200,\n",
    "                                         'optimizer': opt,\n",
    "                                         'batch_size': BATCH_SIZE_CP,\n",
    "                                         'criterion': criterion,\n",
    "                                         'metrics': metrics[0],\n",
    "                                         'early_stopper': early_stopper,\n",
    "                                         } for opt in optimizers]\n",
    "    \n",
    "    \n",
    "    partial_build_dataloader = partial(build_dataloader, \n",
    "                                       one_hot_mapping=CLASS_2_ONE_HOT,\n",
    "                                       model_input=MODEL_INPUTS['CP'],\n",
    "                                       custom_dataset_builder=MODEL_DATASET_BUILDERS['CP'],\n",
    "                                       batch_size=MODEL_BATCH_SIZES['CP'])  \n",
    "   \n",
    "\n",
    "    grid_search_train_validation(train_data=(train_arg_df, train_labels_df),\n",
    "                                 val_data=(val_arg_df, val_labels_df),\n",
    "                                 dataloader_builder=partial_build_dataloader,\n",
    "                                 dataloader_parameters_unpacking_strategy=unpacking_dataloader_builder_parameters_strategy,\n",
    "                                 variable_dataloader_parameters=['pretrained_model_name_or_path', 'batch_size'],\n",
    "                                 shuffle=True,\n",
    "                                 model_hyperparameters_to_test=model_hyperparameters_to_test,\n",
    "                                 training_hyperparameters_to_test=training_hyperparameters_to_test,\n",
    "                                 hyperparameters_key_to_save=hyperparameters_key_to_save,\n",
    "                                 seeds=seeds,\n",
    "                                 device=device,\n",
    "                                 path_to_grid_search_results=BERTWO_GRID_SEARCH_RESULTS_PATH) \n",
    "                                 "
   ],
   "metadata": {
    "collapsed": false
   },
   "id": "9ebe6df698f5232d"
  },
  {
   "cell_type": "markdown",
   "source": [
    "##### Grid search results for bert w/CP\n"
   ],
   "metadata": {
    "collapsed": false
   },
   "id": "44918c102d4327e8"
  },
  {
   "cell_type": "code",
   "execution_count": null,
   "outputs": [],
   "source": [
    "BerTwo_grid_search_results_df = joblib.load(BERTWO_GRID_SEARCH_RESULTS_PATH)\n",
    "BerTwo_grid_search_results_df = BerTwo_grid_search_results_df.sort_values(by='F1_macro_val_mean', ascending=False)\n",
    "BerTwo_grid_search_results_df\n"
   ],
   "metadata": {
    "collapsed": false
   },
   "id": "9cf9b57fb79d2ec7"
  },
  {
   "cell_type": "markdown",
   "source": [
    "#### 5) Bert w/CPS"
   ],
   "metadata": {
    "collapsed": false
   },
   "id": "93b760d270f05f86"
  },
  {
   "cell_type": "markdown",
   "source": [
    "##### Searching the hyperparameters for bert w/C\n"
   ],
   "metadata": {
    "collapsed": false
   },
   "id": "5d051e80700d255c"
  },
  {
   "cell_type": "code",
   "execution_count": null,
   "outputs": [],
   "source": [
    "if RUN_BERTWO_GRID_SEARCH:\n",
    "    hyperparameters_key_to_save = ['optimizer', 'pretrained_model_name_or_path', 'dropout_prob']\n",
    "    seeds = [69, 4, 21]\n",
    "    \n",
    "    weight_classes = calculate_class_weights(train_labels_df)\n",
    "    criterion = Criterion('loss', loss_function=torch.nn.BCEWithLogitsLoss(weight=weight_classes, reduction='none'), reduction_function=torch.mean)\n",
    "    optimizers = [OptimizerWrapper(torch.optim.Adam, identifier=f'lr={10**i}', optimizer_partial_params={'lr':10 ** i}) for i in range(-5, -8, -1)]\n",
    "    early_stopper = EarlyStopper(monitor='F1_macro_avg', patience=4, delta=0, mode='max', restore_weights=True)\n",
    "    metrics = [[F1_Score_Multi_Labels('F1_macro_avg', num_labels=N_LABELS, num_classes=N_CLASSES)]] \n",
    "    \n",
    "\n",
    "    model_hyperparameters_to_test = [{'model_class': BerThree,\n",
    "                                      'dropout_prob': i,\n",
    "                                      'hidden_size': 768,\n",
    "                                      'pretrained_model_name_or_path': os.path.join(BERT_MODELS_DIRECTORY, version),\n",
    "                                      'bert_constructor': BERT_CONSTRUCTORS[version],\n",
    "                                     } for i in [0, 0.3, 0.5] for version in BERT_VERSIONS]\n",
    "    \n",
    "    training_hyperparameters_to_test = [{'num_epochs': 200,\n",
    "                                         'optimizer': opt,\n",
    "                                         'batch_size': BATCH_SIZE_CPS,\n",
    "                                         'criterion': criterion,\n",
    "                                         'metrics': metrics[0],\n",
    "                                         'early_stopper': early_stopper,\n",
    "                                         } for opt in optimizers]\n",
    "    \n",
    "    \n",
    "    partial_build_dataloader = partial(build_dataloader, \n",
    "                                       one_hot_mapping=CLASS_2_ONE_HOT,\n",
    "                                       model_input=MODEL_INPUTS['CPS'],\n",
    "                                       custom_dataset_builder=MODEL_DATASET_BUILDERS['CPS'],\n",
    "                                       batch_size=MODEL_BATCH_SIZES['CPS'])  \n",
    "    \n",
    "\n",
    "    grid_search_train_validation(train_data=(train_arg_df, train_labels_df),\n",
    "                                 val_data=(val_arg_df, val_labels_df),\n",
    "                                 dataloader_builder=partial_build_dataloader,\n",
    "                                 dataloader_parameters_unpacking_strategy=unpacking_dataloader_builder_parameters_strategy(),\n",
    "                                 variable_dataloader_parameters=['pretrained_model_name_or_path', 'batch_size'],\n",
    "                                 shuffle=True,\n",
    "                                 model_hyperparameters_to_test=model_hyperparameters_to_test,\n",
    "                                 training_hyperparameters_to_test=training_hyperparameters_to_test,\n",
    "                                 hyperparameters_key_to_save=hyperparameters_key_to_save,\n",
    "                                 seeds=seeds,\n",
    "                                 device=device,\n",
    "                                 path_to_grid_search_results=BERTHREE_GRID_SEARCH_RESULTS_PATH) \n",
    "                                 "
   ],
   "metadata": {
    "collapsed": false
   },
   "id": "e4074e6be2c6c988"
  },
  {
   "cell_type": "markdown",
   "source": [
    "##### Grid search results for bert w/C\n"
   ],
   "metadata": {
    "collapsed": false
   },
   "id": "811d125a35cbbcaa"
  },
  {
   "cell_type": "code",
   "execution_count": null,
   "outputs": [],
   "source": [
    "BerThree_grid_search_results_df = joblib.load(BERTHREE_GRID_SEARCH_RESULTS_PATH)\n",
    "BerThree_grid_search_results_df = BerThree_grid_search_results_df.sort_values(by='F1_macro_val_mean', ascending=False)\n",
    "BerThree_grid_search_results_df\n"
   ],
   "metadata": {
    "collapsed": false
   },
   "id": "c9d549332eb29d90"
  },
  {
   "cell_type": "markdown",
   "source": [
    "##### Extracting the best hyperparameters for our models"
   ],
   "metadata": {
    "collapsed": false
   },
   "id": "c7cbc22d81ddc419"
  },
  {
   "cell_type": "code",
   "execution_count": null,
   "outputs": [],
   "source": [
    "best_hyperparameters_bertOne = BertOne_grid_search_results_df.iloc[0].copy()\n",
    "best_hyperparameters_berTwo = BerTwo_grid_search_results_df.iloc[0].copy()\n",
    "best_hyperparameters_berThree = BerThree_grid_search_results_df.iloc[0].copy()\n",
    "\n",
    "best_hyperparameters_bertOne['source'] = 'bertOne'\n",
    "best_hyperparameters_berTwo['source'] = 'berTwo'\n",
    "best_hyperparameters_berTwo['source'] = 'berThree'\n",
    "\n",
    "best_hyperparameters_df = pd.concat([best_hyperparameters_bertOne, best_hyperparameters_berTwo, best_hyperparameters_berThree], \n",
    "                                    ignore_index=True, \n",
    "                                    axis=1).T\n",
    "best_hyperparameters_df.set_index('source', inplace=True)\n",
    "\n",
    "best_hyperparameters_df\n",
    "\n"
   ],
   "metadata": {
    "collapsed": false
   },
   "id": "25f02eb985a65940"
  },
  {
   "cell_type": "code",
   "execution_count": null,
   "outputs": [],
   "source": [
    "#------------------------------------------------------------"
   ],
   "metadata": {
    "collapsed": false
   },
   "id": "c3410c4fa1b41293"
  },
  {
   "cell_type": "code",
   "execution_count": null,
   "outputs": [],
   "source": [
    "if FIT_BERTONE:\n",
    "    optimizer_test = OptimizerWrapper(torch.optim.Adam, identifier=f'lr={1e-5}', optimizer_partial_params={'lr': 1e-5})       \n",
    "    \n",
    "    weights_tensor = calculate_class_weights(train_labels_df)\n",
    "    criterion_test = Criterion('loss', loss_function=torch.nn.BCEWithLogitsLoss(weight=weights_tensor, reduction='none'), reduction_function=torch.mean)\n",
    "    \n",
    "    bert1 = BertOne(dropout_prob=0.3, hidden_size= 768, pretrained_model_name_or_path='roberta-base', bert_constructor=transformers.RobertaModel).to(device)\n",
    "    \n",
    "    bert1_history = bert1.fit(train_loader=dataloaders['roberta-base']['C']['train'], \n",
    "                              val_loader=dataloaders['roberta-base']['C']['val'], \n",
    "                              criterion=criterion_test, \n",
    "                              metrics=[F1_Score_Multi_Labels('F1_macro_avg', num_labels=N_LABELS, num_classes=N_CLASSES)], \n",
    "                              optimizer=optimizer_test,\n",
    "                              early_stopper=EarlyStopper(monitor='F1_macro_avg', patience=4, delta=0, mode='max', restore_weights=True),\n",
    "                              num_epochs=200)\n",
    "\n"
   ],
   "metadata": {
    "collapsed": false
   },
   "id": "8b78722a2c324448"
  },
  {
   "cell_type": "code",
   "execution_count": 11,
   "outputs": [],
   "source": [
    "if FIT_BERTWO:\n",
    "    optimizer_test = OptimizerWrapper(torch.optim.Adam, identifier=f'lr={1e-5}', optimizer_partial_params={'lr': 1e-5})          \n",
    "   \n",
    "    weights_tensor = calculate_class_weights(train_labels_df)\n",
    "    criterion_test = Criterion('loss', loss_function=torch.nn.BCEWithLogitsLoss(weight=weights_tensor, reduction='none'), reduction_function=torch.mean)\n",
    "    \n",
    "    bert2 = BerTwo(dropout_prob=0.3, hidden_size= 768, pretrained_model_name_or_path='roberta-base', bert_constructor=transformers.RobertaModel).to(device)\n",
    "    \n",
    "    bert2_history = bert2.fit(train_loader=dataloaders['roberta-base']['CP']['train'], \n",
    "                              val_loader=dataloaders['roberta-base']['CP']['val'], \n",
    "                              criterion=criterion_test, \n",
    "                              metrics=[F1_Score_Multi_Labels('F1_macro_avg', num_labels=N_LABELS, num_classes=N_CLASSES)], \n",
    "                              optimizer=optimizer_test,\n",
    "                              early_stopper=EarlyStopper(monitor='F1_macro_avg', patience=4, delta=0, mode='max', restore_weights=True),\n",
    "                              num_epochs=200)\n",
    "    "
   ],
   "metadata": {
    "collapsed": false,
    "ExecuteTime": {
     "start_time": "2023-12-14T10:50:59.207591489Z"
    }
   },
   "id": "a536ac48aad19715"
  },
  {
   "cell_type": "code",
   "execution_count": 12,
   "outputs": [
    {
     "name": "stdout",
     "output_type": "stream",
     "text": [
      " Epoch: 1/10 Iterations: 675/675 Time: 228.165s - loss: 0.631562829017639 - F1_macro_avg: 0.640598583937364 - val_loss: 0.65085756778717 - val_F1_macro_avg: 0.616415056308666 \n",
      " Epoch: 2/10 Iterations: 675/675 Time: 228.55s - loss: 0.611115515232086 - F1_macro_avg: 0.669361836044251 - val_loss: 0.644732236862183 - val_F1_macro_avg: 0.634359010870163 \n",
      " Epoch: 3/10 Iterations: 675/675 Time: 228.407s - loss: 0.596520721912384 - F1_macro_avg: 0.679985521111272 - val_loss: 0.636972665786743 - val_F1_macro_avg: 0.6456911217218 \n",
      " Epoch: 4/10 Iterations: 675/675 Time: 228.656s - loss: 0.579547941684723 - F1_macro_avg: 0.696843100072342 - val_loss: 0.627235233783722 - val_F1_macro_avg: 0.661217992450717 \n",
      " Epoch: 5/10 Iterations: 675/675 Time: 228.371s - loss: 0.564381182193756 - F1_macro_avg: 0.714298124304912 - val_loss: 0.617979526519775 - val_F1_macro_avg: 0.668093739867831 \n",
      " Epoch: 6/10 Iterations: 675/675 Time: 228.747s - loss: 0.551492869853973 - F1_macro_avg: 0.726471985758013 - val_loss: 0.611268401145935 - val_F1_macro_avg: 0.674012523523599 \n",
      " Epoch: 7/10 Iterations: 675/675 Time: 228.066s - loss: 0.539132654666901 - F1_macro_avg: 0.734391225981855 - val_loss: 0.60308837890625 - val_F1_macro_avg: 0.681822545967382 \n",
      " Epoch: 8/10 Iterations: 675/675 Time: 227.913s - loss: 0.525117814540863 - F1_macro_avg: 0.747313751412253 - val_loss: 0.598557770252228 - val_F1_macro_avg: 0.678694562165612 \n",
      " Epoch: 9/10 Iterations: 675/675 Time: 227.916s - loss: 0.512862384319305 - F1_macro_avg: 0.754784473293289 - val_loss: 0.593657076358795 - val_F1_macro_avg: 0.684744573118765 \n",
      " Epoch: 10/10 Iterations: 675/675 Time: 227.703s - loss: 0.502092182636261 - F1_macro_avg: 0.763144189654648 - val_loss: 0.590525209903717 - val_F1_macro_avg: 0.688258178050131 \n",
      "Train Completed\n"
     ]
    }
   ],
   "source": [
    "if FIT_BERTHREE:\n",
    "    optimizer_test = OptimizerWrapper(torch.optim.Adam, identifier=f'lr={1e-5}', optimizer_partial_params={'lr': 1e-5})          \n",
    "    \n",
    "    weights_tensor = calculate_class_weights(train_labels_df)\n",
    "    criterion_test = Criterion('loss', loss_function=torch.nn.BCEWithLogitsLoss(weight=weights_tensor, reduction='none'), reduction_function=torch.mean)\n",
    "    \n",
    "    bert3 = BerThree(dropout_prob=0.3, hidden_size= 768, pretrained_model_name_or_path='roberta-base', bert_constructor=transformers.RobertaModel).to(device)\n",
    "    \n",
    "    bert3_history = bert3.fit(train_loader=dataloaders['roberta-base']['CPS']['train'], \n",
    "                              val_loader=dataloaders['roberta-base']['CPS']['val'], \n",
    "                              criterion=criterion_test, \n",
    "                              metrics=[F1_Score_Multi_Labels('F1_macro_avg', num_labels=N_LABELS, num_classes=N_CLASSES)], \n",
    "                              optimizer=optimizer_test,\n",
    "                              early_stopper=EarlyStopper(monitor='F1_macro_avg', patience=4, delta=0, mode='max', restore_weights=True),\n",
    "                              num_epochs=200)\n",
    "    "
   ],
   "metadata": {
    "collapsed": false,
    "ExecuteTime": {
     "start_time": "2023-12-14T10:50:59.208028001Z"
    }
   },
   "id": "7d9e8beeda8c26f9"
  }
 ],
 "metadata": {
  "kernelspec": {
   "display_name": "Python 3",
   "language": "python",
   "name": "python3"
  },
  "language_info": {
   "codemirror_mode": {
    "name": "ipython",
    "version": 3
   },
   "file_extension": ".py",
   "mimetype": "text/x-python",
   "name": "python",
   "nbconvert_exporter": "python",
   "pygments_lexer": "ipython3",
   "version": "3.11.6"
  }
 },
 "nbformat": 4,
 "nbformat_minor": 5
}
