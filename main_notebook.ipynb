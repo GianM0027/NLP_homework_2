{
 "cells": [
  {
   "cell_type": "markdown",
   "id": "ebfa8f6058f07c39",
   "metadata": {
    "collapsed": false
   },
   "source": [
    "# Human Value Detection"
   ]
  },
  {
   "cell_type": "markdown",
   "id": "f47fe4c58990df29",
   "metadata": {
    "collapsed": false
   },
   "source": [
    "## Imports"
   ]
  },
  {
   "cell_type": "code",
   "execution_count": 1,
   "id": "9e9333223475180",
   "metadata": {
    "ExecuteTime": {
     "end_time": "2023-12-09T21:15:31.701235400Z",
     "start_time": "2023-12-09T21:15:19.452993Z"
    },
    "collapsed": false
   },
   "outputs": [
    {
     "name": "stderr",
     "output_type": "stream",
     "text": [
      "c:\\Users\\giaco\\AppData\\Local\\Programs\\Python\\Python311\\Lib\\site-packages\\tqdm\\auto.py:21: TqdmWarning: IProgress not found. Please update jupyter and ipywidgets. See https://ipywidgets.readthedocs.io/en/stable/user_install.html\n",
      "  from .autonotebook import tqdm as notebook_tqdm\n"
     ]
    }
   ],
   "source": [
    "%load_ext autoreload\n",
    "%autoreload 2\n",
    "\n",
    "from utilities import *\n",
    "from models.bertOne import BertOne\n",
    "\n",
    "from sklearn.metrics import accuracy_score, f1_score, multilabel_confusion_matrix\n",
    "from models.randomUniformClassifier import RandomUniformClassifier\n",
    "from models.majorityCalssifier import MajorityClassifier\n",
    "\n",
    "from transformers import AutoTokenizer\n",
    "\n",
    "from drTorch.callbacks import EarlyStopper\n",
    "\n",
    "from drTorch.metrics import F1_Score\n",
    "from drTorch.utilities import *\n",
    "from drTorch.wrappers import OptimizerWrapper\n",
    "from drTorch.wrappers import Criterion\n",
    "\n",
    "import numpy as np\n",
    "import torch\n",
    "import pandas as pd\n"
   ]
  },
  {
   "cell_type": "code",
   "execution_count": 2,
   "id": "29dcff5a5f7bfb48",
   "metadata": {
    "ExecuteTime": {
     "end_time": "2023-12-09T21:15:34.274841800Z",
     "start_time": "2023-12-09T21:15:32.813990Z"
    },
    "collapsed": false
   },
   "outputs": [
    {
     "name": "stdout",
     "output_type": "stream",
     "text": [
      "Device: cpu\n"
     ]
    }
   ],
   "source": [
    "device = torch.device('cuda' if torch.cuda.is_available() else 'cpu') \n",
    "print('Device: %s' % device)\n"
   ]
  },
  {
   "cell_type": "markdown",
   "id": "9f2553b6aeb5c7f9",
   "metadata": {
    "collapsed": false
   },
   "source": []
  },
  {
   "cell_type": "markdown",
   "id": "ef2ee4b05f9169d2",
   "metadata": {
    "collapsed": false
   },
   "source": [
    "## Defining constants and flags"
   ]
  },
  {
   "cell_type": "code",
   "execution_count": 3,
   "id": "eb44f1708144b43a",
   "metadata": {
    "ExecuteTime": {
     "end_time": "2023-12-09T21:15:35.640894800Z",
     "start_time": "2023-12-09T21:15:35.399451100Z"
    },
    "collapsed": false
   },
   "outputs": [],
   "source": [
    "# PATHS AND DATAFRAME CREATION\n",
    "DATA_DIR = \"data\"\n",
    "ARGUMENTS_DIR = os.path.join(DATA_DIR, \"arguments\")\n",
    "LABELS_DIR = os.path.join(DATA_DIR, \"labels\")\n",
    "\n",
    "# CONSTANTS \n",
    "N_LABELS = 4\n",
    "N_CLASSES = 2\n",
    "BATCH_SIZE = 32\n",
    "#os.environ[\"TOKENIZERS_PARALLELISM\"] = \"true\"\n",
    "\n",
    "CLASS_2_ONE_HOT = {class_label: np.eye(N_CLASSES)[i].astype(float).tolist() for i, class_label in enumerate(range(N_CLASSES))}\n"
   ]
  },
  {
   "cell_type": "markdown",
   "id": "32a409b1e982e3dd",
   "metadata": {
    "collapsed": false
   },
   "source": [
    "## Task 1"
   ]
  },
  {
   "cell_type": "markdown",
   "id": "3723181a1d5f1aad",
   "metadata": {
    "collapsed": false
   },
   "source": [
    "### Visualizing the data"
   ]
  },
  {
   "cell_type": "code",
   "execution_count": 4,
   "id": "910abdb6bbf8ee01",
   "metadata": {
    "ExecuteTime": {
     "end_time": "2023-12-09T21:15:39.345908800Z",
     "start_time": "2023-12-09T21:15:38.700779100Z"
    },
    "collapsed": false
   },
   "outputs": [
    {
     "name": "stdout",
     "output_type": "stream",
     "text": [
      "Let's visualize the data: \n"
     ]
    },
    {
     "data": {
      "text/html": [
       "<div>\n",
       "<style scoped>\n",
       "    .dataframe tbody tr th:only-of-type {\n",
       "        vertical-align: middle;\n",
       "    }\n",
       "\n",
       "    .dataframe tbody tr th {\n",
       "        vertical-align: top;\n",
       "    }\n",
       "\n",
       "    .dataframe thead th {\n",
       "        text-align: right;\n",
       "    }\n",
       "</style>\n",
       "<table border=\"1\" class=\"dataframe\">\n",
       "  <thead>\n",
       "    <tr style=\"text-align: right;\">\n",
       "      <th></th>\n",
       "      <th>Conclusion</th>\n",
       "      <th>Stance</th>\n",
       "      <th>Premise</th>\n",
       "    </tr>\n",
       "    <tr>\n",
       "      <th>Argument ID</th>\n",
       "      <th></th>\n",
       "      <th></th>\n",
       "      <th></th>\n",
       "    </tr>\n",
       "  </thead>\n",
       "  <tbody>\n",
       "    <tr>\n",
       "      <th>A01002</th>\n",
       "      <td>We should ban human cloning</td>\n",
       "      <td>in favor of</td>\n",
       "      <td>we should ban human cloning as it will only ca...</td>\n",
       "    </tr>\n",
       "    <tr>\n",
       "      <th>A01005</th>\n",
       "      <td>We should ban fast food</td>\n",
       "      <td>in favor of</td>\n",
       "      <td>fast food should be banned because it is reall...</td>\n",
       "    </tr>\n",
       "    <tr>\n",
       "      <th>A01006</th>\n",
       "      <td>We should end the use of economic sanctions</td>\n",
       "      <td>against</td>\n",
       "      <td>sometimes economic sanctions are the only thin...</td>\n",
       "    </tr>\n",
       "    <tr>\n",
       "      <th>A01007</th>\n",
       "      <td>We should abolish capital punishment</td>\n",
       "      <td>against</td>\n",
       "      <td>capital punishment is sometimes the only optio...</td>\n",
       "    </tr>\n",
       "    <tr>\n",
       "      <th>A01008</th>\n",
       "      <td>We should ban factory farming</td>\n",
       "      <td>against</td>\n",
       "      <td>factory farming allows for the production of c...</td>\n",
       "    </tr>\n",
       "  </tbody>\n",
       "</table>\n",
       "</div>"
      ],
      "text/plain": [
       "                                              Conclusion       Stance  \\\n",
       "Argument ID                                                             \n",
       "A01002                       We should ban human cloning  in favor of   \n",
       "A01005                           We should ban fast food  in favor of   \n",
       "A01006       We should end the use of economic sanctions      against   \n",
       "A01007              We should abolish capital punishment      against   \n",
       "A01008                     We should ban factory farming      against   \n",
       "\n",
       "                                                       Premise  \n",
       "Argument ID                                                     \n",
       "A01002       we should ban human cloning as it will only ca...  \n",
       "A01005       fast food should be banned because it is reall...  \n",
       "A01006       sometimes economic sanctions are the only thin...  \n",
       "A01007       capital punishment is sometimes the only optio...  \n",
       "A01008       factory farming allows for the production of c...  "
      ]
     },
     "metadata": {},
     "output_type": "display_data"
    },
    {
     "data": {
      "text/html": [
       "<div>\n",
       "<style scoped>\n",
       "    .dataframe tbody tr th:only-of-type {\n",
       "        vertical-align: middle;\n",
       "    }\n",
       "\n",
       "    .dataframe tbody tr th {\n",
       "        vertical-align: top;\n",
       "    }\n",
       "\n",
       "    .dataframe thead th {\n",
       "        text-align: right;\n",
       "    }\n",
       "</style>\n",
       "<table border=\"1\" class=\"dataframe\">\n",
       "  <thead>\n",
       "    <tr style=\"text-align: right;\">\n",
       "      <th></th>\n",
       "      <th>Self-direction: thought</th>\n",
       "      <th>Self-direction: action</th>\n",
       "      <th>Stimulation</th>\n",
       "      <th>Hedonism</th>\n",
       "      <th>Achievement</th>\n",
       "      <th>Power: dominance</th>\n",
       "      <th>Power: resources</th>\n",
       "      <th>Face</th>\n",
       "      <th>Security: personal</th>\n",
       "      <th>Security: societal</th>\n",
       "      <th>Tradition</th>\n",
       "      <th>Conformity: rules</th>\n",
       "      <th>Conformity: interpersonal</th>\n",
       "      <th>Humility</th>\n",
       "      <th>Benevolence: caring</th>\n",
       "      <th>Benevolence: dependability</th>\n",
       "      <th>Universalism: concern</th>\n",
       "      <th>Universalism: nature</th>\n",
       "      <th>Universalism: tolerance</th>\n",
       "      <th>Universalism: objectivity</th>\n",
       "    </tr>\n",
       "    <tr>\n",
       "      <th>Argument ID</th>\n",
       "      <th></th>\n",
       "      <th></th>\n",
       "      <th></th>\n",
       "      <th></th>\n",
       "      <th></th>\n",
       "      <th></th>\n",
       "      <th></th>\n",
       "      <th></th>\n",
       "      <th></th>\n",
       "      <th></th>\n",
       "      <th></th>\n",
       "      <th></th>\n",
       "      <th></th>\n",
       "      <th></th>\n",
       "      <th></th>\n",
       "      <th></th>\n",
       "      <th></th>\n",
       "      <th></th>\n",
       "      <th></th>\n",
       "      <th></th>\n",
       "    </tr>\n",
       "  </thead>\n",
       "  <tbody>\n",
       "    <tr>\n",
       "      <th>A01002</th>\n",
       "      <td>0</td>\n",
       "      <td>0</td>\n",
       "      <td>0</td>\n",
       "      <td>0</td>\n",
       "      <td>0</td>\n",
       "      <td>0</td>\n",
       "      <td>0</td>\n",
       "      <td>0</td>\n",
       "      <td>0</td>\n",
       "      <td>1</td>\n",
       "      <td>0</td>\n",
       "      <td>0</td>\n",
       "      <td>0</td>\n",
       "      <td>0</td>\n",
       "      <td>0</td>\n",
       "      <td>0</td>\n",
       "      <td>0</td>\n",
       "      <td>0</td>\n",
       "      <td>0</td>\n",
       "      <td>0</td>\n",
       "    </tr>\n",
       "    <tr>\n",
       "      <th>A01005</th>\n",
       "      <td>0</td>\n",
       "      <td>0</td>\n",
       "      <td>0</td>\n",
       "      <td>0</td>\n",
       "      <td>0</td>\n",
       "      <td>0</td>\n",
       "      <td>0</td>\n",
       "      <td>0</td>\n",
       "      <td>1</td>\n",
       "      <td>0</td>\n",
       "      <td>0</td>\n",
       "      <td>0</td>\n",
       "      <td>0</td>\n",
       "      <td>0</td>\n",
       "      <td>0</td>\n",
       "      <td>0</td>\n",
       "      <td>0</td>\n",
       "      <td>0</td>\n",
       "      <td>0</td>\n",
       "      <td>0</td>\n",
       "    </tr>\n",
       "    <tr>\n",
       "      <th>A01006</th>\n",
       "      <td>0</td>\n",
       "      <td>0</td>\n",
       "      <td>0</td>\n",
       "      <td>0</td>\n",
       "      <td>0</td>\n",
       "      <td>1</td>\n",
       "      <td>0</td>\n",
       "      <td>0</td>\n",
       "      <td>0</td>\n",
       "      <td>1</td>\n",
       "      <td>0</td>\n",
       "      <td>0</td>\n",
       "      <td>0</td>\n",
       "      <td>0</td>\n",
       "      <td>0</td>\n",
       "      <td>0</td>\n",
       "      <td>0</td>\n",
       "      <td>0</td>\n",
       "      <td>0</td>\n",
       "      <td>0</td>\n",
       "    </tr>\n",
       "    <tr>\n",
       "      <th>A01007</th>\n",
       "      <td>0</td>\n",
       "      <td>0</td>\n",
       "      <td>0</td>\n",
       "      <td>0</td>\n",
       "      <td>0</td>\n",
       "      <td>0</td>\n",
       "      <td>0</td>\n",
       "      <td>0</td>\n",
       "      <td>0</td>\n",
       "      <td>1</td>\n",
       "      <td>0</td>\n",
       "      <td>1</td>\n",
       "      <td>0</td>\n",
       "      <td>0</td>\n",
       "      <td>0</td>\n",
       "      <td>0</td>\n",
       "      <td>1</td>\n",
       "      <td>0</td>\n",
       "      <td>0</td>\n",
       "      <td>0</td>\n",
       "    </tr>\n",
       "    <tr>\n",
       "      <th>A01008</th>\n",
       "      <td>0</td>\n",
       "      <td>0</td>\n",
       "      <td>0</td>\n",
       "      <td>0</td>\n",
       "      <td>0</td>\n",
       "      <td>0</td>\n",
       "      <td>0</td>\n",
       "      <td>0</td>\n",
       "      <td>1</td>\n",
       "      <td>0</td>\n",
       "      <td>0</td>\n",
       "      <td>0</td>\n",
       "      <td>0</td>\n",
       "      <td>0</td>\n",
       "      <td>1</td>\n",
       "      <td>0</td>\n",
       "      <td>1</td>\n",
       "      <td>0</td>\n",
       "      <td>0</td>\n",
       "      <td>0</td>\n",
       "    </tr>\n",
       "  </tbody>\n",
       "</table>\n",
       "</div>"
      ],
      "text/plain": [
       "             Self-direction: thought  Self-direction: action  Stimulation  \\\n",
       "Argument ID                                                                 \n",
       "A01002                             0                       0            0   \n",
       "A01005                             0                       0            0   \n",
       "A01006                             0                       0            0   \n",
       "A01007                             0                       0            0   \n",
       "A01008                             0                       0            0   \n",
       "\n",
       "             Hedonism  Achievement  Power: dominance  Power: resources  Face  \\\n",
       "Argument ID                                                                    \n",
       "A01002              0            0                 0                 0     0   \n",
       "A01005              0            0                 0                 0     0   \n",
       "A01006              0            0                 1                 0     0   \n",
       "A01007              0            0                 0                 0     0   \n",
       "A01008              0            0                 0                 0     0   \n",
       "\n",
       "             Security: personal  Security: societal  Tradition  \\\n",
       "Argument ID                                                      \n",
       "A01002                        0                   1          0   \n",
       "A01005                        1                   0          0   \n",
       "A01006                        0                   1          0   \n",
       "A01007                        0                   1          0   \n",
       "A01008                        1                   0          0   \n",
       "\n",
       "             Conformity: rules  Conformity: interpersonal  Humility  \\\n",
       "Argument ID                                                           \n",
       "A01002                       0                          0         0   \n",
       "A01005                       0                          0         0   \n",
       "A01006                       0                          0         0   \n",
       "A01007                       1                          0         0   \n",
       "A01008                       0                          0         0   \n",
       "\n",
       "             Benevolence: caring  Benevolence: dependability  \\\n",
       "Argument ID                                                    \n",
       "A01002                         0                           0   \n",
       "A01005                         0                           0   \n",
       "A01006                         0                           0   \n",
       "A01007                         0                           0   \n",
       "A01008                         1                           0   \n",
       "\n",
       "             Universalism: concern  Universalism: nature  \\\n",
       "Argument ID                                                \n",
       "A01002                           0                     0   \n",
       "A01005                           0                     0   \n",
       "A01006                           0                     0   \n",
       "A01007                           1                     0   \n",
       "A01008                           1                     0   \n",
       "\n",
       "             Universalism: tolerance  Universalism: objectivity  \n",
       "Argument ID                                                      \n",
       "A01002                             0                          0  \n",
       "A01005                             0                          0  \n",
       "A01006                             0                          0  \n",
       "A01007                             0                          0  \n",
       "A01008                             0                          0  "
      ]
     },
     "metadata": {},
     "output_type": "display_data"
    }
   ],
   "source": [
    "# convert files in dataframes\n",
    "train_arg_df, val_arg_df, test_arg_df = create_dfs(ARGUMENTS_DIR)\n",
    "train_labels_df, val_labels_df, test_labels_df = create_dfs(LABELS_DIR)\n",
    "\n",
    "print(\"Let's visualize the data: \")\n",
    "display(train_arg_df.head(5))\n",
    "display(train_labels_df.head(5))\n"
   ]
  },
  {
   "cell_type": "markdown",
   "id": "f2f8c631fc728aa8",
   "metadata": {
    "collapsed": false
   },
   "source": [
    "### Mapping labels to level-3 categories"
   ]
  },
  {
   "cell_type": "code",
   "execution_count": 5,
   "id": "998d8c9bd76a90f4",
   "metadata": {
    "ExecuteTime": {
     "end_time": "2023-12-09T21:15:48.663838300Z",
     "start_time": "2023-12-09T21:15:42.528782Z"
    },
    "collapsed": false
   },
   "outputs": [
    {
     "name": "stdout",
     "output_type": "stream",
     "text": [
      "The training labels after the mapping are the following: \n"
     ]
    },
    {
     "data": {
      "text/html": [
       "<div>\n",
       "<style scoped>\n",
       "    .dataframe tbody tr th:only-of-type {\n",
       "        vertical-align: middle;\n",
       "    }\n",
       "\n",
       "    .dataframe tbody tr th {\n",
       "        vertical-align: top;\n",
       "    }\n",
       "\n",
       "    .dataframe thead th {\n",
       "        text-align: right;\n",
       "    }\n",
       "</style>\n",
       "<table border=\"1\" class=\"dataframe\">\n",
       "  <thead>\n",
       "    <tr style=\"text-align: right;\">\n",
       "      <th></th>\n",
       "      <th>Openess_to_change</th>\n",
       "      <th>Self_enhancement</th>\n",
       "      <th>Conservation</th>\n",
       "      <th>Self_transcendence</th>\n",
       "    </tr>\n",
       "    <tr>\n",
       "      <th>Argument ID</th>\n",
       "      <th></th>\n",
       "      <th></th>\n",
       "      <th></th>\n",
       "      <th></th>\n",
       "    </tr>\n",
       "  </thead>\n",
       "  <tbody>\n",
       "    <tr>\n",
       "      <th>A01002</th>\n",
       "      <td>0</td>\n",
       "      <td>0</td>\n",
       "      <td>1</td>\n",
       "      <td>0</td>\n",
       "    </tr>\n",
       "    <tr>\n",
       "      <th>A01005</th>\n",
       "      <td>0</td>\n",
       "      <td>0</td>\n",
       "      <td>1</td>\n",
       "      <td>0</td>\n",
       "    </tr>\n",
       "    <tr>\n",
       "      <th>A01006</th>\n",
       "      <td>0</td>\n",
       "      <td>1</td>\n",
       "      <td>1</td>\n",
       "      <td>0</td>\n",
       "    </tr>\n",
       "    <tr>\n",
       "      <th>A01007</th>\n",
       "      <td>0</td>\n",
       "      <td>0</td>\n",
       "      <td>1</td>\n",
       "      <td>0</td>\n",
       "    </tr>\n",
       "    <tr>\n",
       "      <th>A01008</th>\n",
       "      <td>0</td>\n",
       "      <td>0</td>\n",
       "      <td>1</td>\n",
       "      <td>1</td>\n",
       "    </tr>\n",
       "    <tr>\n",
       "      <th>...</th>\n",
       "      <td>...</td>\n",
       "      <td>...</td>\n",
       "      <td>...</td>\n",
       "      <td>...</td>\n",
       "    </tr>\n",
       "    <tr>\n",
       "      <th>E08016</th>\n",
       "      <td>0</td>\n",
       "      <td>1</td>\n",
       "      <td>1</td>\n",
       "      <td>1</td>\n",
       "    </tr>\n",
       "    <tr>\n",
       "      <th>E08017</th>\n",
       "      <td>0</td>\n",
       "      <td>0</td>\n",
       "      <td>1</td>\n",
       "      <td>1</td>\n",
       "    </tr>\n",
       "    <tr>\n",
       "      <th>E08018</th>\n",
       "      <td>0</td>\n",
       "      <td>0</td>\n",
       "      <td>0</td>\n",
       "      <td>1</td>\n",
       "    </tr>\n",
       "    <tr>\n",
       "      <th>E08019</th>\n",
       "      <td>0</td>\n",
       "      <td>0</td>\n",
       "      <td>1</td>\n",
       "      <td>1</td>\n",
       "    </tr>\n",
       "    <tr>\n",
       "      <th>E08020</th>\n",
       "      <td>1</td>\n",
       "      <td>1</td>\n",
       "      <td>1</td>\n",
       "      <td>1</td>\n",
       "    </tr>\n",
       "  </tbody>\n",
       "</table>\n",
       "<p>5393 rows × 4 columns</p>\n",
       "</div>"
      ],
      "text/plain": [
       "             Openess_to_change  Self_enhancement  Conservation  \\\n",
       "Argument ID                                                      \n",
       "A01002                       0                 0             1   \n",
       "A01005                       0                 0             1   \n",
       "A01006                       0                 1             1   \n",
       "A01007                       0                 0             1   \n",
       "A01008                       0                 0             1   \n",
       "...                        ...               ...           ...   \n",
       "E08016                       0                 1             1   \n",
       "E08017                       0                 0             1   \n",
       "E08018                       0                 0             0   \n",
       "E08019                       0                 0             1   \n",
       "E08020                       1                 1             1   \n",
       "\n",
       "             Self_transcendence  \n",
       "Argument ID                      \n",
       "A01002                        0  \n",
       "A01005                        0  \n",
       "A01006                        0  \n",
       "A01007                        0  \n",
       "A01008                        1  \n",
       "...                         ...  \n",
       "E08016                        1  \n",
       "E08017                        1  \n",
       "E08018                        1  \n",
       "E08019                        1  \n",
       "E08020                        1  \n",
       "\n",
       "[5393 rows x 4 columns]"
      ]
     },
     "execution_count": 5,
     "metadata": {},
     "output_type": "execute_result"
    }
   ],
   "source": [
    "mapping = define_mapping()\n",
    "train_labels_df, val_labels_df, test_labels_df = map_to_level_3(mapping, train_labels_df, val_labels_df, test_labels_df) \n",
    "\n",
    "print(\"The training labels after the mapping are the following: \")\n",
    "train_labels_df\n"
   ]
  },
  {
   "cell_type": "markdown",
   "id": "45a3b5162e441c9",
   "metadata": {
    "collapsed": false
   },
   "source": [
    "### One-hot encoding, tokenization and data loaders building"
   ]
  },
  {
   "cell_type": "code",
   "execution_count": 6,
   "id": "35e75074e5c73c20",
   "metadata": {
    "ExecuteTime": {
     "end_time": "2023-12-09T21:16:05.463176900Z",
     "start_time": "2023-12-09T21:15:48.655830Z"
    },
    "collapsed": false
   },
   "outputs": [],
   "source": [
    "tokenizer = AutoTokenizer.from_pretrained(\"bert-base-uncased\")\n",
    "columns_to_consider = [\"Conclusion\", \"Premise\"]\n",
    "\n",
    "train_labels_tensor = torch.tensor([[CLASS_2_ONE_HOT[element] for element in row] for row in train_labels_df.values])\n",
    "val_labels_tensor = torch.tensor([[CLASS_2_ONE_HOT[element] for element in row] for row in val_labels_df.values])\n",
    "test_labels_tensor = torch.tensor([[CLASS_2_ONE_HOT[element] for element in row] for row in test_labels_df.values])\n",
    "\n",
    "max_length = calculate_max_length(train_arg_df, columns_to_consider, tokenizer)\n",
    "\n",
    "train_arg_df = encode(train_arg_df, tokenizer, max_length, columns_to_consider)\n",
    "val_arg_df = encode(val_arg_df, tokenizer, max_length, columns_to_consider)\n",
    "test_arg_df = encode(test_arg_df, tokenizer, max_length, columns_to_consider)"
   ]
  },
  {
   "cell_type": "code",
   "execution_count": 7,
   "id": "17b535b1f9b68afd",
   "metadata": {
    "ExecuteTime": {
     "end_time": "2023-12-09T21:16:05.748977600Z",
     "start_time": "2023-12-09T21:16:05.467700700Z"
    },
    "collapsed": false
   },
   "outputs": [],
   "source": [
    "\n",
    "train_loader_C = get_data_loader_test(batch_size=BATCH_SIZE,\n",
    "                                      shuffle=True,\n",
    "                                      data=train_arg_df.loc[:, \"Conclusion\"],\n",
    "                                      labels=train_labels_tensor)\n",
    "\n",
    "val_loader_C = get_data_loader_test(batch_size=BATCH_SIZE,\n",
    "                                    shuffle=True,\n",
    "                                    data=val_arg_df.loc[:, \"Conclusion\"],\n",
    "                                    labels=val_labels_tensor)\n",
    "\n",
    "# todo aggiungi gli altri data loader (CS and CSP), capire come passarli al modello senza fare casini\n"
   ]
  },
  {
   "cell_type": "markdown",
   "id": "5b9b4d8eb2b9080d",
   "metadata": {
    "collapsed": false
   },
   "source": [
    "## Task 2 "
   ]
  },
  {
   "cell_type": "markdown",
   "id": "31dbdf03bd612820",
   "metadata": {
    "collapsed": false
   },
   "source": [
    "### Models Definition"
   ]
  },
  {
   "cell_type": "markdown",
   "id": "4b3848b4411be166",
   "metadata": {
    "collapsed": false
   },
   "source": [
    "####  1) Random uniform classifier"
   ]
  },
  {
   "cell_type": "code",
   "execution_count": 30,
   "id": "82f51d9c86bef3a0",
   "metadata": {
    "ExecuteTime": {
     "end_time": "2023-12-09T21:16:25.937857600Z",
     "start_time": "2023-12-09T21:16:25.702884100Z"
    },
    "collapsed": false
   },
   "outputs": [
    {
     "name": "stdout",
     "output_type": "stream",
     "text": [
      "Accuracy of the model over all the classes: 0.06281725888324872\n",
      "\n",
      "f1 on column 0:  0.48912632331231587\n",
      "f1 on column 1:  0.4879916831136344\n",
      "f1 on column 2:  0.47909039134325926\n",
      "f1 on column 3:  0.5095017705475109\n",
      "Average F1 on the different column singularly taken: 0.4914275420791801\n"
     ]
    }
   ],
   "source": [
    "# Create an instance of the random uniform classifier\n",
    "random_classifier = RandomUniformClassifier(N_LABELS)\n",
    "\n",
    "# Make predictions on the test set\n",
    "y_pred = random_classifier.predict(test_arg_df)\n",
    "\n",
    "# Accuracy of the Random Classifier\n",
    "accuracy = accuracy_score(test_labels_df, y_pred)\n",
    "print(f'Accuracy of the model over all the classes: {accuracy}\\n')\n",
    "\n",
    "# average F1 on the different column singularly taken \n",
    "f1 = avg_f1_score(test_labels_df, y_pred)\n",
    "print(f'Average F1 on the different column singularly taken: {f1}')\n"
   ]
  },
  {
   "cell_type": "markdown",
   "id": "4db911208037aa18",
   "metadata": {
    "collapsed": false
   },
   "source": [
    "####  1) Majority classifier"
   ]
  },
  {
   "cell_type": "code",
   "execution_count": 29,
   "id": "4563d2862bce6247",
   "metadata": {
    "ExecuteTime": {
     "end_time": "2023-12-09T15:29:48.660602296Z",
     "start_time": "2023-12-09T15:29:48.628677004Z"
    },
    "collapsed": false
   },
   "outputs": [
    {
     "name": "stdout",
     "output_type": "stream",
     "text": [
      "Accuracy of the model over all the classes: 0.13642131979695432\n",
      "\n",
      "f1 on column 0:  0.41150112023898433\n",
      "f1 on column 1:  0.3708582834331337\n",
      "f1 on column 2:  0.4152133580705009\n",
      "f1 on column 3:  0.32850447379633574\n",
      "Average F1 on the different column singularly taken: 0.3815193088847386\n"
     ]
    }
   ],
   "source": [
    "majority_classifier = MajorityClassifier()\n",
    "\n",
    "# Train the majority classifier (even though in practice, no training is needed)\n",
    "majority_classifier.fit(train_labels_df)\n",
    "\n",
    "# Make predictions on the test set\n",
    "y_pred = majority_classifier.predict(test_labels_df)\n",
    "\n",
    "# Accuracy of the Majority Classifier\n",
    "accuracy = accuracy_score(test_labels_df, y_pred)\n",
    "print(f'Accuracy of the model over all the classes: {accuracy}\\n')\n",
    "\n",
    "# Average F1 on the different column singularly taken \n",
    "f1 = avg_f1_score(test_labels_df, y_pred)\n",
    "print(f'Average F1 on the different column singularly taken: {f1}')\n"
   ]
  },
  {
   "cell_type": "markdown",
   "id": "ed615adcd88b156c",
   "metadata": {
    "collapsed": false
   },
   "source": [
    "####  3) Bert"
   ]
  },
  {
   "cell_type": "code",
   "execution_count": 12,
   "id": "185abecdef2d8b0",
   "metadata": {
    "ExecuteTime": {
     "end_time": "2023-12-09T21:16:43.590688800Z",
     "start_time": "2023-12-09T21:16:43.443820400Z"
    }
   },
   "outputs": [],
   "source": [
    "optimizer_test = OptimizerWrapper(torch.optim.Adam, identifier=f'lr={10}', optimizer_partial_params={'lr':10})\n",
    "criterion_test = Criterion('loss', loss_function=torch.nn.BCELoss(reduction='none'), reduction_function=torch.mean)\n"
   ]
  },
  {
   "cell_type": "code",
   "execution_count": 13,
   "id": "271801a5e0e06727",
   "metadata": {
    "ExecuteTime": {
     "end_time": "2023-12-09T21:16:49.124858700Z",
     "start_time": "2023-12-09T21:16:45.164966700Z"
    },
    "collapsed": false
   },
   "outputs": [],
   "source": [
    "bert1 = BertOne().to(device)\n"
   ]
  },
  {
   "cell_type": "code",
   "execution_count": 14,
   "id": "635d1212a0713b57",
   "metadata": {
    "ExecuteTime": {
     "start_time": "2023-12-09T21:16:50.021840600Z"
    },
    "collapsed": false,
    "is_executing": true
   },
   "outputs": [
    {
     "name": "stdout",
     "output_type": "stream",
     "text": [
      " Epoch: 1/200 Iterations: 10/169 - loss: 41.40625 - F1_macro: 0.28031579604318796981921156"
     ]
    },
    {
     "ename": "KeyboardInterrupt",
     "evalue": "",
     "output_type": "error",
     "traceback": [
      "\u001b[1;31m---------------------------------------------------------------------------\u001b[0m",
      "\u001b[1;31mKeyboardInterrupt\u001b[0m                         Traceback (most recent call last)",
      "\u001b[1;32mc:\\Users\\giaco\\Desktop\\Università\\MAGISTRALE Artificial Intelligence\\II Anno\\Natural Language Processing\\Project\\NLP-project\\NLP_homework_2\\main_notebook.ipynb Cell 27\u001b[0m line \u001b[0;36m3\n\u001b[0;32m      <a href='vscode-notebook-cell:/c%3A/Users/giaco/Desktop/Universit%C3%A0/MAGISTRALE%20Artificial%20Intelligence/II%20Anno/Natural%20Language%20Processing/Project/NLP-project/NLP_homework_2/main_notebook.ipynb#X35sZmlsZQ%3D%3D?line=0'>1</a>\u001b[0m \u001b[39m#todo: il fit non funziona perchè va modificata la loss dalla classe Criterion in modo tale da renderla compatibile con le tuple e non solo con i tensori\u001b[39;00m\n\u001b[1;32m----> <a href='vscode-notebook-cell:/c%3A/Users/giaco/Desktop/Universit%C3%A0/MAGISTRALE%20Artificial%20Intelligence/II%20Anno/Natural%20Language%20Processing/Project/NLP-project/NLP_homework_2/main_notebook.ipynb#X35sZmlsZQ%3D%3D?line=2'>3</a>\u001b[0m bert1_history \u001b[39m=\u001b[39m bert1\u001b[39m.\u001b[39;49mfit(train_loader\u001b[39m=\u001b[39;49mtrain_loader_C, \n\u001b[0;32m      <a href='vscode-notebook-cell:/c%3A/Users/giaco/Desktop/Universit%C3%A0/MAGISTRALE%20Artificial%20Intelligence/II%20Anno/Natural%20Language%20Processing/Project/NLP-project/NLP_homework_2/main_notebook.ipynb#X35sZmlsZQ%3D%3D?line=3'>4</a>\u001b[0m                           val_loader\u001b[39m=\u001b[39;49mval_loader_C, \n\u001b[0;32m      <a href='vscode-notebook-cell:/c%3A/Users/giaco/Desktop/Universit%C3%A0/MAGISTRALE%20Artificial%20Intelligence/II%20Anno/Natural%20Language%20Processing/Project/NLP-project/NLP_homework_2/main_notebook.ipynb#X35sZmlsZQ%3D%3D?line=4'>5</a>\u001b[0m                           criterion\u001b[39m=\u001b[39;49mcriterion_test, \n\u001b[0;32m      <a href='vscode-notebook-cell:/c%3A/Users/giaco/Desktop/Universit%C3%A0/MAGISTRALE%20Artificial%20Intelligence/II%20Anno/Natural%20Language%20Processing/Project/NLP-project/NLP_homework_2/main_notebook.ipynb#X35sZmlsZQ%3D%3D?line=5'>6</a>\u001b[0m                           metrics\u001b[39m=\u001b[39;49m[F1_Score(\u001b[39m'\u001b[39;49m\u001b[39mF1_macro\u001b[39;49m\u001b[39m'\u001b[39;49m, N_LABELS, mode\u001b[39m=\u001b[39;49m\u001b[39m'\u001b[39;49m\u001b[39mmacro\u001b[39;49m\u001b[39m'\u001b[39;49m)], \n\u001b[0;32m      <a href='vscode-notebook-cell:/c%3A/Users/giaco/Desktop/Universit%C3%A0/MAGISTRALE%20Artificial%20Intelligence/II%20Anno/Natural%20Language%20Processing/Project/NLP-project/NLP_homework_2/main_notebook.ipynb#X35sZmlsZQ%3D%3D?line=6'>7</a>\u001b[0m                           optimizer\u001b[39m=\u001b[39;49moptimizer_test,\n\u001b[0;32m      <a href='vscode-notebook-cell:/c%3A/Users/giaco/Desktop/Universit%C3%A0/MAGISTRALE%20Artificial%20Intelligence/II%20Anno/Natural%20Language%20Processing/Project/NLP-project/NLP_homework_2/main_notebook.ipynb#X35sZmlsZQ%3D%3D?line=7'>8</a>\u001b[0m                           early_stopper\u001b[39m=\u001b[39;49mEarlyStopper(monitor\u001b[39m=\u001b[39;49m\u001b[39m'\u001b[39;49m\u001b[39mF1_macro\u001b[39;49m\u001b[39m'\u001b[39;49m, patience\u001b[39m=\u001b[39;49m\u001b[39m4\u001b[39;49m, delta\u001b[39m=\u001b[39;49m\u001b[39m0\u001b[39;49m, mode\u001b[39m=\u001b[39;49m\u001b[39m'\u001b[39;49m\u001b[39mmax\u001b[39;49m\u001b[39m'\u001b[39;49m, restore_weights\u001b[39m=\u001b[39;49m\u001b[39mTrue\u001b[39;49;00m),\n\u001b[0;32m      <a href='vscode-notebook-cell:/c%3A/Users/giaco/Desktop/Universit%C3%A0/MAGISTRALE%20Artificial%20Intelligence/II%20Anno/Natural%20Language%20Processing/Project/NLP-project/NLP_homework_2/main_notebook.ipynb#X35sZmlsZQ%3D%3D?line=8'>9</a>\u001b[0m                           num_epochs\u001b[39m=\u001b[39;49m\u001b[39m200\u001b[39;49m)\n",
      "File \u001b[1;32mc:\\Users\\giaco\\Desktop\\Università\\MAGISTRALE Artificial Intelligence\\II Anno\\Natural Language Processing\\Project\\NLP-project\\NLP_homework_2\\drTorch\\modules.py:160\u001b[0m, in \u001b[0;36mTrainableModule.fit\u001b[1;34m(self, train_loader, val_loader, criterion, metrics, optimizer, num_epochs, early_stopper, aggregate_loss_on_dataset, verbose)\u001b[0m\n\u001b[0;32m    158\u001b[0m loss \u001b[39m=\u001b[39m criterion(outputs, labels)\n\u001b[0;32m    159\u001b[0m loss \u001b[39m=\u001b[39m criterion\u001b[39m.\u001b[39mreduction_function(loss)\n\u001b[1;32m--> 160\u001b[0m loss\u001b[39m.\u001b[39;49mbackward()\n\u001b[0;32m    161\u001b[0m optimizer\u001b[39m.\u001b[39mstep()\n\u001b[0;32m    162\u001b[0m metrics_value \u001b[39m=\u001b[39m []\n",
      "File \u001b[1;32mc:\\Users\\giaco\\AppData\\Local\\Programs\\Python\\Python311\\Lib\\site-packages\\torch\\_tensor.py:492\u001b[0m, in \u001b[0;36mTensor.backward\u001b[1;34m(self, gradient, retain_graph, create_graph, inputs)\u001b[0m\n\u001b[0;32m    482\u001b[0m \u001b[39mif\u001b[39;00m has_torch_function_unary(\u001b[39mself\u001b[39m):\n\u001b[0;32m    483\u001b[0m     \u001b[39mreturn\u001b[39;00m handle_torch_function(\n\u001b[0;32m    484\u001b[0m         Tensor\u001b[39m.\u001b[39mbackward,\n\u001b[0;32m    485\u001b[0m         (\u001b[39mself\u001b[39m,),\n\u001b[1;32m   (...)\u001b[0m\n\u001b[0;32m    490\u001b[0m         inputs\u001b[39m=\u001b[39minputs,\n\u001b[0;32m    491\u001b[0m     )\n\u001b[1;32m--> 492\u001b[0m torch\u001b[39m.\u001b[39;49mautograd\u001b[39m.\u001b[39;49mbackward(\n\u001b[0;32m    493\u001b[0m     \u001b[39mself\u001b[39;49m, gradient, retain_graph, create_graph, inputs\u001b[39m=\u001b[39;49minputs\n\u001b[0;32m    494\u001b[0m )\n",
      "File \u001b[1;32mc:\\Users\\giaco\\AppData\\Local\\Programs\\Python\\Python311\\Lib\\site-packages\\torch\\autograd\\__init__.py:251\u001b[0m, in \u001b[0;36mbackward\u001b[1;34m(tensors, grad_tensors, retain_graph, create_graph, grad_variables, inputs)\u001b[0m\n\u001b[0;32m    246\u001b[0m     retain_graph \u001b[39m=\u001b[39m create_graph\n\u001b[0;32m    248\u001b[0m \u001b[39m# The reason we repeat the same comment below is that\u001b[39;00m\n\u001b[0;32m    249\u001b[0m \u001b[39m# some Python versions print out the first line of a multi-line function\u001b[39;00m\n\u001b[0;32m    250\u001b[0m \u001b[39m# calls in the traceback and some print out the last line\u001b[39;00m\n\u001b[1;32m--> 251\u001b[0m Variable\u001b[39m.\u001b[39;49m_execution_engine\u001b[39m.\u001b[39;49mrun_backward(  \u001b[39m# Calls into the C++ engine to run the backward pass\u001b[39;49;00m\n\u001b[0;32m    252\u001b[0m     tensors,\n\u001b[0;32m    253\u001b[0m     grad_tensors_,\n\u001b[0;32m    254\u001b[0m     retain_graph,\n\u001b[0;32m    255\u001b[0m     create_graph,\n\u001b[0;32m    256\u001b[0m     inputs,\n\u001b[0;32m    257\u001b[0m     allow_unreachable\u001b[39m=\u001b[39;49m\u001b[39mTrue\u001b[39;49;00m,\n\u001b[0;32m    258\u001b[0m     accumulate_grad\u001b[39m=\u001b[39;49m\u001b[39mTrue\u001b[39;49;00m,\n\u001b[0;32m    259\u001b[0m )\n",
      "\u001b[1;31mKeyboardInterrupt\u001b[0m: "
     ]
    }
   ],
   "source": [
    "#todo: il fit non funziona perchè va modificata la loss dalla classe Criterion in modo tale da renderla compatibile con le tuple e non solo con i tensori\n",
    "\n",
    "bert1_history = bert1.fit(train_loader=train_loader_C, \n",
    "                          val_loader=val_loader_C, \n",
    "                          criterion=criterion_test, \n",
    "                          metrics=[F1_Score('F1_macro', N_LABELS, mode='macro')], \n",
    "                          optimizer=optimizer_test,\n",
    "                          early_stopper=EarlyStopper(monitor='F1_macro', patience=4, delta=0, mode='max', restore_weights=True),\n",
    "                          num_epochs=200)\n"
   ]
  },
  {
   "cell_type": "code",
   "execution_count": 15,
   "id": "d915e3277493320a",
   "metadata": {
    "collapsed": false
   },
   "outputs": [
    {
     "ename": "NameError",
     "evalue": "name 'bert1_history' is not defined",
     "output_type": "error",
     "traceback": [
      "\u001b[1;31m---------------------------------------------------------------------------\u001b[0m",
      "\u001b[1;31mNameError\u001b[0m                                 Traceback (most recent call last)",
      "\u001b[1;32mc:\\Users\\giaco\\Desktop\\Università\\MAGISTRALE Artificial Intelligence\\II Anno\\Natural Language Processing\\Project\\NLP-project\\NLP_homework_2\\main_notebook.ipynb Cell 28\u001b[0m line \u001b[0;36m1\n\u001b[1;32m----> <a href='vscode-notebook-cell:/c%3A/Users/giaco/Desktop/Universit%C3%A0/MAGISTRALE%20Artificial%20Intelligence/II%20Anno/Natural%20Language%20Processing/Project/NLP-project/NLP_homework_2/main_notebook.ipynb#X36sZmlsZQ%3D%3D?line=0'>1</a>\u001b[0m plot_history(bert1_history)\n",
      "\u001b[1;31mNameError\u001b[0m: name 'bert1_history' is not defined"
     ]
    }
   ],
   "source": [
    "plot_history(bert1_history)"
   ]
  },
  {
   "cell_type": "code",
   "execution_count": 16,
   "id": "829599ba89a99187",
   "metadata": {
    "ExecuteTime": {
     "start_time": "2023-12-09T15:44:23.475646844Z"
    },
    "collapsed": false
   },
   "outputs": [],
   "source": [
    "### Test sul modello\n",
    "\n",
    "tokenizer = transformers.BertTokenizer.from_pretrained('bert-base-uncased')\n",
    "text = \"Replace me by any text you'd like.\"\n",
    "encoded_input = tokenizer(text, return_tensors='pt')\n",
    "\n",
    "\n",
    "model = transformers.BertModel.from_pretrained(\"bert-base-uncased\")\n",
    "output = model(**encoded_input)\n",
    "\n",
    "\n",
    "p_d = BertOne()\n",
    "output1 = p_d(**encoded_input)\n"
   ]
  }
 ],
 "metadata": {
  "kernelspec": {
   "display_name": "Python 3",
   "language": "python",
   "name": "python3"
  },
  "language_info": {
   "codemirror_mode": {
    "name": "ipython",
    "version": 3
   },
   "file_extension": ".py",
   "mimetype": "text/x-python",
   "name": "python",
   "nbconvert_exporter": "python",
   "pygments_lexer": "ipython3",
   "version": "3.11.6"
  }
 },
 "nbformat": 4,
 "nbformat_minor": 5
}
