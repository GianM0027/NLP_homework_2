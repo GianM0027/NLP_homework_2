{
 "cells": [
  {
   "cell_type": "markdown",
   "id": "ebfa8f6058f07c39",
   "metadata": {
    "collapsed": false
   },
   "source": [
    "# Human Value Detection"
   ]
  },
  {
   "cell_type": "markdown",
   "id": "f47fe4c58990df29",
   "metadata": {
    "collapsed": false
   },
   "source": [
    "## Imports"
   ]
  },
  {
   "cell_type": "code",
   "execution_count": 1,
   "id": "9e9333223475180",
   "metadata": {
    "collapsed": false,
    "ExecuteTime": {
     "end_time": "2023-12-14T14:52:32.277119451Z",
     "start_time": "2023-12-14T14:52:30.480331832Z"
    }
   },
   "outputs": [],
   "source": [
    "import os.path\n",
    "%load_ext autoreload\n",
    "%autoreload 2\n",
    "\n",
    "from utilities import *\n",
    "from models.bertOne import BertOne\n",
    "from models.berTwo import BerTwo\n",
    "from models.berThree import BerThree\n",
    "\n",
    "from sklearn.metrics import accuracy_score\n",
    "from models.randomUniformClassifier import RandomUniformClassifier\n",
    "from models.majorityCalssifier import MajorityClassifier\n",
    "\n",
    "import transformers\n",
    "\n",
    "from drTorch.callbacks import EarlyStopper\n",
    "from drTorch.metrics import F1_Score_Multi_Labels\n",
    "from drTorch.utilities import *\n",
    "from drTorch.wrappers import OptimizerWrapper\n",
    "from drTorch.wrappers import Criterion\n",
    "from drTorch.model_selection import grid_search_train_validation\n",
    "\n",
    "import numpy as np\n",
    "import torch\n"
   ]
  },
  {
   "cell_type": "code",
   "execution_count": 2,
   "id": "29dcff5a5f7bfb48",
   "metadata": {
    "collapsed": false,
    "ExecuteTime": {
     "end_time": "2023-12-14T14:52:32.277347746Z",
     "start_time": "2023-12-14T14:52:32.276944753Z"
    }
   },
   "outputs": [
    {
     "name": "stdout",
     "output_type": "stream",
     "text": [
      "Device: cuda\n"
     ]
    }
   ],
   "source": [
    "device = torch.device('cuda' if torch.cuda.is_available() else 'cpu') \n",
    "print('Device: %s' % device)\n"
   ]
  },
  {
   "cell_type": "markdown",
   "id": "9f2553b6aeb5c7f9",
   "metadata": {
    "collapsed": false
   },
   "source": []
  },
  {
   "cell_type": "markdown",
   "id": "ef2ee4b05f9169d2",
   "metadata": {
    "collapsed": false
   },
   "source": [
    "## Defining constants and flags"
   ]
  },
  {
   "cell_type": "code",
   "execution_count": 3,
   "outputs": [],
   "source": [
    "# PATHS AND DATAFRAME CREATION\n",
    "DATA_DIR = \"data\"\n",
    "ARGUMENTS_DIR = os.path.join(DATA_DIR, \"arguments\")\n",
    "LABELS_DIR = os.path.join(DATA_DIR, \"labels\")\n",
    "\n",
    "BERT_MODELS_DIRECTORY = \"bert_models\"\n",
    "\n",
    "\n",
    "# CONSTANTS \n",
    "N_LABELS = 4\n",
    "N_CLASSES = 2\n",
    "BATCH_SIZE_C = 32\n",
    "BATCH_SIZE_CP = 8\n",
    "BATCH_SIZE_CPS = 8\n",
    "\n",
    "BERT_VERSIONS=[\"bert-base-uncased\", \"roberta-base\"]\n",
    "MODEL_CONSTRUCTORS = {'bert-base-uncased': transformers.BertModel, 'roberta-base': transformers.RobertaModel}\n",
    "MODEL_TOKENIZER_CONSTRUCTORS = {'bert-base-uncased': transformers.BertTokenizer, 'roberta-base':transformers.RobertaTokenizer}\n",
    "\n",
    "MODEL_INPUT = {\"C\":[\"Conclusion\"], \"CP\":[\"Conclusion\", \"Premise\"], \"CPS\":[\"Conclusion\", \"Premise\", \"Stance\"]}\n",
    "MODEL_BATCH_SIZES = {\"C\": BATCH_SIZE_C, \"CP\": BATCH_SIZE_CP, \"CPS\": BATCH_SIZE_CPS}\n",
    "MODEL_DATASET_BUILDERS = {\"C\":CustomDataset_C, \"CP\": CustomDataset_CP, \"CPS\": CustomDataset_CPS}\n",
    "\n",
    "\n",
    "RUN_RANDOM_CLF = False\n",
    "RUN_MAJORITY_CLF = False\n",
    "FIT_BERTONE = True\n",
    "FIT_BERTWO = False\n",
    "FIT_BERTHREE = False\n",
    "\n",
    "\n",
    "CLASS_2_ONE_HOT = {class_label: np.eye(N_CLASSES)[i].astype(float).tolist() for i, class_label in enumerate(range(N_CLASSES))}\n",
    "\n"
   ],
   "metadata": {
    "collapsed": false,
    "ExecuteTime": {
     "end_time": "2023-12-14T14:52:32.288614823Z",
     "start_time": "2023-12-14T14:52:32.278317205Z"
    }
   },
   "id": "7d71adb601979737"
  },
  {
   "cell_type": "markdown",
   "id": "32a409b1e982e3dd",
   "metadata": {
    "collapsed": false
   },
   "source": [
    "## Task 1"
   ]
  },
  {
   "cell_type": "markdown",
   "id": "3723181a1d5f1aad",
   "metadata": {
    "collapsed": false
   },
   "source": [
    "### Visualizing the data"
   ]
  },
  {
   "cell_type": "code",
   "execution_count": 4,
   "id": "910abdb6bbf8ee01",
   "metadata": {
    "collapsed": false,
    "ExecuteTime": {
     "end_time": "2023-12-14T14:52:32.337996458Z",
     "start_time": "2023-12-14T14:52:32.289513243Z"
    }
   },
   "outputs": [
    {
     "name": "stdout",
     "output_type": "stream",
     "text": [
      "Let's visualize the data: \n"
     ]
    },
    {
     "data": {
      "text/plain": "                                              Conclusion       Stance  \\\nArgument ID                                                             \nA01002                       We should ban human cloning  in favor of   \nA01005                           We should ban fast food  in favor of   \nA01006       We should end the use of economic sanctions      against   \nA01007              We should abolish capital punishment      against   \nA01008                     We should ban factory farming      against   \n\n                                                       Premise  \nArgument ID                                                     \nA01002       we should ban human cloning as it will only ca...  \nA01005       fast food should be banned because it is reall...  \nA01006       sometimes economic sanctions are the only thin...  \nA01007       capital punishment is sometimes the only optio...  \nA01008       factory farming allows for the production of c...  ",
      "text/html": "<div>\n<style scoped>\n    .dataframe tbody tr th:only-of-type {\n        vertical-align: middle;\n    }\n\n    .dataframe tbody tr th {\n        vertical-align: top;\n    }\n\n    .dataframe thead th {\n        text-align: right;\n    }\n</style>\n<table border=\"1\" class=\"dataframe\">\n  <thead>\n    <tr style=\"text-align: right;\">\n      <th></th>\n      <th>Conclusion</th>\n      <th>Stance</th>\n      <th>Premise</th>\n    </tr>\n    <tr>\n      <th>Argument ID</th>\n      <th></th>\n      <th></th>\n      <th></th>\n    </tr>\n  </thead>\n  <tbody>\n    <tr>\n      <th>A01002</th>\n      <td>We should ban human cloning</td>\n      <td>in favor of</td>\n      <td>we should ban human cloning as it will only ca...</td>\n    </tr>\n    <tr>\n      <th>A01005</th>\n      <td>We should ban fast food</td>\n      <td>in favor of</td>\n      <td>fast food should be banned because it is reall...</td>\n    </tr>\n    <tr>\n      <th>A01006</th>\n      <td>We should end the use of economic sanctions</td>\n      <td>against</td>\n      <td>sometimes economic sanctions are the only thin...</td>\n    </tr>\n    <tr>\n      <th>A01007</th>\n      <td>We should abolish capital punishment</td>\n      <td>against</td>\n      <td>capital punishment is sometimes the only optio...</td>\n    </tr>\n    <tr>\n      <th>A01008</th>\n      <td>We should ban factory farming</td>\n      <td>against</td>\n      <td>factory farming allows for the production of c...</td>\n    </tr>\n  </tbody>\n</table>\n</div>"
     },
     "metadata": {},
     "output_type": "display_data"
    },
    {
     "data": {
      "text/plain": "             Self-direction: thought  Self-direction: action  Stimulation  \\\nArgument ID                                                                 \nA01002                             0                       0            0   \nA01005                             0                       0            0   \nA01006                             0                       0            0   \nA01007                             0                       0            0   \nA01008                             0                       0            0   \n\n             Hedonism  Achievement  Power: dominance  Power: resources  Face  \\\nArgument ID                                                                    \nA01002              0            0                 0                 0     0   \nA01005              0            0                 0                 0     0   \nA01006              0            0                 1                 0     0   \nA01007              0            0                 0                 0     0   \nA01008              0            0                 0                 0     0   \n\n             Security: personal  Security: societal  Tradition  \\\nArgument ID                                                      \nA01002                        0                   1          0   \nA01005                        1                   0          0   \nA01006                        0                   1          0   \nA01007                        0                   1          0   \nA01008                        1                   0          0   \n\n             Conformity: rules  Conformity: interpersonal  Humility  \\\nArgument ID                                                           \nA01002                       0                          0         0   \nA01005                       0                          0         0   \nA01006                       0                          0         0   \nA01007                       1                          0         0   \nA01008                       0                          0         0   \n\n             Benevolence: caring  Benevolence: dependability  \\\nArgument ID                                                    \nA01002                         0                           0   \nA01005                         0                           0   \nA01006                         0                           0   \nA01007                         0                           0   \nA01008                         1                           0   \n\n             Universalism: concern  Universalism: nature  \\\nArgument ID                                                \nA01002                           0                     0   \nA01005                           0                     0   \nA01006                           0                     0   \nA01007                           1                     0   \nA01008                           1                     0   \n\n             Universalism: tolerance  Universalism: objectivity  \nArgument ID                                                      \nA01002                             0                          0  \nA01005                             0                          0  \nA01006                             0                          0  \nA01007                             0                          0  \nA01008                             0                          0  ",
      "text/html": "<div>\n<style scoped>\n    .dataframe tbody tr th:only-of-type {\n        vertical-align: middle;\n    }\n\n    .dataframe tbody tr th {\n        vertical-align: top;\n    }\n\n    .dataframe thead th {\n        text-align: right;\n    }\n</style>\n<table border=\"1\" class=\"dataframe\">\n  <thead>\n    <tr style=\"text-align: right;\">\n      <th></th>\n      <th>Self-direction: thought</th>\n      <th>Self-direction: action</th>\n      <th>Stimulation</th>\n      <th>Hedonism</th>\n      <th>Achievement</th>\n      <th>Power: dominance</th>\n      <th>Power: resources</th>\n      <th>Face</th>\n      <th>Security: personal</th>\n      <th>Security: societal</th>\n      <th>Tradition</th>\n      <th>Conformity: rules</th>\n      <th>Conformity: interpersonal</th>\n      <th>Humility</th>\n      <th>Benevolence: caring</th>\n      <th>Benevolence: dependability</th>\n      <th>Universalism: concern</th>\n      <th>Universalism: nature</th>\n      <th>Universalism: tolerance</th>\n      <th>Universalism: objectivity</th>\n    </tr>\n    <tr>\n      <th>Argument ID</th>\n      <th></th>\n      <th></th>\n      <th></th>\n      <th></th>\n      <th></th>\n      <th></th>\n      <th></th>\n      <th></th>\n      <th></th>\n      <th></th>\n      <th></th>\n      <th></th>\n      <th></th>\n      <th></th>\n      <th></th>\n      <th></th>\n      <th></th>\n      <th></th>\n      <th></th>\n      <th></th>\n    </tr>\n  </thead>\n  <tbody>\n    <tr>\n      <th>A01002</th>\n      <td>0</td>\n      <td>0</td>\n      <td>0</td>\n      <td>0</td>\n      <td>0</td>\n      <td>0</td>\n      <td>0</td>\n      <td>0</td>\n      <td>0</td>\n      <td>1</td>\n      <td>0</td>\n      <td>0</td>\n      <td>0</td>\n      <td>0</td>\n      <td>0</td>\n      <td>0</td>\n      <td>0</td>\n      <td>0</td>\n      <td>0</td>\n      <td>0</td>\n    </tr>\n    <tr>\n      <th>A01005</th>\n      <td>0</td>\n      <td>0</td>\n      <td>0</td>\n      <td>0</td>\n      <td>0</td>\n      <td>0</td>\n      <td>0</td>\n      <td>0</td>\n      <td>1</td>\n      <td>0</td>\n      <td>0</td>\n      <td>0</td>\n      <td>0</td>\n      <td>0</td>\n      <td>0</td>\n      <td>0</td>\n      <td>0</td>\n      <td>0</td>\n      <td>0</td>\n      <td>0</td>\n    </tr>\n    <tr>\n      <th>A01006</th>\n      <td>0</td>\n      <td>0</td>\n      <td>0</td>\n      <td>0</td>\n      <td>0</td>\n      <td>1</td>\n      <td>0</td>\n      <td>0</td>\n      <td>0</td>\n      <td>1</td>\n      <td>0</td>\n      <td>0</td>\n      <td>0</td>\n      <td>0</td>\n      <td>0</td>\n      <td>0</td>\n      <td>0</td>\n      <td>0</td>\n      <td>0</td>\n      <td>0</td>\n    </tr>\n    <tr>\n      <th>A01007</th>\n      <td>0</td>\n      <td>0</td>\n      <td>0</td>\n      <td>0</td>\n      <td>0</td>\n      <td>0</td>\n      <td>0</td>\n      <td>0</td>\n      <td>0</td>\n      <td>1</td>\n      <td>0</td>\n      <td>1</td>\n      <td>0</td>\n      <td>0</td>\n      <td>0</td>\n      <td>0</td>\n      <td>1</td>\n      <td>0</td>\n      <td>0</td>\n      <td>0</td>\n    </tr>\n    <tr>\n      <th>A01008</th>\n      <td>0</td>\n      <td>0</td>\n      <td>0</td>\n      <td>0</td>\n      <td>0</td>\n      <td>0</td>\n      <td>0</td>\n      <td>0</td>\n      <td>1</td>\n      <td>0</td>\n      <td>0</td>\n      <td>0</td>\n      <td>0</td>\n      <td>0</td>\n      <td>1</td>\n      <td>0</td>\n      <td>1</td>\n      <td>0</td>\n      <td>0</td>\n      <td>0</td>\n    </tr>\n  </tbody>\n</table>\n</div>"
     },
     "metadata": {},
     "output_type": "display_data"
    }
   ],
   "source": [
    "# convert files in dataframes\n",
    "train_arg_df, val_arg_df, test_arg_df = create_dfs(ARGUMENTS_DIR)\n",
    "train_labels_df, val_labels_df, test_labels_df = create_dfs(LABELS_DIR)\n",
    "\n",
    "print(\"Let's visualize the data: \")\n",
    "display(train_arg_df.head(5))\n",
    "display(train_labels_df.head(5))\n"
   ]
  },
  {
   "cell_type": "markdown",
   "id": "f2f8c631fc728aa8",
   "metadata": {
    "collapsed": false
   },
   "source": [
    "### Mapping labels to level-3 categories"
   ]
  },
  {
   "cell_type": "code",
   "execution_count": 5,
   "id": "998d8c9bd76a90f4",
   "metadata": {
    "collapsed": false,
    "ExecuteTime": {
     "end_time": "2023-12-14T14:52:33.201210500Z",
     "start_time": "2023-12-14T14:52:32.337023195Z"
    }
   },
   "outputs": [
    {
     "name": "stdout",
     "output_type": "stream",
     "text": [
      "The training labels after the mapping are the following: \n"
     ]
    },
    {
     "data": {
      "text/plain": "             Openess_to_change  Self_enhancement  Conservation  \\\nArgument ID                                                      \nA01002                       0                 0             1   \nA01005                       0                 0             1   \nA01006                       0                 1             1   \nA01007                       0                 0             1   \nA01008                       0                 0             1   \n...                        ...               ...           ...   \nE08016                       0                 1             1   \nE08017                       0                 0             1   \nE08018                       0                 0             0   \nE08019                       0                 0             1   \nE08020                       1                 1             1   \n\n             Self_transcendence  \nArgument ID                      \nA01002                        0  \nA01005                        0  \nA01006                        0  \nA01007                        0  \nA01008                        1  \n...                         ...  \nE08016                        1  \nE08017                        1  \nE08018                        1  \nE08019                        1  \nE08020                        1  \n\n[5393 rows x 4 columns]",
      "text/html": "<div>\n<style scoped>\n    .dataframe tbody tr th:only-of-type {\n        vertical-align: middle;\n    }\n\n    .dataframe tbody tr th {\n        vertical-align: top;\n    }\n\n    .dataframe thead th {\n        text-align: right;\n    }\n</style>\n<table border=\"1\" class=\"dataframe\">\n  <thead>\n    <tr style=\"text-align: right;\">\n      <th></th>\n      <th>Openess_to_change</th>\n      <th>Self_enhancement</th>\n      <th>Conservation</th>\n      <th>Self_transcendence</th>\n    </tr>\n    <tr>\n      <th>Argument ID</th>\n      <th></th>\n      <th></th>\n      <th></th>\n      <th></th>\n    </tr>\n  </thead>\n  <tbody>\n    <tr>\n      <th>A01002</th>\n      <td>0</td>\n      <td>0</td>\n      <td>1</td>\n      <td>0</td>\n    </tr>\n    <tr>\n      <th>A01005</th>\n      <td>0</td>\n      <td>0</td>\n      <td>1</td>\n      <td>0</td>\n    </tr>\n    <tr>\n      <th>A01006</th>\n      <td>0</td>\n      <td>1</td>\n      <td>1</td>\n      <td>0</td>\n    </tr>\n    <tr>\n      <th>A01007</th>\n      <td>0</td>\n      <td>0</td>\n      <td>1</td>\n      <td>0</td>\n    </tr>\n    <tr>\n      <th>A01008</th>\n      <td>0</td>\n      <td>0</td>\n      <td>1</td>\n      <td>1</td>\n    </tr>\n    <tr>\n      <th>...</th>\n      <td>...</td>\n      <td>...</td>\n      <td>...</td>\n      <td>...</td>\n    </tr>\n    <tr>\n      <th>E08016</th>\n      <td>0</td>\n      <td>1</td>\n      <td>1</td>\n      <td>1</td>\n    </tr>\n    <tr>\n      <th>E08017</th>\n      <td>0</td>\n      <td>0</td>\n      <td>1</td>\n      <td>1</td>\n    </tr>\n    <tr>\n      <th>E08018</th>\n      <td>0</td>\n      <td>0</td>\n      <td>0</td>\n      <td>1</td>\n    </tr>\n    <tr>\n      <th>E08019</th>\n      <td>0</td>\n      <td>0</td>\n      <td>1</td>\n      <td>1</td>\n    </tr>\n    <tr>\n      <th>E08020</th>\n      <td>1</td>\n      <td>1</td>\n      <td>1</td>\n      <td>1</td>\n    </tr>\n  </tbody>\n</table>\n<p>5393 rows × 4 columns</p>\n</div>"
     },
     "execution_count": 5,
     "metadata": {},
     "output_type": "execute_result"
    }
   ],
   "source": [
    "mapping = define_mapping()\n",
    "train_labels_df, val_labels_df, test_labels_df = map_to_level_3(mapping, train_labels_df, val_labels_df, test_labels_df) \n",
    "\n",
    "print(\"The training labels after the mapping are the following: \")\n",
    "train_labels_df\n"
   ]
  },
  {
   "cell_type": "markdown",
   "id": "45a3b5162e441c9",
   "metadata": {
    "collapsed": false
   },
   "source": [
    "### One-hot encoding, tokenization and data loaders building"
   ]
  },
  {
   "cell_type": "code",
   "execution_count": 6,
   "outputs": [],
   "source": [
    "if os.path.exists(BERT_MODELS_DIRECTORY):\n",
    "    bert_versions_paths = [os.path.join(BERT_MODELS_DIRECTORY, version)for version in BERT_VERSIONS]\n",
    "else:    \n",
    "    bert_versions_paths = download_bert_models(BERT_MODELS_DIRECTORY, BERT_VERSIONS, MODEL_CONSTRUCTORS, MODEL_TOKENIZER_CONSTRUCTORS)  \n",
    "    "
   ],
   "metadata": {
    "collapsed": false,
    "ExecuteTime": {
     "end_time": "2023-12-14T14:52:33.201297286Z",
     "start_time": "2023-12-14T14:52:33.189078535Z"
    }
   },
   "id": "1dad71e1264e68ca"
  },
  {
   "cell_type": "code",
   "execution_count": 7,
   "outputs": [
    {
     "name": "stdout",
     "output_type": "stream",
     "text": [
      "['bert_models/bert-base-uncased', 'bert_models/roberta-base']\n"
     ]
    }
   ],
   "source": [
    "print(bert_versions_paths)"
   ],
   "metadata": {
    "collapsed": false,
    "ExecuteTime": {
     "end_time": "2023-12-14T14:52:33.214244827Z",
     "start_time": "2023-12-14T14:52:33.200777603Z"
    }
   },
   "id": "82e4ef89f70c733e"
  },
  {
   "cell_type": "code",
   "execution_count": 8,
   "outputs": [],
   "source": [
    "model_inputs = {\"C\":[\"Conclusion\"], \"CP\":[\"Conclusion\", \"Premise\"], \"CPS\":[\"Conclusion\", \"Premise\", \"Stance\"]}\n",
    "\n",
    "dataloaders = {}\n",
    "\n",
    "for model_path,in bert_versions_paths:\n",
    "    model_name = os.path.basename(model_path)\n",
    "    dataloaders[model_name]={}\n",
    "    for model_key in model_inputs.keys():\n",
    "        dataloaders[model_name][model_key]={}\n",
    "     \n",
    "        dataloader_train, dataloader_val, dataloader_test = build_dataloaders(train_df=train_arg_df, \n",
    "                                                                              val_df=val_arg_df, \n",
    "                                                                              test_df=test_arg_df, \n",
    "                                                                              train_labels_df=train_labels_df, \n",
    "                                                                              val_labels_df=val_labels_df, \n",
    "                                                                              test_labels_df=test_labels_df, \n",
    "                                                                              one_hot_mapping=CLASS_2_ONE_HOT, \n",
    "                                                                              bert_version=model_path, \n",
    "                                                                              tokenizer_constructor=MODEL_TOKENIZER_CONSTRUCTORS[model_name],\n",
    "                                                                              model_input=model_inputs[model_key],\n",
    "                                                                              custom_dataset_builder=MODEL_DATASET_BUILDERS[model_key],\n",
    "                                                                              batch_size=MODEL_BATCH_SIZES[model_key], \n",
    "                                                                              shuffle=True)  \n",
    "        dataloaders[model_name][model_key]['train'] = dataloader_train\n",
    "        dataloaders[model_name][model_key]['val'] = dataloader_val\n",
    "        dataloaders[model_name][model_key]['test'] = dataloader_test\n",
    "\n",
    "\n",
    "\n",
    "\"\"\"for batch , input in dataloaders['bert-base-uncased']['C']['train']:\n",
    "    print(batch.keys())\n",
    "    break\"\"\";\n"
   ],
   "metadata": {
    "collapsed": false,
    "ExecuteTime": {
     "end_time": "2023-12-14T14:52:42.307450088Z",
     "start_time": "2023-12-14T14:52:33.216277674Z"
    }
   },
   "id": "7f70389bc4c3a545"
  },
  {
   "cell_type": "markdown",
   "id": "5b9b4d8eb2b9080d",
   "metadata": {
    "collapsed": false,
    "ExecuteTime": {
     "end_time": "2023-12-13T16:45:19.405346392Z",
     "start_time": "2023-12-13T16:45:13.535600867Z"
    }
   },
   "source": [
    "## Task 2 "
   ]
  },
  {
   "cell_type": "markdown",
   "id": "31dbdf03bd612820",
   "metadata": {
    "collapsed": false
   },
   "source": [
    "### Models Definition"
   ]
  },
  {
   "cell_type": "markdown",
   "id": "4b3848b4411be166",
   "metadata": {
    "collapsed": false,
    "ExecuteTime": {
     "end_time": "2023-12-13T16:45:34.405111405Z",
     "start_time": "2023-12-13T16:45:34.363675874Z"
    }
   },
   "source": [
    "####  1) Random uniform classifier"
   ]
  },
  {
   "cell_type": "code",
   "execution_count": 9,
   "id": "82f51d9c86bef3a0",
   "metadata": {
    "collapsed": false,
    "ExecuteTime": {
     "end_time": "2023-12-14T14:52:42.320531562Z",
     "start_time": "2023-12-14T14:52:42.309013999Z"
    }
   },
   "outputs": [],
   "source": [
    "if RUN_RANDOM_CLF:\n",
    "    # Create an instance of the random uniform classifier\n",
    "    random_classifier = RandomUniformClassifier(N_LABELS)\n",
    "    \n",
    "    # Make predictions on the test set\n",
    "    predicted_labels = random_classifier.predict(test_arg_df)\n",
    "    \n",
    "    # Accuracy of the Random Classifier\n",
    "    accuracy = accuracy_score(test_labels_df, predicted_labels)\n",
    "    print(f'Accuracy of the model over all the classes: {accuracy}\\n')\n",
    "    \n",
    "    # F1 scores on the different labels singularly taken \n",
    "    f1_scorer = F1_Score_Multi_Labels(name='F1_macro_avg', num_labels=N_LABELS, num_classes=N_CLASSES, compute_mean=False)\n",
    "    f1_scores_random_classifier = f1_scorer(torch.tensor(test_labels_df.values.tolist()), torch.tensor(predicted_labels))\n",
    "    # AVG f1 score\n",
    "    f1_avg_random_classifier = np.average(f1_scores_random_classifier)\n",
    "    \n",
    "    \n",
    "    for idx, f1_score in enumerate(f1_scores_random_classifier):\n",
    "        print(f\" - {train_labels_df.columns[idx]} F1: {f1_score}\")\n",
    "    \n",
    "    print(f'\\nAverage F1: {f1_avg_random_classifier}')\n"
   ]
  },
  {
   "cell_type": "markdown",
   "id": "4db911208037aa18",
   "metadata": {
    "collapsed": false
   },
   "source": [
    "####  2) Majority classifier"
   ]
  },
  {
   "cell_type": "code",
   "execution_count": 10,
   "outputs": [],
   "source": [
    "if RUN_MAJORITY_CLF:\n",
    "    majority_classifier = MajorityClassifier()\n",
    "    \n",
    "    # Train the majority classifier (even though in practice, no training is needed)\n",
    "    majority_classifier.fit(train_labels_df)\n",
    "    \n",
    "    # Make predictions on the test set\n",
    "    predicted_labels = majority_classifier.predict(test_labels_df)\n",
    "    \n",
    "    # Accuracy of the Majority Classifier\n",
    "    accuracy = accuracy_score(test_labels_df, predicted_labels)\n",
    "    print(f'Accuracy of the model over all the classes: {accuracy}\\n')\n",
    "    \n",
    "    # F1 scores on the different labels singularly taken \n",
    "    f1_scorer = F1_Score_Multi_Labels(name='F1_macro_avg', num_labels=N_LABELS, num_classes=N_CLASSES, compute_mean=False)\n",
    "    f1_scores_majority_classifier = f1_scorer(torch.tensor(test_labels_df.values.tolist()), torch.tensor(predicted_labels))\n",
    "    # AVG F1 score\n",
    "    f1_avg_majority_classifier = np.average(f1_scores_majority_classifier)\n",
    "    \n",
    "    \n",
    "    for idx, f1_score in enumerate(f1_scores_majority_classifier):\n",
    "        print(f\" - {train_labels_df.columns[idx]} F1: {f1_score}\")\n",
    "    \n",
    "    print(f'\\nAverage F1: {f1_avg_majority_classifier}')\n"
   ],
   "metadata": {
    "collapsed": false,
    "ExecuteTime": {
     "end_time": "2023-12-14T14:52:42.364124371Z",
     "start_time": "2023-12-14T14:52:42.322813834Z"
    }
   },
   "id": "7948530f7e667126"
  },
  {
   "cell_type": "markdown",
   "id": "ed615adcd88b156c",
   "metadata": {
    "collapsed": false
   },
   "source": [
    "####  3) Bert w/C"
   ]
  },
  {
   "cell_type": "markdown",
   "source": [
    "##### Searching the hyperparameters for bert w/C"
   ],
   "metadata": {
    "collapsed": false
   },
   "id": "669a93b6db152b24"
  },
  {
   "cell_type": "code",
   "execution_count": 14,
   "outputs": [
    {
     "ename": "NameError",
     "evalue": "name 'RUN_BASELINE_GRID_SEARCH' is not defined",
     "output_type": "error",
     "traceback": [
      "\u001B[0;31m---------------------------------------------------------------------------\u001B[0m",
      "\u001B[0;31mNameError\u001B[0m                                 Traceback (most recent call last)",
      "Cell \u001B[0;32mIn[14], line 1\u001B[0m\n\u001B[0;32m----> 1\u001B[0m \u001B[38;5;28;01mif\u001B[39;00m \u001B[43mRUN_BASELINE_GRID_SEARCH\u001B[49m:\n\u001B[1;32m      2\u001B[0m     hyperparameters_key_to_save \u001B[38;5;241m=\u001B[39m [\u001B[38;5;124m'\u001B[39m\u001B[38;5;124mhidden_size\u001B[39m\u001B[38;5;124m'\u001B[39m, \u001B[38;5;124m'\u001B[39m\u001B[38;5;124moptimizer\u001B[39m\u001B[38;5;124m'\u001B[39m, \u001B[38;5;124m'\u001B[39m\u001B[38;5;124mbert_version\u001B[39m\u001B[38;5;124m'\u001B[39m]\n\u001B[1;32m      3\u001B[0m     seeds \u001B[38;5;241m=\u001B[39m [\u001B[38;5;241m69\u001B[39m, \u001B[38;5;241m4\u001B[39m, \u001B[38;5;241m21\u001B[39m]\n",
      "\u001B[0;31mNameError\u001B[0m: name 'RUN_BASELINE_GRID_SEARCH' is not defined"
     ]
    }
   ],
   "source": [
    "\"\"\"\n",
    "if RUN_BASELINE_GRID_SEARCH:\n",
    "    hyperparameters_key_to_save = ['hidden_size', 'optimizer', 'bert_version']\n",
    "    seeds = [69, 4, 21]\n",
    "    \n",
    "    criterion = Criterion('loss', loss_function=torch.nn.BCEWithLogitsLoss(reduction='none'), reduction_function=torch.mean)\n",
    "    optimizers = [OptimizerWrapper(torch.optim.Adam, identifier=f'lr={10**i}', optimizer_partial_params={'lr':10 ** i}) for i in range(-5, -8, -1)]\n",
    "    early_stopper = EarlyStopper(monitor='F1_macro_avg', patience=4, delta=0, mode='max', restore_weights=True)\n",
    "    metrics = [[F1_Score_Multi_Labels('F1_macro_avg', num_labels=N_LABELS, num_classes=N_CLASSES)]] \n",
    "    \n",
    "\n",
    "    model_hyperparameters_to_test = [{'model_class': BertOne,\n",
    "                                      'dropout_prob': 0.3,\n",
    "                                      'hidden_size': i,\n",
    "                                      'bert_version': version,\n",
    "                                      'bert_constructor': MODEL_CONSTRUCTORS[version],\n",
    "                                     } for i in range(668, 968, 100) for version in [BERT_VERSIONS]]\n",
    "    \n",
    "    \n",
    "    training_hyperparameters_to_test = [{'num_epochs': 200,\n",
    "                                         'optimizer': opt,\n",
    "                                         'batch_size': 32,\n",
    "                                         'criterion': criterion,\n",
    "                                         'metrics': metrics[0],\n",
    "                                         'early_stopper': early_stopper\n",
    "                                         } for opt in optimizers]\n",
    "    \n",
    "    \n",
    "    grid_search_train_validation(train_data=(torch.tensor(train_sentences_mapped), torch.tensor(train_pos_mapped)),\n",
    "                                 val_data=(torch.tensor(val_sentences_mapped), torch.tensor(val_pos_mapped)),\n",
    "                                 \n",
    "                                 shuffle=True,\n",
    "                                 model_hyperparameters_to_test=model_hyperparameters_to_test,\n",
    "                                 training_hyperparameters_to_test=training_hyperparameters_to_test,\n",
    "                                 hyperparameters_key_to_save=hyperparameters_key_to_save,\n",
    "                                 seeds=seeds,\n",
    "                                 device=device,\n",
    "                                 path_to_grid_search_results=BASELINE_GRID_SEARCH_RESULTS_PATH)\n",
    "                                 \n",
    "\"\"\""
   ],
   "metadata": {
    "collapsed": false,
    "ExecuteTime": {
     "end_time": "2023-12-14T15:45:09.654106052Z",
     "start_time": "2023-12-14T15:45:09.425572819Z"
    }
   },
   "id": "74ac5898e1d9685"
  },
  {
   "cell_type": "code",
   "execution_count": 12,
   "id": "185abecdef2d8b0",
   "metadata": {
    "ExecuteTime": {
     "end_time": "2023-12-14T15:06:46.067173053Z",
     "start_time": "2023-12-14T14:59:46.794979195Z"
    }
   },
   "outputs": [
    {
     "name": "stderr",
     "output_type": "stream",
     "text": [
      "Some weights of RobertaModel were not initialized from the model checkpoint at roberta-base and are newly initialized: ['roberta.pooler.dense.weight', 'roberta.pooler.dense.bias']\n",
      "You should probably TRAIN this model on a down-stream task to be able to use it for predictions and inference.\n"
     ]
    },
    {
     "name": "stdout",
     "output_type": "stream",
     "text": [
      " Epoch: 1/200 Iterations: 169/169 Time: 31.483s - loss: 0.646851718425751 - F1_macro_avg: 0.6122987805916 - val_loss: 0.651899337768555 - val_F1_macro_avg: 0.621538119514014 \n",
      " Epoch: 2/200 Iterations: 169/169 Time: 31.71s - loss: 0.632282316684723 - F1_macro_avg: 0.64252402836134 - val_loss: 0.650619029998779 - val_F1_macro_avg: 0.619967306141902 \n",
      " Epoch: 3/200 Iterations: 169/169 Time: 31.762s - loss: 0.616325736045837 - F1_macro_avg: 0.660299481205789 - val_loss: 0.647369623184204 - val_F1_macro_avg: 0.630028992218076 \n",
      " Epoch: 4/200 Iterations: 169/169 Time: 31.731s - loss: 0.604578495025635 - F1_macro_avg: 0.674953417079836 - val_loss: 0.645388066768646 - val_F1_macro_avg: 0.62848203719768 \n",
      " Epoch: 5/200 Iterations: 169/169 Time: 31.708s - loss: 0.596536755561829 - F1_macro_avg: 0.675321836812503 - val_loss: 0.645788788795471 - val_F1_macro_avg: 0.630020534322684 \n",
      " Epoch: 6/200 Iterations: 169/169 Time: 31.754s - loss: 0.58990865945816 - F1_macro_avg: 0.689255293399432 - val_loss: 0.642652213573456 - val_F1_macro_avg: 0.643552732462115 \n",
      " Epoch: 7/200 Iterations: 169/169 Time: 31.759s - loss: 0.585347235202789 - F1_macro_avg: 0.688437122440873 - val_loss: 0.641499698162079 - val_F1_macro_avg: 0.639059895641015 \n",
      " Epoch: 8/200 Iterations: 169/169 Time: 31.742s - loss: 0.581778943538666 - F1_macro_avg: 0.689932455557355 - val_loss: 0.64143830537796 - val_F1_macro_avg: 0.651601609183794 \n",
      " Epoch: 9/200 Iterations: 169/169 Time: 31.798s - loss: 0.578830599784851 - F1_macro_avg: 0.693975309665762 - val_loss: 0.64182060956955 - val_F1_macro_avg: 0.652024368898217 \n",
      " Epoch: 10/200 Iterations: 169/169 Time: 31.74s - loss: 0.577147603034973 - F1_macro_avg: 0.694744416568332 - val_loss: 0.643831551074982 - val_F1_macro_avg: 0.642936951969709 \n",
      " Epoch: 11/200 Iterations: 169/169 Time: 31.73s - loss: 0.574808895587921 - F1_macro_avg: 0.695231429178035 - val_loss: 0.640313684940338 - val_F1_macro_avg: 0.642465094420673 \n",
      " Epoch: 12/200 Iterations: 169/169 Time: 31.735s - loss: 0.573737502098084 - F1_macro_avg: 0.695357513213995 - val_loss: 0.64208573102951 - val_F1_macro_avg: 0.639591659049584 \n",
      " Epoch: 13/200 Iterations: 169/169 Time: 31.783s - loss: 0.572327852249146 - F1_macro_avg: 0.697590164727364 - val_loss: 0.642865836620331 - val_F1_macro_avg: 0.64253152254017 \n",
      "Early stopping activated, best weights reloaded\n",
      "Train Completed\n"
     ]
    }
   ],
   "source": [
    "if FIT_BERTONE:\n",
    "    optimizer_test = OptimizerWrapper(torch.optim.Adam, identifier=f'lr={1e-6}', optimizer_partial_params={'lr': 1e-6})          \n",
    "    criterion_test = Criterion('loss', loss_function=torch.nn.BCEWithLogitsLoss(reduction='none'), reduction_function=torch.mean)\n",
    "    \n",
    "    bert1 = BertOne(dropout_prob=0.3, hidden_size= 768, bert_version='roberta-base', bert_constructor=transformers.RobertaModel).to(device)\n",
    "    \n",
    "    bert1_history = bert1.fit(train_loader=dataloaders['roberta-base']['C']['train'], \n",
    "                              val_loader=dataloaders['roberta-base']['C']['val'], \n",
    "                              criterion=criterion_test, \n",
    "                              metrics=[F1_Score_Multi_Labels('F1_macro_avg', num_labels=N_LABELS, num_classes=N_CLASSES)], \n",
    "                              optimizer=optimizer_test,\n",
    "                              early_stopper=EarlyStopper(monitor='F1_macro_avg', patience=4, delta=0, mode='max', restore_weights=True),\n",
    "                              num_epochs=200)\n",
    "\n",
    "\n",
    "\n",
    "\"\"\"\n",
    "loss homework 1 con batch size 1\n",
    "[0.4, 0.5, 0.8, ... 0.2] 46 loss\n",
    "\n",
    "loss homework 2 con batch size 1\n",
    "        [[0.4339, 0.4490],\n",
    "        [0.5538, 0.6676],\n",
    "        [0.4004, 0.3562],\n",
    "        [0.6964, 0.6620]]\n",
    "\"\"\";"
   ]
  },
  {
   "cell_type": "code",
   "execution_count": 13,
   "outputs": [
    {
     "data": {
      "text/plain": "<Figure size 1000x1000 with 2 Axes>",
      "image/png": "[encoded data removed]"
     },
     "metadata": {},
     "output_type": "display_data"
    }
   ],
   "source": [
    "plot_history(bert1_history)"
   ],
   "metadata": {
    "collapsed": false,
    "ExecuteTime": {
     "end_time": "2023-12-14T15:07:16.304959053Z",
     "start_time": "2023-12-14T15:07:16.057652217Z"
    }
   },
   "id": "158d06d432189909"
  },
  {
   "cell_type": "markdown",
   "source": [
    "#### 4) Bert w/CP"
   ],
   "metadata": {
    "collapsed": false
   },
   "id": "813fade858d92531"
  },
  {
   "cell_type": "code",
   "execution_count": 11,
   "outputs": [],
   "source": [
    "if FIT_BERTWO:\n",
    "    optimizer_test = OptimizerWrapper(torch.optim.Adam, identifier=f'lr={1e-6}', optimizer_partial_params={'lr': 1e-6})          \n",
    "    criterion_test = Criterion('loss', loss_function=torch.nn.BCEWithLogitsLoss(reduction='none'), reduction_function=torch.mean)\n",
    "    \n",
    "    bert2 = BerTwo(dropout_prob=0.3, hidden_size= 768, bert_version='roberta-base', bert_constructor=transformers.RobertaModel).to(device)\n",
    "    \n",
    "    bert2_history = bert2.fit(train_loader=dataloaders['roberta-base']['CP']['train'], \n",
    "                              val_loader=dataloaders['roberta-base']['CP']['val'], \n",
    "                              criterion=criterion_test, \n",
    "                              metrics=[F1_Score_Multi_Labels('F1_macro_avg', num_labels=N_LABELS, num_classes=N_CLASSES)], \n",
    "                              optimizer=optimizer_test,\n",
    "                              early_stopper=EarlyStopper(monitor='F1_macro_avg', patience=4, delta=0, mode='max', restore_weights=True),\n",
    "                              num_epochs=200)\n",
    "    "
   ],
   "metadata": {
    "collapsed": false,
    "ExecuteTime": {
     "end_time": "2023-12-14T10:50:59.208069507Z",
     "start_time": "2023-12-14T10:50:59.207591489Z"
    }
   },
   "id": "a536ac48aad19715"
  },
  {
   "cell_type": "markdown",
   "source": [
    "#### 5) Bert w/CPS"
   ],
   "metadata": {
    "collapsed": false
   },
   "id": "93b760d270f05f86"
  },
  {
   "cell_type": "code",
   "execution_count": 12,
   "outputs": [
    {
     "name": "stdout",
     "output_type": "stream",
     "text": [
      " Epoch: 1/10 Iterations: 675/675 Time: 228.165s - loss: 0.631562829017639 - F1_macro_avg: 0.640598583937364 - val_loss: 0.65085756778717 - val_F1_macro_avg: 0.616415056308666 \n",
      " Epoch: 2/10 Iterations: 675/675 Time: 228.55s - loss: 0.611115515232086 - F1_macro_avg: 0.669361836044251 - val_loss: 0.644732236862183 - val_F1_macro_avg: 0.634359010870163 \n",
      " Epoch: 3/10 Iterations: 675/675 Time: 228.407s - loss: 0.596520721912384 - F1_macro_avg: 0.679985521111272 - val_loss: 0.636972665786743 - val_F1_macro_avg: 0.6456911217218 \n",
      " Epoch: 4/10 Iterations: 675/675 Time: 228.656s - loss: 0.579547941684723 - F1_macro_avg: 0.696843100072342 - val_loss: 0.627235233783722 - val_F1_macro_avg: 0.661217992450717 \n",
      " Epoch: 5/10 Iterations: 675/675 Time: 228.371s - loss: 0.564381182193756 - F1_macro_avg: 0.714298124304912 - val_loss: 0.617979526519775 - val_F1_macro_avg: 0.668093739867831 \n",
      " Epoch: 6/10 Iterations: 675/675 Time: 228.747s - loss: 0.551492869853973 - F1_macro_avg: 0.726471985758013 - val_loss: 0.611268401145935 - val_F1_macro_avg: 0.674012523523599 \n",
      " Epoch: 7/10 Iterations: 675/675 Time: 228.066s - loss: 0.539132654666901 - F1_macro_avg: 0.734391225981855 - val_loss: 0.60308837890625 - val_F1_macro_avg: 0.681822545967382 \n",
      " Epoch: 8/10 Iterations: 675/675 Time: 227.913s - loss: 0.525117814540863 - F1_macro_avg: 0.747313751412253 - val_loss: 0.598557770252228 - val_F1_macro_avg: 0.678694562165612 \n",
      " Epoch: 9/10 Iterations: 675/675 Time: 227.916s - loss: 0.512862384319305 - F1_macro_avg: 0.754784473293289 - val_loss: 0.593657076358795 - val_F1_macro_avg: 0.684744573118765 \n",
      " Epoch: 10/10 Iterations: 675/675 Time: 227.703s - loss: 0.502092182636261 - F1_macro_avg: 0.763144189654648 - val_loss: 0.590525209903717 - val_F1_macro_avg: 0.688258178050131 \n",
      "Train Completed\n"
     ]
    }
   ],
   "source": [
    "if FIT_BERTHREE:\n",
    "    optimizer_test = OptimizerWrapper(torch.optim.Adam, identifier=f'lr={1e-6}', optimizer_partial_params={'lr': 1e-6})          \n",
    "    criterion_test = Criterion('loss', loss_function=torch.nn.BCEWithLogitsLoss(reduction='none'), reduction_function=torch.mean)\n",
    "    \n",
    "    bert3 = BerThree(dropout_prob=0.3, hidden_size= 768, bert_version='roberta-base', bert_constructor=transformers.RobertaModel).to(device)\n",
    "    \n",
    "    bert3_history = bert3.fit(train_loader=dataloaders['roberta-base']['CPS']['train'], \n",
    "                              val_loader=dataloaders['roberta-base']['CPS']['val'], \n",
    "                              criterion=criterion_test, \n",
    "                              metrics=[F1_Score_Multi_Labels('F1_macro_avg', num_labels=N_LABELS, num_classes=N_CLASSES)], \n",
    "                              optimizer=optimizer_test,\n",
    "                              early_stopper=EarlyStopper(monitor='F1_macro_avg', patience=4, delta=0, mode='max', restore_weights=True),\n",
    "                              num_epochs=200)\n",
    "    "
   ],
   "metadata": {
    "collapsed": false,
    "ExecuteTime": {
     "end_time": "2023-12-14T11:29:03.290861971Z",
     "start_time": "2023-12-14T10:50:59.208028001Z"
    }
   },
   "id": "7d9e8beeda8c26f9"
  },
  {
   "cell_type": "code",
   "execution_count": null,
   "id": "829599ba89a99187",
   "metadata": {
    "collapsed": false,
    "ExecuteTime": {
     "start_time": "2023-12-14T09:39:24.224051660Z"
    }
   },
   "outputs": [],
   "source": [
    "### Test sul modello\n",
    "\n",
    "tokenizer = transformers.BertTokenizer.from_pretrained('bert-base-uncased')\n",
    "config=transformers.BertConfig.from_pretrained('bert-base-uncased')\n",
    "text = \"Replace me by any text you'd like pollo.\"\n",
    "encoded_input = tokenizer(text, return_tensors='pt')\n",
    "\n",
    "model = transformers.BertModel.from_pretrained(\"bert-base-uncased\")\n",
    "output = model(**encoded_input)\n",
    "print(model.config)\n",
    "\"\"\"p_d = BertOne()\n",
    "output1 = p_d(**encoded_input)\"\"\"\n"
   ]
  },
  {
   "cell_type": "code",
   "execution_count": null,
   "outputs": [],
   "source": [
    "from torch.nn.functional import max_pool2d\n",
    "\n",
    "print(output[0].shape)\n",
    "output_2 = max_pool2d(output[0], kernel_size=(14,1))\n",
    "\n",
    "output_2[:,0,:].shape"
   ],
   "metadata": {
    "collapsed": false,
    "ExecuteTime": {
     "start_time": "2023-12-14T09:39:24.225067827Z"
    }
   },
   "id": "c2bf2f8851186caf"
  },
  {
   "cell_type": "code",
   "execution_count": 13,
   "outputs": [
    {
     "name": "stdout",
     "output_type": "stream",
     "text": [
      "torch.Size([8, 1537])\n"
     ]
    }
   ],
   "source": [
    "tensor1 = torch.randn(8, 768)\n",
    "tensor2 = torch.randn(8, 768)\n",
    "tensor3 = torch.randn(8)\n",
    "\n",
    "# Aggiungi una dimensione al tensor3 per renderlo 2D\n",
    "tensor3 = tensor3.unsqueeze(1)\n",
    "\n",
    "# Concatena i tensori lungo la seconda dimensione\n",
    "risultato = torch.cat((tensor1, tensor2, tensor3), dim=1)\n",
    "\n",
    "# Verifica le dimensioni del risultato\n",
    "print(risultato.size())"
   ],
   "metadata": {
    "collapsed": false,
    "ExecuteTime": {
     "end_time": "2023-12-14T10:49:08.374524671Z",
     "start_time": "2023-12-14T10:49:08.332574310Z"
    }
   },
   "id": "5c5e93738eb0256"
  },
  {
   "cell_type": "code",
   "execution_count": 13,
   "outputs": [
    {
     "data": {
      "text/plain": "type"
     },
     "execution_count": 13,
     "metadata": {},
     "output_type": "execute_result"
    }
   ],
   "source": [
    "import transformers \n",
    "type(transformers.BertTokenizer)"
   ],
   "metadata": {
    "collapsed": false,
    "ExecuteTime": {
     "end_time": "2023-12-14T11:43:44.234759555Z",
     "start_time": "2023-12-14T11:43:44.068686334Z"
    }
   },
   "id": "2cea29ead9bf4c93"
  },
  {
   "cell_type": "code",
   "execution_count": null,
   "outputs": [],
   "source": [],
   "metadata": {
    "collapsed": false
   },
   "id": "35ddc6bcd8809fc"
  },
  {
   "cell_type": "code",
   "execution_count": null,
   "outputs": [],
   "source": [
    "model_inputs = {\"C\":[\"Conclusion\"], \"CP\":[\"Conclusion\", \"Premise\"], \"CPS\":[\"Conclusion\", \"Premise\", \"Stance\"]}\n",
    "\n",
    "dataloader_train_C, dataloader_val_C, dataloader_test_C  = build_dataloaders(train_df=train_arg_df, \n",
    "                                                                             val_df=val_arg_df, \n",
    "                                                                             test_df=test_arg_df, \n",
    "                                                                             train_labels_df=train_labels_df, \n",
    "                                                                             val_labels_df=val_labels_df, \n",
    "                                                                             test_labels_df=test_labels_df, \n",
    "                                                                             one_hot_mapping=CLASS_2_ONE_HOT, \n",
    "                                                                             bert_version=\"bert-base-uncased\", \n",
    "                                                                             model_input=model_inputs[\"C\"],\n",
    "                                                                             custom_dataset_builder=CustomDataset_C,\n",
    "                                                                             batch_size=BATCH_SIZE_C, \n",
    "                                                                             shuffle=True)\n",
    "\n",
    "dataloader_train_CP, dataloader_val_CP, dataloader_test_CP  = build_dataloaders(train_df=train_arg_df, \n",
    "                                                                                val_df=val_arg_df, \n",
    "                                                                                test_df=test_arg_df, \n",
    "                                                                                train_labels_df=train_labels_df, \n",
    "                                                                                val_labels_df=val_labels_df, \n",
    "                                                                                test_labels_df=test_labels_df, \n",
    "                                                                                one_hot_mapping=CLASS_2_ONE_HOT, \n",
    "                                                                                bert_version=\"bert-base-uncased\", \n",
    "                                                                                model_input=model_inputs[\"CP\"],\n",
    "                                                                                custom_dataset_builder=CustomDataset_CP,\n",
    "                                                                                batch_size=BATCH_SIZE_CP, \n",
    "                                                                                shuffle=True)\n",
    "\n",
    "dataloader_train_CPS, dataloader_val_CPS, dataloader_test_CPS  = build_dataloaders(train_df=train_arg_df, \n",
    "                                                                                   val_df=val_arg_df, \n",
    "                                                                                   test_df=test_arg_df, \n",
    "                                                                                   train_labels_df=train_labels_df, \n",
    "                                                                                   val_labels_df=val_labels_df, \n",
    "                                                                                   test_labels_df=test_labels_df, \n",
    "                                                                                   one_hot_mapping=CLASS_2_ONE_HOT, \n",
    "                                                                                   bert_version=\"bert-base-uncased\", \n",
    "                                                                                   model_input=model_inputs[\"CPS\"],\n",
    "                                                                                   custom_dataset_builder=CustomDataset_CPS,\n",
    "                                                                                   batch_size=BATCH_SIZE_CPS, \n",
    "                                                                                   shuffle=True)\n",
    "\n",
    "\n",
    "\n",
    "\n"
   ],
   "metadata": {
    "collapsed": false
   },
   "id": "5e275f7daf39b21f"
  },
  {
   "cell_type": "code",
   "execution_count": 13,
   "outputs": [
    {
     "data": {
      "text/plain": "{'input_ids': [0, 42891, 2], 'token_type_ids': [0, 0, 0], 'attention_mask': [1, 1, 1]}"
     },
     "execution_count": 13,
     "metadata": {},
     "output_type": "execute_result"
    }
   ],
   "source": [
    "rt = transformers.RobertaTokenizer.from_pretrained('bert_models/roberta-base')\n",
    "rt.encode_plus('hello',return_token_type_ids=True)"
   ],
   "metadata": {
    "collapsed": false,
    "ExecuteTime": {
     "end_time": "2023-12-14T14:47:36.436989743Z",
     "start_time": "2023-12-14T14:47:36.162738737Z"
    }
   },
   "id": "6ad35a5abbfb9f16"
  },
  {
   "cell_type": "code",
   "execution_count": 12,
   "outputs": [
    {
     "data": {
      "text/plain": "{'input_ids': [101, 7592, 102], 'token_type_ids': [0, 0, 0], 'attention_mask': [1, 1, 1]}"
     },
     "execution_count": 12,
     "metadata": {},
     "output_type": "execute_result"
    }
   ],
   "source": [
    "rt = transformers.BertTokenizer.from_pretrained('bert_models/bert-base-uncased')\n",
    "rt.encode_plus('hello',return_token_type_ids=True)"
   ],
   "metadata": {
    "collapsed": false,
    "ExecuteTime": {
     "end_time": "2023-12-14T14:42:34.275964624Z",
     "start_time": "2023-12-14T14:42:34.147368418Z"
    }
   },
   "id": "5a36d2a9f9a1aa60"
  }
 ],
 "metadata": {
  "kernelspec": {
   "display_name": "Python 3",
   "language": "python",
   "name": "python3"
  },
  "language_info": {
   "codemirror_mode": {
    "name": "ipython",
    "version": 3
   },
   "file_extension": ".py",
   "mimetype": "text/x-python",
   "name": "python",
   "nbconvert_exporter": "python",
   "pygments_lexer": "ipython3",
   "version": "3.11.6"
  }
 },
 "nbformat": 4,
 "nbformat_minor": 5
}
