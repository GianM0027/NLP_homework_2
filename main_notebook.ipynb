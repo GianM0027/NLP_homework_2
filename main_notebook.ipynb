{
 "cells": [
  {
   "cell_type": "markdown",
   "id": "ebfa8f6058f07c39",
   "metadata": {
    "collapsed": false
   },
   "source": [
    "# Human Value Detection"
   ]
  },
  {
   "cell_type": "markdown",
   "id": "f47fe4c58990df29",
   "metadata": {
    "collapsed": false
   },
   "source": [
    "## Imports"
   ]
  },
  {
   "cell_type": "code",
   "execution_count": 76,
   "id": "9e9333223475180",
   "metadata": {
    "collapsed": false,
    "ExecuteTime": {
     "end_time": "2024-01-05T18:43:13.323017937Z",
     "start_time": "2024-01-05T18:43:13.171177129Z"
    }
   },
   "outputs": [
    {
     "name": "stdout",
     "output_type": "stream",
     "text": [
      "The autoreload extension is already loaded. To reload it, use:\n",
      "  %reload_ext autoreload\n"
     ]
    }
   ],
   "source": [
    "%load_ext autoreload\n",
    "%autoreload 2\n",
    "\n",
    "\n",
    "from sys import platform\n",
    "\n",
    "\n",
    "from drTorch.utilities import *\n",
    "from drTorch.callbacks import EarlyStopper\n",
    "from drTorch.metrics import F1_Score_Multi_Labels\n",
    "from drTorch.wrappers import OptimizerWrapper\n",
    "from drTorch.wrappers import Criterion\n",
    "from drTorch.model_selection import grid_search_train_validation\n",
    "\n",
    "\n",
    "from utilities import *\n",
    "\n",
    "from models.randomUniformClassifier import RandomUniformClassifier\n",
    "from models.majorityCalssifier import MajorityClassifier\n",
    "from models.bertOne import BertOne\n",
    "from models.berTwo import BerTwo\n",
    "from models.berThree import BerThree\n",
    "\n",
    "from sklearn.metrics import accuracy_score\n",
    "from functools import partial\n",
    "\n",
    "import numpy as np\n",
    "import joblib\n",
    "from tabulate import tabulate\n"
   ]
  },
  {
   "cell_type": "markdown",
   "source": [
    "## Setting the device"
   ],
   "metadata": {
    "collapsed": false
   },
   "id": "29e2eb57cfb6e30c"
  },
  {
   "cell_type": "code",
   "execution_count": 33,
   "id": "29dcff5a5f7bfb48",
   "metadata": {
    "collapsed": false,
    "ExecuteTime": {
     "end_time": "2024-01-05T17:53:52.341953786Z",
     "start_time": "2024-01-05T17:53:52.082992572Z"
    }
   },
   "outputs": [
    {
     "name": "stdout",
     "output_type": "stream",
     "text": [
      "PyTorch version: 2.1.1+cu121\n",
      "Using device: cuda\n"
     ]
    }
   ],
   "source": [
    "print(f\"PyTorch version: {torch.__version__}\")\n",
    "\n",
    "if platform == \"darwin\":    #Run on macOS\n",
    "    \n",
    "    print(f\"Is MPS (Metal Performance Shader) built? {torch.backends.mps.is_built()}\")\n",
    "    print(f\"Is MPS available? {torch.backends.mps.is_available()}\")\n",
    "    device = \"mps\" if torch.backends.mps.is_available() else \"cpu\"    \n",
    "else:\n",
    "    device = torch.device('cuda' if torch.cuda.is_available() else 'cpu') \n",
    "\n",
    "print(f\"Using device: {device}\")\n"
   ]
  },
  {
   "cell_type": "code",
   "execution_count": 34,
   "outputs": [
    {
     "name": "stdout",
     "output_type": "stream",
     "text": [
      "Fri Jan  5 18:53:52 2024       \r\n",
      "+---------------------------------------------------------------------------------------+\r\n",
      "| NVIDIA-SMI 545.29.06              Driver Version: 545.29.06    CUDA Version: 12.3     |\r\n",
      "|-----------------------------------------+----------------------+----------------------+\r\n",
      "| GPU  Name                 Persistence-M | Bus-Id        Disp.A | Volatile Uncorr. ECC |\r\n",
      "| Fan  Temp   Perf          Pwr:Usage/Cap |         Memory-Usage | GPU-Util  Compute M. |\r\n",
      "|                                         |                      |               MIG M. |\r\n",
      "|=========================================+======================+======================|\r\n",
      "|   0  NVIDIA GeForce RTX 4060 ...    Off | 00000000:01:00.0  On |                  N/A |\r\n",
      "| N/A   40C    P8               3W /  80W |   4637MiB /  8188MiB |      6%      Default |\r\n",
      "|                                         |                      |                  N/A |\r\n",
      "+-----------------------------------------+----------------------+----------------------+\r\n",
      "                                                                                         \r\n",
      "+---------------------------------------------------------------------------------------+\r\n",
      "| Processes:                                                                            |\r\n",
      "|  GPU   GI   CI        PID   Type   Process name                            GPU Memory |\r\n",
      "|        ID   ID                                                             Usage      |\r\n",
      "|=======================================================================================|\r\n",
      "|    0   N/A  N/A       832      G   /usr/lib/Xorg                                45MiB |\r\n",
      "|    0   N/A  N/A    123523      C   ...ects/NLP_homework_2/venv/bin/python     4582MiB |\r\n",
      "+---------------------------------------------------------------------------------------+\r\n"
     ]
    }
   ],
   "source": [
    "if device != 'mps':\n",
    "    !nvidia-smi\n",
    "    "
   ],
   "metadata": {
    "collapsed": false,
    "ExecuteTime": {
     "end_time": "2024-01-05T17:53:52.455119179Z",
     "start_time": "2024-01-05T17:53:52.096698692Z"
    }
   },
   "id": "a070748d8ab72410"
  },
  {
   "cell_type": "markdown",
   "id": "9f2553b6aeb5c7f9",
   "metadata": {
    "collapsed": false
   },
   "source": []
  },
  {
   "cell_type": "markdown",
   "id": "ef2ee4b05f9169d2",
   "metadata": {
    "collapsed": false
   },
   "source": [
    "## Defining constants flags and work directory"
   ]
  },
  {
   "cell_type": "code",
   "execution_count": 67,
   "outputs": [],
   "source": [
    "##### PATHS AND DATAFRAME CREATION\n",
    "\n",
    "# Directory paths for data storage\n",
    "DATA_DIR = \"data\"\n",
    "ARGUMENTS_DIR = os.path.join(DATA_DIR, \"arguments\")\n",
    "LABELS_DIR = os.path.join(DATA_DIR, \"labels\")\n",
    "\n",
    "# Directory paths for model and result storage\n",
    "BERT_MODELS_DIRECTORY = \"bert_models\"\n",
    "RESULT_DIRECTORY = 'results'  # Directory to store the results\n",
    "GRID_DIRECTORY = 'grid'  # Directory to store the grid results\n",
    "WEIGHTS_DIRECTORY = 'weights'  # Directory to store model weights\n",
    "\n",
    "# File paths for grid search results\n",
    "BERTONE_GRID_SEARCH_RESULTS_PATH = os.path.join(RESULT_DIRECTORY, GRID_DIRECTORY, 'bertone_grid_search_results.pkl')\n",
    "BERTWO_GRID_SEARCH_RESULTS_PATH = os.path.join(RESULT_DIRECTORY, GRID_DIRECTORY, 'bertwo_grid_search_results.pkl')\n",
    "BERTHREE_GRID_SEARCH_RESULTS_PATH = os.path.join(RESULT_DIRECTORY, GRID_DIRECTORY, 'berthree_grid_search_results.pkl')\n",
    "\n",
    "# File paths for model weights\n",
    "BERTONE_WEIGHTS_PATH = os.path.join(RESULT_DIRECTORY, WEIGHTS_DIRECTORY, 'bertone_wights.pth')\n",
    "BERTWO_WEIGHTS_PATH = os.path.join(RESULT_DIRECTORY, WEIGHTS_DIRECTORY, 'bertwo_wights.pth')\n",
    "BERTHREE_WEIGHTS_PATH = os.path.join(RESULT_DIRECTORY, WEIGHTS_DIRECTORY, 'berthree_wights.pth')\n",
    "\n",
    "\n",
    "##### CONSTANTS \n",
    "\n",
    "# Number of labels and classes\n",
    "N_LABELS = 4\n",
    "N_CLASSES = 2\n",
    "\n",
    "# Batch sizes for different models\n",
    "BATCH_SIZE_C = 32\n",
    "BATCH_SIZE_CP = 16\n",
    "BATCH_SIZE_CPS = 16\n",
    "\n",
    "# Available BERT versions\n",
    "BERT_VERSIONS=[\"bert-base-uncased\", \"roberta-base\"]\n",
    "\n",
    "# BERT model constructors and tokenizer constructors\n",
    "BERT_CONSTRUCTORS = {'bert-base-uncased': transformers.BertModel, 'roberta-base': transformers.RobertaModel}\n",
    "BERT_TOKENIZER_CONSTRUCTORS = {'bert-base-uncased': transformers.BertTokenizer, 'roberta-base':transformers.RobertaTokenizer}\n",
    "\n",
    "# Input and batch sizes for different model types\n",
    "MODEL_INPUTS = {\"C\":[\"Conclusion\"], \"CP\":[\"Conclusion\", \"Premise\"], \"CPS\":[\"Conclusion\", \"Premise\", \"Stance\"]}\n",
    "MODEL_BATCH_SIZES = {\"C\": BATCH_SIZE_C, \"CP\": BATCH_SIZE_CP, \"CPS\": BATCH_SIZE_CPS}\n",
    "MODEL_DATASET_BUILDERS = {\"C\":CustomDataset_C, \"CP\": CustomDataset_CP, \"CPS\": CustomDataset_CPS}\n",
    "\n",
    "\n",
    "##### FLAGS FOR MODEL TRAINING AND EVALUATION\n",
    "\n",
    "# Flags to control the execution of grid searches and model training\n",
    "RUN_BERTONE_GRID_SEARCH = False\n",
    "RUN_BERTWO_GRID_SEARCH = False\n",
    "RUN_BERTHREE_GRID_SEARCH = False\n",
    "\n",
    "# Flags for running additional classifiers\n",
    "RUN_RANDOM_CLF = True\n",
    "RUN_MAJORITY_CLF = True\n",
    "\n",
    "# Flags for fitting different BERT models\n",
    "FIT_BERTONE = False\n",
    "FIT_BERTWO = False\n",
    "FIT_BERTHREE = True\n",
    "# One-hot encoding for binary classification\n",
    "CLASS_2_ONE_HOT = {class_label: np.eye(N_CLASSES)[i].astype(float).tolist() for i, class_label in enumerate(range(N_CLASSES))}\n"
   ],
   "metadata": {
    "collapsed": false,
    "ExecuteTime": {
     "end_time": "2024-01-05T18:05:42.822648599Z",
     "start_time": "2024-01-05T18:05:42.778917033Z"
    }
   },
   "id": "7d71adb601979737"
  },
  {
   "cell_type": "markdown",
   "source": [
    "## Downloading the bert versions\n"
   ],
   "metadata": {
    "collapsed": false
   },
   "id": "76055e5b3c247cc6"
  },
  {
   "cell_type": "code",
   "execution_count": 36,
   "outputs": [],
   "source": [
    "if os.path.exists(BERT_MODELS_DIRECTORY):\n",
    "    bert_versions_paths = [os.path.join(BERT_MODELS_DIRECTORY, version)for version in BERT_VERSIONS]\n",
    "else:    \n",
    "    bert_versions_paths = download_bert_models(BERT_MODELS_DIRECTORY, BERT_VERSIONS, BERT_CONSTRUCTORS, BERT_TOKENIZER_CONSTRUCTORS)  \n",
    "    "
   ],
   "metadata": {
    "collapsed": false,
    "ExecuteTime": {
     "end_time": "2024-01-05T17:53:52.455525182Z",
     "start_time": "2024-01-05T17:53:52.375387507Z"
    }
   },
   "id": "74b183ba89c18105"
  },
  {
   "cell_type": "markdown",
   "id": "32a409b1e982e3dd",
   "metadata": {
    "collapsed": false
   },
   "source": [
    "## Task 1"
   ]
  },
  {
   "cell_type": "markdown",
   "id": "3723181a1d5f1aad",
   "metadata": {
    "collapsed": false
   },
   "source": [
    "### Visualizing the data"
   ]
  },
  {
   "cell_type": "code",
   "execution_count": 37,
   "id": "910abdb6bbf8ee01",
   "metadata": {
    "collapsed": false,
    "ExecuteTime": {
     "end_time": "2024-01-05T17:53:52.517052282Z",
     "start_time": "2024-01-05T17:53:52.403940213Z"
    }
   },
   "outputs": [
    {
     "name": "stdout",
     "output_type": "stream",
     "text": [
      "Let's visualize the data: \n"
     ]
    },
    {
     "data": {
      "text/plain": "                                              Conclusion       Stance  \\\nArgument ID                                                             \nA01002                       We should ban human cloning  in favor of   \nA01005                           We should ban fast food  in favor of   \nA01006       We should end the use of economic sanctions      against   \nA01007              We should abolish capital punishment      against   \nA01008                     We should ban factory farming      against   \n\n                                                       Premise  \nArgument ID                                                     \nA01002       we should ban human cloning as it will only ca...  \nA01005       fast food should be banned because it is reall...  \nA01006       sometimes economic sanctions are the only thin...  \nA01007       capital punishment is sometimes the only optio...  \nA01008       factory farming allows for the production of c...  ",
      "text/html": "<div>\n<style scoped>\n    .dataframe tbody tr th:only-of-type {\n        vertical-align: middle;\n    }\n\n    .dataframe tbody tr th {\n        vertical-align: top;\n    }\n\n    .dataframe thead th {\n        text-align: right;\n    }\n</style>\n<table border=\"1\" class=\"dataframe\">\n  <thead>\n    <tr style=\"text-align: right;\">\n      <th></th>\n      <th>Conclusion</th>\n      <th>Stance</th>\n      <th>Premise</th>\n    </tr>\n    <tr>\n      <th>Argument ID</th>\n      <th></th>\n      <th></th>\n      <th></th>\n    </tr>\n  </thead>\n  <tbody>\n    <tr>\n      <th>A01002</th>\n      <td>We should ban human cloning</td>\n      <td>in favor of</td>\n      <td>we should ban human cloning as it will only ca...</td>\n    </tr>\n    <tr>\n      <th>A01005</th>\n      <td>We should ban fast food</td>\n      <td>in favor of</td>\n      <td>fast food should be banned because it is reall...</td>\n    </tr>\n    <tr>\n      <th>A01006</th>\n      <td>We should end the use of economic sanctions</td>\n      <td>against</td>\n      <td>sometimes economic sanctions are the only thin...</td>\n    </tr>\n    <tr>\n      <th>A01007</th>\n      <td>We should abolish capital punishment</td>\n      <td>against</td>\n      <td>capital punishment is sometimes the only optio...</td>\n    </tr>\n    <tr>\n      <th>A01008</th>\n      <td>We should ban factory farming</td>\n      <td>against</td>\n      <td>factory farming allows for the production of c...</td>\n    </tr>\n  </tbody>\n</table>\n</div>"
     },
     "metadata": {},
     "output_type": "display_data"
    },
    {
     "data": {
      "text/plain": "             Self-direction: thought  Self-direction: action  Stimulation  \\\nArgument ID                                                                 \nA01002                             0                       0            0   \nA01005                             0                       0            0   \nA01006                             0                       0            0   \nA01007                             0                       0            0   \nA01008                             0                       0            0   \n\n             Hedonism  Achievement  Power: dominance  Power: resources  Face  \\\nArgument ID                                                                    \nA01002              0            0                 0                 0     0   \nA01005              0            0                 0                 0     0   \nA01006              0            0                 1                 0     0   \nA01007              0            0                 0                 0     0   \nA01008              0            0                 0                 0     0   \n\n             Security: personal  Security: societal  Tradition  \\\nArgument ID                                                      \nA01002                        0                   1          0   \nA01005                        1                   0          0   \nA01006                        0                   1          0   \nA01007                        0                   1          0   \nA01008                        1                   0          0   \n\n             Conformity: rules  Conformity: interpersonal  Humility  \\\nArgument ID                                                           \nA01002                       0                          0         0   \nA01005                       0                          0         0   \nA01006                       0                          0         0   \nA01007                       1                          0         0   \nA01008                       0                          0         0   \n\n             Benevolence: caring  Benevolence: dependability  \\\nArgument ID                                                    \nA01002                         0                           0   \nA01005                         0                           0   \nA01006                         0                           0   \nA01007                         0                           0   \nA01008                         1                           0   \n\n             Universalism: concern  Universalism: nature  \\\nArgument ID                                                \nA01002                           0                     0   \nA01005                           0                     0   \nA01006                           0                     0   \nA01007                           1                     0   \nA01008                           1                     0   \n\n             Universalism: tolerance  Universalism: objectivity  \nArgument ID                                                      \nA01002                             0                          0  \nA01005                             0                          0  \nA01006                             0                          0  \nA01007                             0                          0  \nA01008                             0                          0  ",
      "text/html": "<div>\n<style scoped>\n    .dataframe tbody tr th:only-of-type {\n        vertical-align: middle;\n    }\n\n    .dataframe tbody tr th {\n        vertical-align: top;\n    }\n\n    .dataframe thead th {\n        text-align: right;\n    }\n</style>\n<table border=\"1\" class=\"dataframe\">\n  <thead>\n    <tr style=\"text-align: right;\">\n      <th></th>\n      <th>Self-direction: thought</th>\n      <th>Self-direction: action</th>\n      <th>Stimulation</th>\n      <th>Hedonism</th>\n      <th>Achievement</th>\n      <th>Power: dominance</th>\n      <th>Power: resources</th>\n      <th>Face</th>\n      <th>Security: personal</th>\n      <th>Security: societal</th>\n      <th>Tradition</th>\n      <th>Conformity: rules</th>\n      <th>Conformity: interpersonal</th>\n      <th>Humility</th>\n      <th>Benevolence: caring</th>\n      <th>Benevolence: dependability</th>\n      <th>Universalism: concern</th>\n      <th>Universalism: nature</th>\n      <th>Universalism: tolerance</th>\n      <th>Universalism: objectivity</th>\n    </tr>\n    <tr>\n      <th>Argument ID</th>\n      <th></th>\n      <th></th>\n      <th></th>\n      <th></th>\n      <th></th>\n      <th></th>\n      <th></th>\n      <th></th>\n      <th></th>\n      <th></th>\n      <th></th>\n      <th></th>\n      <th></th>\n      <th></th>\n      <th></th>\n      <th></th>\n      <th></th>\n      <th></th>\n      <th></th>\n      <th></th>\n    </tr>\n  </thead>\n  <tbody>\n    <tr>\n      <th>A01002</th>\n      <td>0</td>\n      <td>0</td>\n      <td>0</td>\n      <td>0</td>\n      <td>0</td>\n      <td>0</td>\n      <td>0</td>\n      <td>0</td>\n      <td>0</td>\n      <td>1</td>\n      <td>0</td>\n      <td>0</td>\n      <td>0</td>\n      <td>0</td>\n      <td>0</td>\n      <td>0</td>\n      <td>0</td>\n      <td>0</td>\n      <td>0</td>\n      <td>0</td>\n    </tr>\n    <tr>\n      <th>A01005</th>\n      <td>0</td>\n      <td>0</td>\n      <td>0</td>\n      <td>0</td>\n      <td>0</td>\n      <td>0</td>\n      <td>0</td>\n      <td>0</td>\n      <td>1</td>\n      <td>0</td>\n      <td>0</td>\n      <td>0</td>\n      <td>0</td>\n      <td>0</td>\n      <td>0</td>\n      <td>0</td>\n      <td>0</td>\n      <td>0</td>\n      <td>0</td>\n      <td>0</td>\n    </tr>\n    <tr>\n      <th>A01006</th>\n      <td>0</td>\n      <td>0</td>\n      <td>0</td>\n      <td>0</td>\n      <td>0</td>\n      <td>1</td>\n      <td>0</td>\n      <td>0</td>\n      <td>0</td>\n      <td>1</td>\n      <td>0</td>\n      <td>0</td>\n      <td>0</td>\n      <td>0</td>\n      <td>0</td>\n      <td>0</td>\n      <td>0</td>\n      <td>0</td>\n      <td>0</td>\n      <td>0</td>\n    </tr>\n    <tr>\n      <th>A01007</th>\n      <td>0</td>\n      <td>0</td>\n      <td>0</td>\n      <td>0</td>\n      <td>0</td>\n      <td>0</td>\n      <td>0</td>\n      <td>0</td>\n      <td>0</td>\n      <td>1</td>\n      <td>0</td>\n      <td>1</td>\n      <td>0</td>\n      <td>0</td>\n      <td>0</td>\n      <td>0</td>\n      <td>1</td>\n      <td>0</td>\n      <td>0</td>\n      <td>0</td>\n    </tr>\n    <tr>\n      <th>A01008</th>\n      <td>0</td>\n      <td>0</td>\n      <td>0</td>\n      <td>0</td>\n      <td>0</td>\n      <td>0</td>\n      <td>0</td>\n      <td>0</td>\n      <td>1</td>\n      <td>0</td>\n      <td>0</td>\n      <td>0</td>\n      <td>0</td>\n      <td>0</td>\n      <td>1</td>\n      <td>0</td>\n      <td>1</td>\n      <td>0</td>\n      <td>0</td>\n      <td>0</td>\n    </tr>\n  </tbody>\n</table>\n</div>"
     },
     "metadata": {},
     "output_type": "display_data"
    }
   ],
   "source": [
    "# convert files in dataframes\n",
    "train_arg_df, val_arg_df, test_arg_df = create_dfs(ARGUMENTS_DIR)\n",
    "train_labels_df, val_labels_df, test_labels_df = create_dfs(LABELS_DIR)\n",
    "\n",
    "print(\"Let's visualize the data: \")\n",
    "display(train_arg_df.head(5))\n",
    "display(train_labels_df.head(5))\n"
   ]
  },
  {
   "cell_type": "markdown",
   "id": "f2f8c631fc728aa8",
   "metadata": {
    "collapsed": false
   },
   "source": [
    "### Mapping labels to level-3 categories"
   ]
  },
  {
   "cell_type": "code",
   "execution_count": 38,
   "id": "998d8c9bd76a90f4",
   "metadata": {
    "collapsed": false,
    "ExecuteTime": {
     "end_time": "2024-01-05T17:53:53.481724579Z",
     "start_time": "2024-01-05T17:53:52.488183369Z"
    }
   },
   "outputs": [
    {
     "name": "stdout",
     "output_type": "stream",
     "text": [
      "The training labels after the mapping are the following: \n"
     ]
    },
    {
     "data": {
      "text/plain": "             Openess_to_change  Self_enhancement  Conservation  \\\nArgument ID                                                      \nA01002                       0                 0             1   \nA01005                       0                 0             1   \nA01006                       0                 1             1   \nA01007                       0                 0             1   \nA01008                       0                 0             1   \n...                        ...               ...           ...   \nE08016                       0                 1             1   \nE08017                       0                 0             1   \nE08018                       0                 0             0   \nE08019                       0                 0             1   \nE08020                       1                 1             1   \n\n             Self_transcendence  \nArgument ID                      \nA01002                        0  \nA01005                        0  \nA01006                        0  \nA01007                        0  \nA01008                        1  \n...                         ...  \nE08016                        1  \nE08017                        1  \nE08018                        1  \nE08019                        1  \nE08020                        1  \n\n[5393 rows x 4 columns]",
      "text/html": "<div>\n<style scoped>\n    .dataframe tbody tr th:only-of-type {\n        vertical-align: middle;\n    }\n\n    .dataframe tbody tr th {\n        vertical-align: top;\n    }\n\n    .dataframe thead th {\n        text-align: right;\n    }\n</style>\n<table border=\"1\" class=\"dataframe\">\n  <thead>\n    <tr style=\"text-align: right;\">\n      <th></th>\n      <th>Openess_to_change</th>\n      <th>Self_enhancement</th>\n      <th>Conservation</th>\n      <th>Self_transcendence</th>\n    </tr>\n    <tr>\n      <th>Argument ID</th>\n      <th></th>\n      <th></th>\n      <th></th>\n      <th></th>\n    </tr>\n  </thead>\n  <tbody>\n    <tr>\n      <th>A01002</th>\n      <td>0</td>\n      <td>0</td>\n      <td>1</td>\n      <td>0</td>\n    </tr>\n    <tr>\n      <th>A01005</th>\n      <td>0</td>\n      <td>0</td>\n      <td>1</td>\n      <td>0</td>\n    </tr>\n    <tr>\n      <th>A01006</th>\n      <td>0</td>\n      <td>1</td>\n      <td>1</td>\n      <td>0</td>\n    </tr>\n    <tr>\n      <th>A01007</th>\n      <td>0</td>\n      <td>0</td>\n      <td>1</td>\n      <td>0</td>\n    </tr>\n    <tr>\n      <th>A01008</th>\n      <td>0</td>\n      <td>0</td>\n      <td>1</td>\n      <td>1</td>\n    </tr>\n    <tr>\n      <th>...</th>\n      <td>...</td>\n      <td>...</td>\n      <td>...</td>\n      <td>...</td>\n    </tr>\n    <tr>\n      <th>E08016</th>\n      <td>0</td>\n      <td>1</td>\n      <td>1</td>\n      <td>1</td>\n    </tr>\n    <tr>\n      <th>E08017</th>\n      <td>0</td>\n      <td>0</td>\n      <td>1</td>\n      <td>1</td>\n    </tr>\n    <tr>\n      <th>E08018</th>\n      <td>0</td>\n      <td>0</td>\n      <td>0</td>\n      <td>1</td>\n    </tr>\n    <tr>\n      <th>E08019</th>\n      <td>0</td>\n      <td>0</td>\n      <td>1</td>\n      <td>1</td>\n    </tr>\n    <tr>\n      <th>E08020</th>\n      <td>1</td>\n      <td>1</td>\n      <td>1</td>\n      <td>1</td>\n    </tr>\n  </tbody>\n</table>\n<p>5393 rows × 4 columns</p>\n</div>"
     },
     "execution_count": 38,
     "metadata": {},
     "output_type": "execute_result"
    }
   ],
   "source": [
    "mapping = define_mapping()\n",
    "train_labels_df, val_labels_df, test_labels_df = map_to_level_3(mapping, train_labels_df, val_labels_df, test_labels_df) \n",
    "\n",
    "print(\"The training labels after the mapping are the following: \")\n",
    "train_labels_df\n"
   ]
  },
  {
   "cell_type": "markdown",
   "source": [
    "### Visualising the data distributions"
   ],
   "metadata": {
    "collapsed": false
   },
   "id": "b906019f7db003d7"
  },
  {
   "cell_type": "code",
   "execution_count": 39,
   "outputs": [
    {
     "data": {
      "text/plain": "<Figure size 2000x400 with 4 Axes>",
      "image/png": "[encoded data removed]"
     },
     "metadata": {},
     "output_type": "display_data"
    }
   ],
   "source": [
    "plot_comparison_across_sets(train_labels_df, val_labels_df, test_labels_df)\n"
   ],
   "metadata": {
    "collapsed": false,
    "ExecuteTime": {
     "end_time": "2024-01-05T17:53:53.929910865Z",
     "start_time": "2024-01-05T17:53:53.482454089Z"
    }
   },
   "id": "582c6f9c685915c"
  },
  {
   "cell_type": "markdown",
   "id": "5b9b4d8eb2b9080d",
   "metadata": {
    "collapsed": false,
    "ExecuteTime": {
     "end_time": "2023-12-13T16:45:19.405346392Z",
     "start_time": "2023-12-13T16:45:13.535600867Z"
    }
   },
   "source": [
    "## Task 2 & Task 3 & task 4"
   ]
  },
  {
   "cell_type": "markdown",
   "source": [
    "### Creating the directory to store the results for our grid search\n"
   ],
   "metadata": {
    "collapsed": false
   },
   "id": "61ddc78f00c59c3e"
  },
  {
   "cell_type": "code",
   "execution_count": 40,
   "outputs": [],
   "source": [
    "if not os.path.exists(RESULT_DIRECTORY):\n",
    "    os.makedirs(RESULT_DIRECTORY)\n",
    "    os.makedirs(os.path.join(RESULT_DIRECTORY, WEIGHTS_DIRECTORY))\n",
    "\n",
    "    "
   ],
   "metadata": {
    "collapsed": false,
    "ExecuteTime": {
     "end_time": "2024-01-05T17:53:54.018623237Z",
     "start_time": "2024-01-05T17:53:53.932396944Z"
    }
   },
   "id": "7aa8a4f5c6bbef61"
  },
  {
   "cell_type": "markdown",
   "source": [
    "### Models Definition"
   ],
   "metadata": {
    "collapsed": false
   },
   "id": "31dbdf03bd612820"
  },
  {
   "cell_type": "markdown",
   "source": [
    "####  1) Random uniform classifier"
   ],
   "metadata": {
    "collapsed": false
   },
   "id": "4b3848b4411be166"
  },
  {
   "cell_type": "code",
   "execution_count": 41,
   "outputs": [
    {
     "name": "stdout",
     "output_type": "stream",
     "text": [
      "Accuracy of the model over all the classes: 0.06916243654822335\n",
      "\n",
      " - Openess_to_change F1: 0.46803652110711547\n",
      " - Self_enhancement F1: 0.4987502790550497\n",
      " - Conservation F1: 0.47773415215275683\n",
      " - Self_transcendence F1: 0.5113079896907217\n",
      "\n",
      "Average F1: 0.4889572355014109\n"
     ]
    }
   ],
   "source": [
    "if RUN_RANDOM_CLF:\n",
    "    # Create an instance of the random uniform classifier\n",
    "    random_classifier = RandomUniformClassifier(N_LABELS)\n",
    "    \n",
    "    # Make predictions on the test set\n",
    "    predicted_labels = random_classifier.predict(test_arg_df)\n",
    "    \n",
    "    # Accuracy of the Random Classifier\n",
    "    accuracy = accuracy_score(test_labels_df, predicted_labels)\n",
    "    print(f'Accuracy of the model over all the classes: {accuracy}\\n')\n",
    "    \n",
    "    # F1 scores on the different labels singularly taken \n",
    "    f1_scorer = F1_Score_Multi_Labels(name='F1_macro_avg', num_labels=N_LABELS, num_classes=N_CLASSES, compute_mean=False)\n",
    "    f1_scores_random_classifier = f1_scorer(torch.tensor(test_labels_df.values.tolist()), torch.tensor(predicted_labels))\n",
    "    # AVG F1 score\n",
    "    f1_avg_random_classifier = np.average(f1_scores_random_classifier)\n",
    "    \n",
    "    \n",
    "    for idx, f1_score in enumerate(f1_scores_random_classifier):\n",
    "        print(f\" - {train_labels_df.columns[idx]} F1: {f1_score}\")\n",
    "    \n",
    "    print(f'\\nAverage F1: {f1_avg_random_classifier}')\n"
   ],
   "metadata": {
    "collapsed": false,
    "ExecuteTime": {
     "end_time": "2024-01-05T17:53:54.019050140Z",
     "start_time": "2024-01-05T17:53:53.953870725Z"
    }
   },
   "id": "82f51d9c86bef3a0"
  },
  {
   "cell_type": "markdown",
   "source": [
    "####  2) Majority classifier"
   ],
   "metadata": {
    "collapsed": false
   },
   "id": "4db911208037aa18"
  },
  {
   "cell_type": "code",
   "execution_count": 42,
   "outputs": [
    {
     "name": "stdout",
     "output_type": "stream",
     "text": [
      "Accuracy of the model over all the classes: 0.13642131979695432\n",
      "\n",
      " - Openess_to_change F1: 0.41150112023898433\n",
      " - Self_enhancement F1: 0.3708582834331337\n",
      " - Conservation F1: 0.4152133580705009\n",
      " - Self_transcendence F1: 0.32850447379633574\n",
      "\n",
      "Average F1: 0.3815193088847386\n"
     ]
    }
   ],
   "source": [
    "if RUN_MAJORITY_CLF:\n",
    "    majority_classifier = MajorityClassifier()\n",
    "    \n",
    "    # Train the majority classifier (even though in practice, no training is needed)\n",
    "    majority_classifier.fit(train_labels_df)\n",
    "    \n",
    "    # Make predictions on the test set\n",
    "    predicted_labels = majority_classifier.predict(test_labels_df)\n",
    "    \n",
    "    # Accuracy of the Majority Classifier\n",
    "    accuracy = accuracy_score(test_labels_df, predicted_labels)\n",
    "    print(f'Accuracy of the model over all the classes: {accuracy}\\n')\n",
    "    \n",
    "    # F1 scores on the different labels singularly taken \n",
    "    f1_scorer = F1_Score_Multi_Labels(name='F1_macro_avg', num_labels=N_LABELS, num_classes=N_CLASSES, compute_mean=False)\n",
    "    f1_scores_majority_classifier = f1_scorer(torch.tensor(test_labels_df.values.tolist()), torch.tensor(predicted_labels))\n",
    "    # AVG F1 score\n",
    "    f1_avg_majority_classifier = np.average(f1_scores_majority_classifier)\n",
    "    \n",
    "    \n",
    "    for idx, f1_score in enumerate(f1_scores_majority_classifier):\n",
    "        print(f\" - {train_labels_df.columns[idx]} F1: {f1_score}\")\n",
    "    \n",
    "    print(f'\\nAverage F1: {f1_avg_majority_classifier}')\n"
   ],
   "metadata": {
    "collapsed": false,
    "ExecuteTime": {
     "end_time": "2024-01-05T17:53:54.019163260Z",
     "start_time": "2024-01-05T17:53:53.979000625Z"
    }
   },
   "id": "7948530f7e667126"
  },
  {
   "cell_type": "markdown",
   "source": [
    "####  3) Bert w/C"
   ],
   "metadata": {
    "collapsed": false
   },
   "id": "ed615adcd88b156c"
  },
  {
   "cell_type": "markdown",
   "source": [
    "##### Searching the hyperparameters for bert w/C"
   ],
   "metadata": {
    "collapsed": false
   },
   "id": "669a93b6db152b24"
  },
  {
   "cell_type": "code",
   "execution_count": 43,
   "outputs": [],
   "source": [
    "if RUN_BERTONE_GRID_SEARCH:\n",
    "    hyperparameters_key_to_save = ['optimizer', 'pretrained_model_name_or_path', 'dropout_prob']\n",
    "    seeds = [69, 4, 21]\n",
    "    \n",
    "    weight_classes = calculate_class_weights(train_labels_df)\n",
    "    criterion = Criterion('loss', loss_function=torch.nn.BCEWithLogitsLoss(weight=weight_classes, reduction='none'), reduction_function=torch.mean)\n",
    "    optimizers = [OptimizerWrapper(torch.optim.Adam, identifier=f'lr={10**i}', optimizer_partial_params={'lr':10 ** i}) for i in range(-5, -8, -1)]\n",
    "    early_stopper = EarlyStopper(monitor='F1_macro_avg', patience=4, delta=0, mode='max', restore_weights=True)\n",
    "    metrics = [[F1_Score_Multi_Labels('F1_macro_avg', num_labels=N_LABELS, num_classes=N_CLASSES)]] \n",
    "    \n",
    "\n",
    "    model_hyperparameters_to_test = [{'model_class': BertOne,\n",
    "                                      'dropout_prob': i,\n",
    "                                      'hidden_size': 768,\n",
    "                                      'pretrained_model_name_or_path': os.path.join(BERT_MODELS_DIRECTORY, version),\n",
    "                                      'bert_constructor': BERT_CONSTRUCTORS[version],\n",
    "                                     } for i in [0, 0.3, 0.5] for version in BERT_VERSIONS]\n",
    "    \n",
    "    training_hyperparameters_to_test = [{'num_epochs': 200,\n",
    "                                         'optimizer': opt,\n",
    "                                         'batch_size': BATCH_SIZE_C,\n",
    "                                         'criterion': criterion,\n",
    "                                         'metrics': metrics[0],\n",
    "                                         'early_stopper': early_stopper,\n",
    "                                         } for opt in optimizers]\n",
    "    \n",
    "    \n",
    "    partial_build_dataloader = partial(build_dataloader, \n",
    "                                       one_hot_mapping=CLASS_2_ONE_HOT,\n",
    "                                       model_input=MODEL_INPUTS['C'],\n",
    "                                       custom_dataset_builder=MODEL_DATASET_BUILDERS['C'],\n",
    "                                       batch_size=MODEL_BATCH_SIZES['C'])  \n",
    "    \n",
    "\n",
    "    grid_search_train_validation(train_data=(train_arg_df, train_labels_df),\n",
    "                                 val_data=(val_arg_df, val_labels_df),\n",
    "                                 dataloader_builder=partial_build_dataloader,\n",
    "                                 dataloader_parameters_unpacking_strategy=unpacking_dataloader_builder_parameters_strategy,\n",
    "                                 variable_dataloader_parameters=['pretrained_model_name_or_path', 'batch_size'],\n",
    "                                 shuffle=True,\n",
    "                                 model_hyperparameters_to_test=model_hyperparameters_to_test,\n",
    "                                 training_hyperparameters_to_test=training_hyperparameters_to_test,\n",
    "                                 hyperparameters_key_to_save=hyperparameters_key_to_save,\n",
    "                                 seeds=seeds,\n",
    "                                 device=device,\n",
    "                                 path_to_grid_search_results=BERTONE_GRID_SEARCH_RESULTS_PATH) \n",
    "                                 "
   ],
   "metadata": {
    "collapsed": false,
    "ExecuteTime": {
     "end_time": "2024-01-05T17:53:54.083513955Z",
     "start_time": "2024-01-05T17:53:54.008545536Z"
    }
   },
   "id": "74ac5898e1d9685"
  },
  {
   "cell_type": "markdown",
   "source": [
    "##### Grid search results for bert w/C"
   ],
   "metadata": {
    "collapsed": false
   },
   "id": "b5b5fcca437f43c4"
  },
  {
   "cell_type": "code",
   "execution_count": 44,
   "outputs": [
    {
     "data": {
      "text/plain": "        optimizer  pretrained_model_name_or_path  dropout_prob  mean_time  \\\n5   Adam lr=1e-05       bert_models/roberta-base           0.5    365.951   \n7   Adam lr=1e-06       bert_models/roberta-base           0.0    635.855   \n1   Adam lr=1e-05       bert_models/roberta-base           0.0    229.851   \n9   Adam lr=1e-06       bert_models/roberta-base           0.3    508.488   \n3   Adam lr=1e-05       bert_models/roberta-base           0.3    251.616   \n11  Adam lr=1e-06       bert_models/roberta-base           0.5    562.588   \n2   Adam lr=1e-05  bert_models/bert-base-uncased           0.3    314.112   \n4   Adam lr=1e-05  bert_models/bert-base-uncased           0.5    283.509   \n0   Adam lr=1e-05  bert_models/bert-base-uncased           0.0    260.467   \n6   Adam lr=1e-06  bert_models/bert-base-uncased           0.0    463.371   \n10  Adam lr=1e-06  bert_models/bert-base-uncased           0.5    505.803   \n8   Adam lr=1e-06  bert_models/bert-base-uncased           0.3    305.531   \n12  Adam lr=1e-07  bert_models/bert-base-uncased           0.0    758.057   \n15  Adam lr=1e-07       bert_models/roberta-base           0.3    582.565   \n14  Adam lr=1e-07  bert_models/bert-base-uncased           0.3    757.159   \n17  Adam lr=1e-07       bert_models/roberta-base           0.5    381.383   \n13  Adam lr=1e-07       bert_models/roberta-base           0.0    360.223   \n16  Adam lr=1e-07  bert_models/bert-base-uncased           0.5    589.166   \n\n    std_time  F1_macro_avg_train_mean  F1_macro_avg_train_std  \\\n5     77.591                 0.706726                0.003932   \n7    157.830                 0.697162                0.004653   \n1     26.693                 0.698865                0.002381   \n9    129.768                 0.692645                0.004666   \n3    101.529                 0.696653                0.006880   \n11   170.172                 0.692736                0.005175   \n2     54.966                 0.701571                0.005193   \n4     58.440                 0.700274                0.004994   \n0     95.861                 0.690654                0.017300   \n6    141.808                 0.671235                0.016751   \n10   180.821                 0.670201                0.025290   \n8     97.798                 0.648378                0.017073   \n12   322.011                 0.626407                0.003982   \n15   194.672                 0.615842                0.001929   \n14   168.969                 0.622589                0.012023   \n17    68.644                 0.613399                0.000521   \n13    83.393                 0.614016                0.001894   \n16   296.328                 0.577119                0.073750   \n\n    F1_macro_avg_val_mean  F1_macro_avg_val_std  \n5                0.663315              0.002059  \n7                0.660328              0.001537  \n1                0.659048              0.006334  \n9                0.658983              0.002157  \n3                0.658008              0.007201  \n11               0.657622              0.006714  \n2                0.649582              0.006721  \n4                0.647309              0.003598  \n0                0.642036              0.009693  \n6                0.641229              0.012984  \n10               0.637160              0.009817  \n8                0.632082              0.005410  \n12               0.624614              0.013432  \n15               0.624402              0.003147  \n14               0.618637              0.022110  \n17               0.618499              0.010118  \n13               0.613350              0.010112  \n16               0.575880              0.076170  ",
      "text/html": "<div>\n<style scoped>\n    .dataframe tbody tr th:only-of-type {\n        vertical-align: middle;\n    }\n\n    .dataframe tbody tr th {\n        vertical-align: top;\n    }\n\n    .dataframe thead th {\n        text-align: right;\n    }\n</style>\n<table border=\"1\" class=\"dataframe\">\n  <thead>\n    <tr style=\"text-align: right;\">\n      <th></th>\n      <th>optimizer</th>\n      <th>pretrained_model_name_or_path</th>\n      <th>dropout_prob</th>\n      <th>mean_time</th>\n      <th>std_time</th>\n      <th>F1_macro_avg_train_mean</th>\n      <th>F1_macro_avg_train_std</th>\n      <th>F1_macro_avg_val_mean</th>\n      <th>F1_macro_avg_val_std</th>\n    </tr>\n  </thead>\n  <tbody>\n    <tr>\n      <th>5</th>\n      <td>Adam lr=1e-05</td>\n      <td>bert_models/roberta-base</td>\n      <td>0.5</td>\n      <td>365.951</td>\n      <td>77.591</td>\n      <td>0.706726</td>\n      <td>0.003932</td>\n      <td>0.663315</td>\n      <td>0.002059</td>\n    </tr>\n    <tr>\n      <th>7</th>\n      <td>Adam lr=1e-06</td>\n      <td>bert_models/roberta-base</td>\n      <td>0.0</td>\n      <td>635.855</td>\n      <td>157.830</td>\n      <td>0.697162</td>\n      <td>0.004653</td>\n      <td>0.660328</td>\n      <td>0.001537</td>\n    </tr>\n    <tr>\n      <th>1</th>\n      <td>Adam lr=1e-05</td>\n      <td>bert_models/roberta-base</td>\n      <td>0.0</td>\n      <td>229.851</td>\n      <td>26.693</td>\n      <td>0.698865</td>\n      <td>0.002381</td>\n      <td>0.659048</td>\n      <td>0.006334</td>\n    </tr>\n    <tr>\n      <th>9</th>\n      <td>Adam lr=1e-06</td>\n      <td>bert_models/roberta-base</td>\n      <td>0.3</td>\n      <td>508.488</td>\n      <td>129.768</td>\n      <td>0.692645</td>\n      <td>0.004666</td>\n      <td>0.658983</td>\n      <td>0.002157</td>\n    </tr>\n    <tr>\n      <th>3</th>\n      <td>Adam lr=1e-05</td>\n      <td>bert_models/roberta-base</td>\n      <td>0.3</td>\n      <td>251.616</td>\n      <td>101.529</td>\n      <td>0.696653</td>\n      <td>0.006880</td>\n      <td>0.658008</td>\n      <td>0.007201</td>\n    </tr>\n    <tr>\n      <th>11</th>\n      <td>Adam lr=1e-06</td>\n      <td>bert_models/roberta-base</td>\n      <td>0.5</td>\n      <td>562.588</td>\n      <td>170.172</td>\n      <td>0.692736</td>\n      <td>0.005175</td>\n      <td>0.657622</td>\n      <td>0.006714</td>\n    </tr>\n    <tr>\n      <th>2</th>\n      <td>Adam lr=1e-05</td>\n      <td>bert_models/bert-base-uncased</td>\n      <td>0.3</td>\n      <td>314.112</td>\n      <td>54.966</td>\n      <td>0.701571</td>\n      <td>0.005193</td>\n      <td>0.649582</td>\n      <td>0.006721</td>\n    </tr>\n    <tr>\n      <th>4</th>\n      <td>Adam lr=1e-05</td>\n      <td>bert_models/bert-base-uncased</td>\n      <td>0.5</td>\n      <td>283.509</td>\n      <td>58.440</td>\n      <td>0.700274</td>\n      <td>0.004994</td>\n      <td>0.647309</td>\n      <td>0.003598</td>\n    </tr>\n    <tr>\n      <th>0</th>\n      <td>Adam lr=1e-05</td>\n      <td>bert_models/bert-base-uncased</td>\n      <td>0.0</td>\n      <td>260.467</td>\n      <td>95.861</td>\n      <td>0.690654</td>\n      <td>0.017300</td>\n      <td>0.642036</td>\n      <td>0.009693</td>\n    </tr>\n    <tr>\n      <th>6</th>\n      <td>Adam lr=1e-06</td>\n      <td>bert_models/bert-base-uncased</td>\n      <td>0.0</td>\n      <td>463.371</td>\n      <td>141.808</td>\n      <td>0.671235</td>\n      <td>0.016751</td>\n      <td>0.641229</td>\n      <td>0.012984</td>\n    </tr>\n    <tr>\n      <th>10</th>\n      <td>Adam lr=1e-06</td>\n      <td>bert_models/bert-base-uncased</td>\n      <td>0.5</td>\n      <td>505.803</td>\n      <td>180.821</td>\n      <td>0.670201</td>\n      <td>0.025290</td>\n      <td>0.637160</td>\n      <td>0.009817</td>\n    </tr>\n    <tr>\n      <th>8</th>\n      <td>Adam lr=1e-06</td>\n      <td>bert_models/bert-base-uncased</td>\n      <td>0.3</td>\n      <td>305.531</td>\n      <td>97.798</td>\n      <td>0.648378</td>\n      <td>0.017073</td>\n      <td>0.632082</td>\n      <td>0.005410</td>\n    </tr>\n    <tr>\n      <th>12</th>\n      <td>Adam lr=1e-07</td>\n      <td>bert_models/bert-base-uncased</td>\n      <td>0.0</td>\n      <td>758.057</td>\n      <td>322.011</td>\n      <td>0.626407</td>\n      <td>0.003982</td>\n      <td>0.624614</td>\n      <td>0.013432</td>\n    </tr>\n    <tr>\n      <th>15</th>\n      <td>Adam lr=1e-07</td>\n      <td>bert_models/roberta-base</td>\n      <td>0.3</td>\n      <td>582.565</td>\n      <td>194.672</td>\n      <td>0.615842</td>\n      <td>0.001929</td>\n      <td>0.624402</td>\n      <td>0.003147</td>\n    </tr>\n    <tr>\n      <th>14</th>\n      <td>Adam lr=1e-07</td>\n      <td>bert_models/bert-base-uncased</td>\n      <td>0.3</td>\n      <td>757.159</td>\n      <td>168.969</td>\n      <td>0.622589</td>\n      <td>0.012023</td>\n      <td>0.618637</td>\n      <td>0.022110</td>\n    </tr>\n    <tr>\n      <th>17</th>\n      <td>Adam lr=1e-07</td>\n      <td>bert_models/roberta-base</td>\n      <td>0.5</td>\n      <td>381.383</td>\n      <td>68.644</td>\n      <td>0.613399</td>\n      <td>0.000521</td>\n      <td>0.618499</td>\n      <td>0.010118</td>\n    </tr>\n    <tr>\n      <th>13</th>\n      <td>Adam lr=1e-07</td>\n      <td>bert_models/roberta-base</td>\n      <td>0.0</td>\n      <td>360.223</td>\n      <td>83.393</td>\n      <td>0.614016</td>\n      <td>0.001894</td>\n      <td>0.613350</td>\n      <td>0.010112</td>\n    </tr>\n    <tr>\n      <th>16</th>\n      <td>Adam lr=1e-07</td>\n      <td>bert_models/bert-base-uncased</td>\n      <td>0.5</td>\n      <td>589.166</td>\n      <td>296.328</td>\n      <td>0.577119</td>\n      <td>0.073750</td>\n      <td>0.575880</td>\n      <td>0.076170</td>\n    </tr>\n  </tbody>\n</table>\n</div>"
     },
     "execution_count": 44,
     "metadata": {},
     "output_type": "execute_result"
    }
   ],
   "source": [
    "BertOne_grid_search_results_df = joblib.load(BERTONE_GRID_SEARCH_RESULTS_PATH)\n",
    "BertOne_grid_search_results_df = BertOne_grid_search_results_df.sort_values(by='F1_macro_avg_val_mean', ascending=False)\n",
    "\n",
    "BertOne_grid_search_results_df\n"
   ],
   "metadata": {
    "collapsed": false,
    "ExecuteTime": {
     "end_time": "2024-01-05T17:53:54.088796171Z",
     "start_time": "2024-01-05T17:53:54.052744235Z"
    }
   },
   "id": "e7f5b806f983523d"
  },
  {
   "cell_type": "markdown",
   "source": [
    "#### 4) Bert w/CP"
   ],
   "metadata": {
    "collapsed": false
   },
   "id": "813fade858d92531"
  },
  {
   "cell_type": "markdown",
   "source": [
    "##### Searching the hyperparameters for bert w/CP\n"
   ],
   "metadata": {
    "collapsed": false
   },
   "id": "575bb555ea3f198b"
  },
  {
   "cell_type": "code",
   "execution_count": 45,
   "outputs": [],
   "source": [
    "if RUN_BERTWO_GRID_SEARCH:\n",
    "    hyperparameters_key_to_save = ['optimizer', 'pretrained_model_name_or_path', 'dropout_prob']\n",
    "    seeds = [69, 4, 21]\n",
    "    \n",
    "    weight_classes = calculate_class_weights(train_labels_df)\n",
    "    criterion = Criterion('loss', loss_function=torch.nn.BCEWithLogitsLoss(weight=weight_classes, reduction='none'), reduction_function=torch.mean)\n",
    "    optimizers = [OptimizerWrapper(torch.optim.Adam, identifier=f'lr={10**i}', optimizer_partial_params={'lr':10 ** i}) for i in range(-5, -8, -1)]\n",
    "    early_stopper = EarlyStopper(monitor='F1_macro_avg', patience=4, delta=0, mode='max', restore_weights=True)\n",
    "    metrics = [[F1_Score_Multi_Labels('F1_macro_avg', num_labels=N_LABELS, num_classes=N_CLASSES)]] \n",
    "    \n",
    "\n",
    "    model_hyperparameters_to_test = [{'model_class': BerTwo,\n",
    "                                      'dropout_prob': i,\n",
    "                                      'hidden_size': 768,\n",
    "                                      'pretrained_model_name_or_path': os.path.join(BERT_MODELS_DIRECTORY, version),\n",
    "                                      'bert_constructor': BERT_CONSTRUCTORS[version],\n",
    "                                     } for i in [0, 0.3, 0.5] for version in BERT_VERSIONS]\n",
    "    \n",
    "    training_hyperparameters_to_test = [{'num_epochs': 200,\n",
    "                                         'optimizer': opt,\n",
    "                                         'batch_size': BATCH_SIZE_CP,\n",
    "                                         'criterion': criterion,\n",
    "                                         'metrics': metrics[0],\n",
    "                                         'early_stopper': early_stopper,\n",
    "                                         } for opt in optimizers]\n",
    "    \n",
    "    \n",
    "    partial_build_dataloader = partial(build_dataloader, \n",
    "                                       one_hot_mapping=CLASS_2_ONE_HOT,\n",
    "                                       model_input=MODEL_INPUTS['CP'],\n",
    "                                       custom_dataset_builder=MODEL_DATASET_BUILDERS['CP'],\n",
    "                                       batch_size=MODEL_BATCH_SIZES['CP'])  \n",
    "   \n",
    "\n",
    "    grid_search_train_validation(train_data=(train_arg_df, train_labels_df),\n",
    "                                 val_data=(val_arg_df, val_labels_df),\n",
    "                                 dataloader_builder=partial_build_dataloader,\n",
    "                                 dataloader_parameters_unpacking_strategy=unpacking_dataloader_builder_parameters_strategy,\n",
    "                                 variable_dataloader_parameters=['pretrained_model_name_or_path', 'batch_size'],\n",
    "                                 shuffle=True,\n",
    "                                 model_hyperparameters_to_test=model_hyperparameters_to_test,\n",
    "                                 training_hyperparameters_to_test=training_hyperparameters_to_test,\n",
    "                                 hyperparameters_key_to_save=hyperparameters_key_to_save,\n",
    "                                 seeds=seeds,\n",
    "                                 device=device,\n",
    "                                 path_to_grid_search_results=BERTWO_GRID_SEARCH_RESULTS_PATH) \n",
    "                                 "
   ],
   "metadata": {
    "collapsed": false,
    "ExecuteTime": {
     "end_time": "2024-01-05T17:53:54.089161286Z",
     "start_time": "2024-01-05T17:53:54.052941720Z"
    }
   },
   "id": "9ebe6df698f5232d"
  },
  {
   "cell_type": "markdown",
   "source": [
    "##### Grid search results for bert w/CP\n"
   ],
   "metadata": {
    "collapsed": false
   },
   "id": "44918c102d4327e8"
  },
  {
   "cell_type": "code",
   "execution_count": 46,
   "outputs": [
    {
     "data": {
      "text/plain": "        optimizer  pretrained_model_name_or_path  dropout_prob  mean_time  \\\n1   Adam lr=1e-05       bert_models/roberta-base           0.0   1288.884   \n3   Adam lr=1e-05       bert_models/roberta-base           0.3   1331.980   \n5   Adam lr=1e-05       bert_models/roberta-base           0.5   1226.716   \n4   Adam lr=1e-05  bert_models/bert-base-uncased           0.5   1416.620   \n0   Adam lr=1e-05  bert_models/bert-base-uncased           0.0   1431.712   \n2   Adam lr=1e-05  bert_models/bert-base-uncased           0.3   1315.644   \n7   Adam lr=1e-06       bert_models/roberta-base           0.0   3535.379   \n11  Adam lr=1e-06       bert_models/roberta-base           0.5   3689.801   \n9   Adam lr=1e-06       bert_models/roberta-base           0.3   3141.466   \n6   Adam lr=1e-06  bert_models/bert-base-uncased           0.0   5068.719   \n10  Adam lr=1e-06  bert_models/bert-base-uncased           0.5   5655.933   \n8   Adam lr=1e-06  bert_models/bert-base-uncased           0.3   4511.885   \n15  Adam lr=1e-07       bert_models/roberta-base           0.3   7218.146   \n14  Adam lr=1e-07  bert_models/bert-base-uncased           0.3   9509.522   \n12  Adam lr=1e-07  bert_models/bert-base-uncased           0.0   6832.499   \n17  Adam lr=1e-07       bert_models/roberta-base           0.5   4758.668   \n13  Adam lr=1e-07       bert_models/roberta-base           0.0   3451.613   \n16  Adam lr=1e-07  bert_models/bert-base-uncased           0.5   6683.934   \n\n    std_time  F1_macro_avg_train_mean  F1_macro_avg_train_std  \\\n1     70.446                 0.865105                0.013998   \n3     71.764                 0.868431                0.018418   \n5      2.779                 0.837967                0.002123   \n4    220.161                 0.859968                0.034548   \n0    226.958                 0.879356                0.033176   \n2     74.720                 0.849412                0.006636   \n7    622.614                 0.817116                0.020445   \n11   875.398                 0.807215                0.026018   \n9   1251.317                 0.791284                0.045352   \n6    390.618                 0.817895                0.008373   \n10  1535.946                 0.813255                0.031930   \n8    708.023                 0.795888                0.024186   \n15  4373.855                 0.688677                0.049942   \n14  2712.033                 0.681718                0.016964   \n12  1312.215                 0.672988                0.011190   \n17  4111.247                 0.649275                0.048777   \n13  2958.846                 0.649488                0.046930   \n16  2487.999                 0.651416                0.018776   \n\n    F1_macro_avg_val_mean  F1_macro_avg_val_std  \n1                0.721766              0.004058  \n3                0.720910              0.001118  \n5                0.718897              0.000713  \n4                0.715483              0.001366  \n0                0.713483              0.001062  \n2                0.711780              0.002606  \n7                0.710259              0.005265  \n11               0.708203              0.003301  \n9                0.706862              0.009835  \n6                0.698938              0.005837  \n10               0.698548              0.006189  \n8                0.692702              0.006938  \n15               0.671774              0.029629  \n14               0.652940              0.006172  \n12               0.650683              0.003810  \n17               0.647597              0.031426  \n13               0.645242              0.027214  \n16               0.639629              0.011950  ",
      "text/html": "<div>\n<style scoped>\n    .dataframe tbody tr th:only-of-type {\n        vertical-align: middle;\n    }\n\n    .dataframe tbody tr th {\n        vertical-align: top;\n    }\n\n    .dataframe thead th {\n        text-align: right;\n    }\n</style>\n<table border=\"1\" class=\"dataframe\">\n  <thead>\n    <tr style=\"text-align: right;\">\n      <th></th>\n      <th>optimizer</th>\n      <th>pretrained_model_name_or_path</th>\n      <th>dropout_prob</th>\n      <th>mean_time</th>\n      <th>std_time</th>\n      <th>F1_macro_avg_train_mean</th>\n      <th>F1_macro_avg_train_std</th>\n      <th>F1_macro_avg_val_mean</th>\n      <th>F1_macro_avg_val_std</th>\n    </tr>\n  </thead>\n  <tbody>\n    <tr>\n      <th>1</th>\n      <td>Adam lr=1e-05</td>\n      <td>bert_models/roberta-base</td>\n      <td>0.0</td>\n      <td>1288.884</td>\n      <td>70.446</td>\n      <td>0.865105</td>\n      <td>0.013998</td>\n      <td>0.721766</td>\n      <td>0.004058</td>\n    </tr>\n    <tr>\n      <th>3</th>\n      <td>Adam lr=1e-05</td>\n      <td>bert_models/roberta-base</td>\n      <td>0.3</td>\n      <td>1331.980</td>\n      <td>71.764</td>\n      <td>0.868431</td>\n      <td>0.018418</td>\n      <td>0.720910</td>\n      <td>0.001118</td>\n    </tr>\n    <tr>\n      <th>5</th>\n      <td>Adam lr=1e-05</td>\n      <td>bert_models/roberta-base</td>\n      <td>0.5</td>\n      <td>1226.716</td>\n      <td>2.779</td>\n      <td>0.837967</td>\n      <td>0.002123</td>\n      <td>0.718897</td>\n      <td>0.000713</td>\n    </tr>\n    <tr>\n      <th>4</th>\n      <td>Adam lr=1e-05</td>\n      <td>bert_models/bert-base-uncased</td>\n      <td>0.5</td>\n      <td>1416.620</td>\n      <td>220.161</td>\n      <td>0.859968</td>\n      <td>0.034548</td>\n      <td>0.715483</td>\n      <td>0.001366</td>\n    </tr>\n    <tr>\n      <th>0</th>\n      <td>Adam lr=1e-05</td>\n      <td>bert_models/bert-base-uncased</td>\n      <td>0.0</td>\n      <td>1431.712</td>\n      <td>226.958</td>\n      <td>0.879356</td>\n      <td>0.033176</td>\n      <td>0.713483</td>\n      <td>0.001062</td>\n    </tr>\n    <tr>\n      <th>2</th>\n      <td>Adam lr=1e-05</td>\n      <td>bert_models/bert-base-uncased</td>\n      <td>0.3</td>\n      <td>1315.644</td>\n      <td>74.720</td>\n      <td>0.849412</td>\n      <td>0.006636</td>\n      <td>0.711780</td>\n      <td>0.002606</td>\n    </tr>\n    <tr>\n      <th>7</th>\n      <td>Adam lr=1e-06</td>\n      <td>bert_models/roberta-base</td>\n      <td>0.0</td>\n      <td>3535.379</td>\n      <td>622.614</td>\n      <td>0.817116</td>\n      <td>0.020445</td>\n      <td>0.710259</td>\n      <td>0.005265</td>\n    </tr>\n    <tr>\n      <th>11</th>\n      <td>Adam lr=1e-06</td>\n      <td>bert_models/roberta-base</td>\n      <td>0.5</td>\n      <td>3689.801</td>\n      <td>875.398</td>\n      <td>0.807215</td>\n      <td>0.026018</td>\n      <td>0.708203</td>\n      <td>0.003301</td>\n    </tr>\n    <tr>\n      <th>9</th>\n      <td>Adam lr=1e-06</td>\n      <td>bert_models/roberta-base</td>\n      <td>0.3</td>\n      <td>3141.466</td>\n      <td>1251.317</td>\n      <td>0.791284</td>\n      <td>0.045352</td>\n      <td>0.706862</td>\n      <td>0.009835</td>\n    </tr>\n    <tr>\n      <th>6</th>\n      <td>Adam lr=1e-06</td>\n      <td>bert_models/bert-base-uncased</td>\n      <td>0.0</td>\n      <td>5068.719</td>\n      <td>390.618</td>\n      <td>0.817895</td>\n      <td>0.008373</td>\n      <td>0.698938</td>\n      <td>0.005837</td>\n    </tr>\n    <tr>\n      <th>10</th>\n      <td>Adam lr=1e-06</td>\n      <td>bert_models/bert-base-uncased</td>\n      <td>0.5</td>\n      <td>5655.933</td>\n      <td>1535.946</td>\n      <td>0.813255</td>\n      <td>0.031930</td>\n      <td>0.698548</td>\n      <td>0.006189</td>\n    </tr>\n    <tr>\n      <th>8</th>\n      <td>Adam lr=1e-06</td>\n      <td>bert_models/bert-base-uncased</td>\n      <td>0.3</td>\n      <td>4511.885</td>\n      <td>708.023</td>\n      <td>0.795888</td>\n      <td>0.024186</td>\n      <td>0.692702</td>\n      <td>0.006938</td>\n    </tr>\n    <tr>\n      <th>15</th>\n      <td>Adam lr=1e-07</td>\n      <td>bert_models/roberta-base</td>\n      <td>0.3</td>\n      <td>7218.146</td>\n      <td>4373.855</td>\n      <td>0.688677</td>\n      <td>0.049942</td>\n      <td>0.671774</td>\n      <td>0.029629</td>\n    </tr>\n    <tr>\n      <th>14</th>\n      <td>Adam lr=1e-07</td>\n      <td>bert_models/bert-base-uncased</td>\n      <td>0.3</td>\n      <td>9509.522</td>\n      <td>2712.033</td>\n      <td>0.681718</td>\n      <td>0.016964</td>\n      <td>0.652940</td>\n      <td>0.006172</td>\n    </tr>\n    <tr>\n      <th>12</th>\n      <td>Adam lr=1e-07</td>\n      <td>bert_models/bert-base-uncased</td>\n      <td>0.0</td>\n      <td>6832.499</td>\n      <td>1312.215</td>\n      <td>0.672988</td>\n      <td>0.011190</td>\n      <td>0.650683</td>\n      <td>0.003810</td>\n    </tr>\n    <tr>\n      <th>17</th>\n      <td>Adam lr=1e-07</td>\n      <td>bert_models/roberta-base</td>\n      <td>0.5</td>\n      <td>4758.668</td>\n      <td>4111.247</td>\n      <td>0.649275</td>\n      <td>0.048777</td>\n      <td>0.647597</td>\n      <td>0.031426</td>\n    </tr>\n    <tr>\n      <th>13</th>\n      <td>Adam lr=1e-07</td>\n      <td>bert_models/roberta-base</td>\n      <td>0.0</td>\n      <td>3451.613</td>\n      <td>2958.846</td>\n      <td>0.649488</td>\n      <td>0.046930</td>\n      <td>0.645242</td>\n      <td>0.027214</td>\n    </tr>\n    <tr>\n      <th>16</th>\n      <td>Adam lr=1e-07</td>\n      <td>bert_models/bert-base-uncased</td>\n      <td>0.5</td>\n      <td>6683.934</td>\n      <td>2487.999</td>\n      <td>0.651416</td>\n      <td>0.018776</td>\n      <td>0.639629</td>\n      <td>0.011950</td>\n    </tr>\n  </tbody>\n</table>\n</div>"
     },
     "execution_count": 46,
     "metadata": {},
     "output_type": "execute_result"
    }
   ],
   "source": [
    "BerTwo_grid_search_results_df = joblib.load(BERTWO_GRID_SEARCH_RESULTS_PATH)\n",
    "BerTwo_grid_search_results_df = BerTwo_grid_search_results_df.sort_values(by='F1_macro_avg_val_mean', ascending=False)\n",
    "BerTwo_grid_search_results_df\n"
   ],
   "metadata": {
    "collapsed": false,
    "ExecuteTime": {
     "end_time": "2024-01-05T17:53:54.091989300Z",
     "start_time": "2024-01-05T17:53:54.070172056Z"
    }
   },
   "id": "9cf9b57fb79d2ec7"
  },
  {
   "cell_type": "markdown",
   "source": [
    "#### 5) Bert w/CPS"
   ],
   "metadata": {
    "collapsed": false
   },
   "id": "93b760d270f05f86"
  },
  {
   "cell_type": "markdown",
   "source": [
    "##### Searching the hyperparameters for bert w/C\n"
   ],
   "metadata": {
    "collapsed": false
   },
   "id": "5d051e80700d255c"
  },
  {
   "cell_type": "code",
   "execution_count": 47,
   "outputs": [],
   "source": [
    "if RUN_BERTWO_GRID_SEARCH:\n",
    "    hyperparameters_key_to_save = ['optimizer', 'pretrained_model_name_or_path', 'dropout_prob']\n",
    "    seeds = [69, 4, 21]\n",
    "    \n",
    "    weight_classes = calculate_class_weights(train_labels_df)\n",
    "    criterion = Criterion('loss', loss_function=torch.nn.BCEWithLogitsLoss(weight=weight_classes, reduction='none'), reduction_function=torch.mean)\n",
    "    optimizers = [OptimizerWrapper(torch.optim.Adam, identifier=f'lr={10**i}', optimizer_partial_params={'lr':10 ** i}) for i in range(-5, -8, -1)]\n",
    "    early_stopper = EarlyStopper(monitor='F1_macro_avg', patience=4, delta=0, mode='max', restore_weights=True)\n",
    "    metrics = [[F1_Score_Multi_Labels('F1_macro_avg', num_labels=N_LABELS, num_classes=N_CLASSES)]] \n",
    "    \n",
    "\n",
    "    model_hyperparameters_to_test = [{'model_class': BerThree,\n",
    "                                      'dropout_prob': i,\n",
    "                                      'hidden_size': 768,\n",
    "                                      'pretrained_model_name_or_path': os.path.join(BERT_MODELS_DIRECTORY, version),\n",
    "                                      'bert_constructor': BERT_CONSTRUCTORS[version],\n",
    "                                     } for i in [0, 0.3, 0.5] for version in BERT_VERSIONS]\n",
    "    \n",
    "    training_hyperparameters_to_test = [{'num_epochs': 200,\n",
    "                                         'optimizer': opt,\n",
    "                                         'batch_size': BATCH_SIZE_CPS,\n",
    "                                         'criterion': criterion,\n",
    "                                         'metrics': metrics[0],\n",
    "                                         'early_stopper': early_stopper,\n",
    "                                         } for opt in optimizers]\n",
    "    \n",
    "    \n",
    "    partial_build_dataloader = partial(build_dataloader, \n",
    "                                       one_hot_mapping=CLASS_2_ONE_HOT,\n",
    "                                       model_input=MODEL_INPUTS['CPS'],\n",
    "                                       custom_dataset_builder=MODEL_DATASET_BUILDERS['CPS'],\n",
    "                                       batch_size=MODEL_BATCH_SIZES['CPS'])  \n",
    "    \n",
    "\n",
    "    grid_search_train_validation(train_data=(train_arg_df, train_labels_df),\n",
    "                                 val_data=(val_arg_df, val_labels_df),\n",
    "                                 dataloader_builder=partial_build_dataloader,\n",
    "                                 dataloader_parameters_unpacking_strategy=unpacking_dataloader_builder_parameters_strategy,\n",
    "                                 variable_dataloader_parameters=['pretrained_model_name_or_path', 'batch_size'],\n",
    "                                 shuffle=True,\n",
    "                                 model_hyperparameters_to_test=model_hyperparameters_to_test,\n",
    "                                 training_hyperparameters_to_test=training_hyperparameters_to_test,\n",
    "                                 hyperparameters_key_to_save=hyperparameters_key_to_save,\n",
    "                                 seeds=seeds,\n",
    "                                 device=device,\n",
    "                                 path_to_grid_search_results=BERTHREE_GRID_SEARCH_RESULTS_PATH) \n",
    "                                 "
   ],
   "metadata": {
    "collapsed": false,
    "ExecuteTime": {
     "end_time": "2024-01-05T17:53:54.177579920Z",
     "start_time": "2024-01-05T17:53:54.094771026Z"
    }
   },
   "id": "e4074e6be2c6c988"
  },
  {
   "cell_type": "markdown",
   "source": [
    "##### Grid search results for bert w/C\n"
   ],
   "metadata": {
    "collapsed": false
   },
   "id": "811d125a35cbbcaa"
  },
  {
   "cell_type": "code",
   "execution_count": 48,
   "outputs": [
    {
     "data": {
      "text/plain": "        optimizer  pretrained_model_name_or_path  dropout_prob  mean_time  \\\n5   Adam lr=1e-05       bert_models/roberta-base           0.5   1266.391   \n1   Adam lr=1e-05       bert_models/roberta-base           0.0   1425.572   \n3   Adam lr=1e-05       bert_models/roberta-base           0.3   1312.508   \n2   Adam lr=1e-05  bert_models/bert-base-uncased           0.3   1421.202   \n0   Adam lr=1e-05  bert_models/bert-base-uncased           0.0   1351.022   \n4   Adam lr=1e-05  bert_models/bert-base-uncased           0.5   1246.466   \n7   Adam lr=1e-06       bert_models/roberta-base           0.0   3736.866   \n9   Adam lr=1e-06       bert_models/roberta-base           0.3   3486.148   \n11  Adam lr=1e-06       bert_models/roberta-base           0.5   3465.703   \n8   Adam lr=1e-06  bert_models/bert-base-uncased           0.3   5961.555   \n10  Adam lr=1e-06  bert_models/bert-base-uncased           0.5   5303.298   \n6   Adam lr=1e-06  bert_models/bert-base-uncased           0.0   4165.862   \n12  Adam lr=1e-07  bert_models/bert-base-uncased           0.0   7165.636   \n14  Adam lr=1e-07  bert_models/bert-base-uncased           0.3   4930.410   \n16  Adam lr=1e-07  bert_models/bert-base-uncased           0.5   4220.810   \n15  Adam lr=1e-07       bert_models/roberta-base           0.3   1464.398   \n13  Adam lr=1e-07       bert_models/roberta-base           0.0   1414.527   \n17  Adam lr=1e-07       bert_models/roberta-base           0.5   1641.748   \n\n    std_time  F1_macro_avg_train_mean  F1_macro_avg_train_std  \\\n5     70.636                 0.847386                0.013317   \n1    186.609                 0.889140                0.036649   \n3    142.846                 0.864299                0.032280   \n2    114.975                 0.882125                0.039873   \n0    144.840                 0.882667                0.046930   \n4      1.986                 0.829087                0.003991   \n7    585.002                 0.821227                0.016374   \n9    823.590                 0.801814                0.019015   \n11   834.435                 0.793169                0.019508   \n8   1109.316                 0.835173                0.018639   \n10   612.685                 0.810971                0.015363   \n6    468.812                 0.802681                0.022161   \n12  6165.999                 0.661863                0.047219   \n14  3152.290                 0.640667                0.023996   \n16  2305.852                 0.630985                0.013625   \n15   257.554                 0.613381                0.000445   \n13   189.301                 0.613552                0.000362   \n17   262.531                 0.613465                0.000626   \n\n    F1_macro_avg_val_mean  F1_macro_avg_val_std  \n5                0.721087              0.000914  \n1                0.720995              0.002082  \n3                0.720309              0.002063  \n2                0.712866              0.002016  \n0                0.712388              0.002212  \n4                0.711282              0.001782  \n7                0.710218              0.003777  \n9                0.707136              0.003424  \n11               0.703421              0.001399  \n8                0.700466              0.005087  \n10               0.699659              0.002175  \n6                0.694397              0.006698  \n12               0.639051              0.020393  \n14               0.632579              0.009902  \n16               0.626757              0.004081  \n15               0.623788              0.000542  \n13               0.623663              0.000367  \n17               0.623296              0.000620  ",
      "text/html": "<div>\n<style scoped>\n    .dataframe tbody tr th:only-of-type {\n        vertical-align: middle;\n    }\n\n    .dataframe tbody tr th {\n        vertical-align: top;\n    }\n\n    .dataframe thead th {\n        text-align: right;\n    }\n</style>\n<table border=\"1\" class=\"dataframe\">\n  <thead>\n    <tr style=\"text-align: right;\">\n      <th></th>\n      <th>optimizer</th>\n      <th>pretrained_model_name_or_path</th>\n      <th>dropout_prob</th>\n      <th>mean_time</th>\n      <th>std_time</th>\n      <th>F1_macro_avg_train_mean</th>\n      <th>F1_macro_avg_train_std</th>\n      <th>F1_macro_avg_val_mean</th>\n      <th>F1_macro_avg_val_std</th>\n    </tr>\n  </thead>\n  <tbody>\n    <tr>\n      <th>5</th>\n      <td>Adam lr=1e-05</td>\n      <td>bert_models/roberta-base</td>\n      <td>0.5</td>\n      <td>1266.391</td>\n      <td>70.636</td>\n      <td>0.847386</td>\n      <td>0.013317</td>\n      <td>0.721087</td>\n      <td>0.000914</td>\n    </tr>\n    <tr>\n      <th>1</th>\n      <td>Adam lr=1e-05</td>\n      <td>bert_models/roberta-base</td>\n      <td>0.0</td>\n      <td>1425.572</td>\n      <td>186.609</td>\n      <td>0.889140</td>\n      <td>0.036649</td>\n      <td>0.720995</td>\n      <td>0.002082</td>\n    </tr>\n    <tr>\n      <th>3</th>\n      <td>Adam lr=1e-05</td>\n      <td>bert_models/roberta-base</td>\n      <td>0.3</td>\n      <td>1312.508</td>\n      <td>142.846</td>\n      <td>0.864299</td>\n      <td>0.032280</td>\n      <td>0.720309</td>\n      <td>0.002063</td>\n    </tr>\n    <tr>\n      <th>2</th>\n      <td>Adam lr=1e-05</td>\n      <td>bert_models/bert-base-uncased</td>\n      <td>0.3</td>\n      <td>1421.202</td>\n      <td>114.975</td>\n      <td>0.882125</td>\n      <td>0.039873</td>\n      <td>0.712866</td>\n      <td>0.002016</td>\n    </tr>\n    <tr>\n      <th>0</th>\n      <td>Adam lr=1e-05</td>\n      <td>bert_models/bert-base-uncased</td>\n      <td>0.0</td>\n      <td>1351.022</td>\n      <td>144.840</td>\n      <td>0.882667</td>\n      <td>0.046930</td>\n      <td>0.712388</td>\n      <td>0.002212</td>\n    </tr>\n    <tr>\n      <th>4</th>\n      <td>Adam lr=1e-05</td>\n      <td>bert_models/bert-base-uncased</td>\n      <td>0.5</td>\n      <td>1246.466</td>\n      <td>1.986</td>\n      <td>0.829087</td>\n      <td>0.003991</td>\n      <td>0.711282</td>\n      <td>0.001782</td>\n    </tr>\n    <tr>\n      <th>7</th>\n      <td>Adam lr=1e-06</td>\n      <td>bert_models/roberta-base</td>\n      <td>0.0</td>\n      <td>3736.866</td>\n      <td>585.002</td>\n      <td>0.821227</td>\n      <td>0.016374</td>\n      <td>0.710218</td>\n      <td>0.003777</td>\n    </tr>\n    <tr>\n      <th>9</th>\n      <td>Adam lr=1e-06</td>\n      <td>bert_models/roberta-base</td>\n      <td>0.3</td>\n      <td>3486.148</td>\n      <td>823.590</td>\n      <td>0.801814</td>\n      <td>0.019015</td>\n      <td>0.707136</td>\n      <td>0.003424</td>\n    </tr>\n    <tr>\n      <th>11</th>\n      <td>Adam lr=1e-06</td>\n      <td>bert_models/roberta-base</td>\n      <td>0.5</td>\n      <td>3465.703</td>\n      <td>834.435</td>\n      <td>0.793169</td>\n      <td>0.019508</td>\n      <td>0.703421</td>\n      <td>0.001399</td>\n    </tr>\n    <tr>\n      <th>8</th>\n      <td>Adam lr=1e-06</td>\n      <td>bert_models/bert-base-uncased</td>\n      <td>0.3</td>\n      <td>5961.555</td>\n      <td>1109.316</td>\n      <td>0.835173</td>\n      <td>0.018639</td>\n      <td>0.700466</td>\n      <td>0.005087</td>\n    </tr>\n    <tr>\n      <th>10</th>\n      <td>Adam lr=1e-06</td>\n      <td>bert_models/bert-base-uncased</td>\n      <td>0.5</td>\n      <td>5303.298</td>\n      <td>612.685</td>\n      <td>0.810971</td>\n      <td>0.015363</td>\n      <td>0.699659</td>\n      <td>0.002175</td>\n    </tr>\n    <tr>\n      <th>6</th>\n      <td>Adam lr=1e-06</td>\n      <td>bert_models/bert-base-uncased</td>\n      <td>0.0</td>\n      <td>4165.862</td>\n      <td>468.812</td>\n      <td>0.802681</td>\n      <td>0.022161</td>\n      <td>0.694397</td>\n      <td>0.006698</td>\n    </tr>\n    <tr>\n      <th>12</th>\n      <td>Adam lr=1e-07</td>\n      <td>bert_models/bert-base-uncased</td>\n      <td>0.0</td>\n      <td>7165.636</td>\n      <td>6165.999</td>\n      <td>0.661863</td>\n      <td>0.047219</td>\n      <td>0.639051</td>\n      <td>0.020393</td>\n    </tr>\n    <tr>\n      <th>14</th>\n      <td>Adam lr=1e-07</td>\n      <td>bert_models/bert-base-uncased</td>\n      <td>0.3</td>\n      <td>4930.410</td>\n      <td>3152.290</td>\n      <td>0.640667</td>\n      <td>0.023996</td>\n      <td>0.632579</td>\n      <td>0.009902</td>\n    </tr>\n    <tr>\n      <th>16</th>\n      <td>Adam lr=1e-07</td>\n      <td>bert_models/bert-base-uncased</td>\n      <td>0.5</td>\n      <td>4220.810</td>\n      <td>2305.852</td>\n      <td>0.630985</td>\n      <td>0.013625</td>\n      <td>0.626757</td>\n      <td>0.004081</td>\n    </tr>\n    <tr>\n      <th>15</th>\n      <td>Adam lr=1e-07</td>\n      <td>bert_models/roberta-base</td>\n      <td>0.3</td>\n      <td>1464.398</td>\n      <td>257.554</td>\n      <td>0.613381</td>\n      <td>0.000445</td>\n      <td>0.623788</td>\n      <td>0.000542</td>\n    </tr>\n    <tr>\n      <th>13</th>\n      <td>Adam lr=1e-07</td>\n      <td>bert_models/roberta-base</td>\n      <td>0.0</td>\n      <td>1414.527</td>\n      <td>189.301</td>\n      <td>0.613552</td>\n      <td>0.000362</td>\n      <td>0.623663</td>\n      <td>0.000367</td>\n    </tr>\n    <tr>\n      <th>17</th>\n      <td>Adam lr=1e-07</td>\n      <td>bert_models/roberta-base</td>\n      <td>0.5</td>\n      <td>1641.748</td>\n      <td>262.531</td>\n      <td>0.613465</td>\n      <td>0.000626</td>\n      <td>0.623296</td>\n      <td>0.000620</td>\n    </tr>\n  </tbody>\n</table>\n</div>"
     },
     "execution_count": 48,
     "metadata": {},
     "output_type": "execute_result"
    }
   ],
   "source": [
    "BerThree_grid_search_results_df = joblib.load(BERTHREE_GRID_SEARCH_RESULTS_PATH)\n",
    "BerThree_grid_search_results_df = BerThree_grid_search_results_df.sort_values(by='F1_macro_avg_val_mean', ascending=False)\n",
    "BerThree_grid_search_results_df\n"
   ],
   "metadata": {
    "collapsed": false,
    "ExecuteTime": {
     "end_time": "2024-01-05T17:53:54.179690765Z",
     "start_time": "2024-01-05T17:53:54.136185767Z"
    }
   },
   "id": "c9d549332eb29d90"
  },
  {
   "cell_type": "markdown",
   "source": [
    "##### Extracting the best hyperparameters for our models"
   ],
   "metadata": {
    "collapsed": false
   },
   "id": "c7cbc22d81ddc419"
  },
  {
   "cell_type": "code",
   "execution_count": 49,
   "outputs": [
    {
     "data": {
      "text/plain": "                optimizer pretrained_model_name_or_path dropout_prob  \\\nsource                                                                 \nbert w/C    Adam lr=1e-05      bert_models/roberta-base          0.5   \nbert w/CP   Adam lr=1e-05      bert_models/roberta-base          0.0   \nbert w/CPS  Adam lr=1e-05      bert_models/roberta-base          0.5   \n\n           mean_time std_time F1_macro_avg_train_mean F1_macro_avg_train_std  \\\nsource                                                                         \nbert w/C     365.951   77.591                0.706726               0.003932   \nbert w/CP   1288.884   70.446                0.865105               0.013998   \nbert w/CPS  1266.391   70.636                0.847386               0.013317   \n\n           F1_macro_avg_val_mean F1_macro_avg_val_std  \nsource                                                 \nbert w/C                0.663315             0.002059  \nbert w/CP               0.721766             0.004058  \nbert w/CPS              0.721087             0.000914  ",
      "text/html": "<div>\n<style scoped>\n    .dataframe tbody tr th:only-of-type {\n        vertical-align: middle;\n    }\n\n    .dataframe tbody tr th {\n        vertical-align: top;\n    }\n\n    .dataframe thead th {\n        text-align: right;\n    }\n</style>\n<table border=\"1\" class=\"dataframe\">\n  <thead>\n    <tr style=\"text-align: right;\">\n      <th></th>\n      <th>optimizer</th>\n      <th>pretrained_model_name_or_path</th>\n      <th>dropout_prob</th>\n      <th>mean_time</th>\n      <th>std_time</th>\n      <th>F1_macro_avg_train_mean</th>\n      <th>F1_macro_avg_train_std</th>\n      <th>F1_macro_avg_val_mean</th>\n      <th>F1_macro_avg_val_std</th>\n    </tr>\n    <tr>\n      <th>source</th>\n      <th></th>\n      <th></th>\n      <th></th>\n      <th></th>\n      <th></th>\n      <th></th>\n      <th></th>\n      <th></th>\n      <th></th>\n    </tr>\n  </thead>\n  <tbody>\n    <tr>\n      <th>bert w/C</th>\n      <td>Adam lr=1e-05</td>\n      <td>bert_models/roberta-base</td>\n      <td>0.5</td>\n      <td>365.951</td>\n      <td>77.591</td>\n      <td>0.706726</td>\n      <td>0.003932</td>\n      <td>0.663315</td>\n      <td>0.002059</td>\n    </tr>\n    <tr>\n      <th>bert w/CP</th>\n      <td>Adam lr=1e-05</td>\n      <td>bert_models/roberta-base</td>\n      <td>0.0</td>\n      <td>1288.884</td>\n      <td>70.446</td>\n      <td>0.865105</td>\n      <td>0.013998</td>\n      <td>0.721766</td>\n      <td>0.004058</td>\n    </tr>\n    <tr>\n      <th>bert w/CPS</th>\n      <td>Adam lr=1e-05</td>\n      <td>bert_models/roberta-base</td>\n      <td>0.5</td>\n      <td>1266.391</td>\n      <td>70.636</td>\n      <td>0.847386</td>\n      <td>0.013317</td>\n      <td>0.721087</td>\n      <td>0.000914</td>\n    </tr>\n  </tbody>\n</table>\n</div>"
     },
     "execution_count": 49,
     "metadata": {},
     "output_type": "execute_result"
    }
   ],
   "source": [
    "best_hyperparameters_bertOne = BertOne_grid_search_results_df.iloc[0].copy()\n",
    "best_hyperparameters_berTwo = BerTwo_grid_search_results_df.iloc[0].copy()\n",
    "best_hyperparameters_berThree = BerThree_grid_search_results_df.iloc[0].copy()\n",
    "\n",
    "best_hyperparameters_bertOne['source'] = 'bert w/C'\n",
    "best_hyperparameters_berTwo['source'] = 'bert w/CP'\n",
    "best_hyperparameters_berThree['source'] = 'bert w/CPS'\n",
    "\n",
    "best_hyperparameters_df = pd.concat([best_hyperparameters_bertOne, best_hyperparameters_berTwo, best_hyperparameters_berThree], \n",
    "                                    ignore_index=True, \n",
    "                                    axis=1).T\n",
    "\n",
    "best_hyperparameters_df.set_index('source', inplace=True)\n",
    "\n",
    "best_hyperparameters_df\n"
   ],
   "metadata": {
    "collapsed": false,
    "ExecuteTime": {
     "end_time": "2024-01-05T17:53:54.208386442Z",
     "start_time": "2024-01-05T17:53:54.142449069Z"
    }
   },
   "id": "25f02eb985a65940"
  },
  {
   "cell_type": "markdown",
   "source": [
    "##### Creating Data loaders"
   ],
   "metadata": {
    "collapsed": false
   },
   "id": "757fc34270cb9d77"
  },
  {
   "cell_type": "code",
   "execution_count": 50,
   "outputs": [],
   "source": [
    "dataloaders = {}\n",
    "\n",
    "for model_path in bert_versions_paths:\n",
    "    model_name = os.path.basename(model_path)\n",
    "    dataloaders[model_name] = {}\n",
    "    \n",
    "    for model_key in MODEL_INPUTS.keys():\n",
    "        dataloaders[model_name][model_key] = {}\n",
    "     \n",
    "        dataloader_train = build_dataloader(data=train_arg_df, \n",
    "                                            labels=train_labels_df, \n",
    "                                            one_hot_mapping=CLASS_2_ONE_HOT, \n",
    "                                            pretrained_model_name_or_path=model_path, \n",
    "                                            tokenizer_constructor=BERT_TOKENIZER_CONSTRUCTORS[model_name],\n",
    "                                            model_input=MODEL_INPUTS[model_key],\n",
    "                                            custom_dataset_builder=MODEL_DATASET_BUILDERS[model_key],\n",
    "                                            batch_size=MODEL_BATCH_SIZES[model_key], \n",
    "                                            shuffle=True)  \n",
    "    \n",
    "        dataloader_val = build_dataloader(data=val_arg_df, \n",
    "                                          labels=val_labels_df, \n",
    "                                          one_hot_mapping=CLASS_2_ONE_HOT, \n",
    "                                          pretrained_model_name_or_path=model_path, \n",
    "                                          tokenizer_constructor=BERT_TOKENIZER_CONSTRUCTORS[model_name],\n",
    "                                          model_input=MODEL_INPUTS[model_key],\n",
    "                                          custom_dataset_builder=MODEL_DATASET_BUILDERS[model_key],\n",
    "                                          batch_size=MODEL_BATCH_SIZES[model_key], \n",
    "                                          shuffle=False)  \n",
    "  \n",
    "        dataloader_test = build_dataloader(data=test_arg_df, \n",
    "                                           labels=test_labels_df, \n",
    "                                           one_hot_mapping=CLASS_2_ONE_HOT, \n",
    "                                           pretrained_model_name_or_path=model_path, \n",
    "                                           tokenizer_constructor=BERT_TOKENIZER_CONSTRUCTORS[model_name],\n",
    "                                           model_input=MODEL_INPUTS[model_key],\n",
    "                                           custom_dataset_builder=MODEL_DATASET_BUILDERS[model_key],\n",
    "                                           batch_size=MODEL_BATCH_SIZES[model_key], \n",
    "                                           shuffle=False)  \n",
    "       \n",
    "\n",
    "        dataloaders[model_name][model_key]['train'] = dataloader_train\n",
    "        dataloaders[model_name][model_key]['val'] = dataloader_val\n",
    "        dataloaders[model_name][model_key]['test'] = dataloader_test\n"
   ],
   "metadata": {
    "collapsed": false,
    "ExecuteTime": {
     "end_time": "2024-01-05T17:54:04.290704098Z",
     "start_time": "2024-01-05T17:53:54.185806019Z"
    }
   },
   "id": "c393925e19c856ef"
  },
  {
   "cell_type": "markdown",
   "source": [
    "##### Fitting Bert based models"
   ],
   "metadata": {
    "collapsed": false
   },
   "id": "ea28d26d446cd1d6"
  },
  {
   "cell_type": "markdown",
   "source": [
    "###### 1)  Fitting bert w/C\n"
   ],
   "metadata": {
    "collapsed": false
   },
   "id": "9bcdc11bf478e9c2"
  },
  {
   "cell_type": "code",
   "execution_count": 51,
   "outputs": [],
   "source": [
    "torch.manual_seed(69)\n",
    "np.random.seed(69)\n",
    "\n",
    "\n",
    "bert1 = BertOne(dropout_prob=0.5, \n",
    "                hidden_size= 768, \n",
    "                pretrained_model_name_or_path='bert_models/roberta-base',\n",
    "                bert_constructor=transformers.RobertaModel).to(device)\n",
    "\n",
    "\n",
    "if FIT_BERTONE:\n",
    "    optimizer_test = OptimizerWrapper(torch.optim.Adam, identifier=f'lr={1e-5}', optimizer_partial_params={'lr': 1e-5})       \n",
    "    \n",
    "    weights_tensor = calculate_class_weights(train_labels_df)\n",
    "    criterion_test = Criterion('loss', loss_function=torch.nn.BCEWithLogitsLoss(weight=weights_tensor, reduction='none'), reduction_function=torch.mean)\n",
    "    \n",
    "    \n",
    "    bert1_history = bert1.fit(train_loader=dataloaders['roberta-base']['C']['train'], \n",
    "                              val_loader=dataloaders['roberta-base']['C']['val'], \n",
    "                              criterion=criterion_test, \n",
    "                              metrics=[F1_Score_Multi_Labels('F1_macro_avg', num_labels=N_LABELS, num_classes=N_CLASSES, compute_mean=True)], \n",
    "                              optimizer=optimizer_test,\n",
    "                              early_stopper=EarlyStopper(monitor='F1_macro_avg', patience=4, delta=0, mode='max', restore_weights=True),\n",
    "                              num_epochs=200)\n",
    "    \n",
    "    torch.save(bert1.state_dict(), BERTONE_WEIGHTS_PATH)\n",
    "\n",
    "\n",
    "else:\n",
    "    bert1.load_state_dict(torch.load(BERTONE_WEIGHTS_PATH))\n",
    "    bert1_history = None\n",
    "    "
   ],
   "metadata": {
    "collapsed": false,
    "ExecuteTime": {
     "end_time": "2024-01-05T17:54:05.279410285Z",
     "start_time": "2024-01-05T17:54:04.333756797Z"
    }
   },
   "id": "8b78722a2c324448"
  },
  {
   "cell_type": "markdown",
   "source": [
    "###### Plotting the training and validation history for our bert w/C\n"
   ],
   "metadata": {
    "collapsed": false
   },
   "id": "5877041d6bf5b112"
  },
  {
   "cell_type": "code",
   "execution_count": 52,
   "outputs": [
    {
     "name": "stdout",
     "output_type": "stream",
     "text": [
      "To show the bert w/C training history you should set the flag FIT_BERTONE=True \n"
     ]
    }
   ],
   "source": [
    "if FIT_BERTONE:\n",
    "    plot_history(bert1_history)\n",
    "\n",
    "else:\n",
    "    print(\"To show the bert w/C training history you should set the flag FIT_BERTONE=True \")\n"
   ],
   "metadata": {
    "collapsed": false,
    "ExecuteTime": {
     "end_time": "2024-01-05T17:54:05.297655383Z",
     "start_time": "2024-01-05T17:54:05.280147875Z"
    }
   },
   "id": "e25a35795a9d2dd6"
  },
  {
   "cell_type": "markdown",
   "source": [
    "######  2) Fitting bert w/CP\n"
   ],
   "metadata": {
    "collapsed": false
   },
   "id": "6c1409d3dd4e6527"
  },
  {
   "cell_type": "code",
   "execution_count": 53,
   "outputs": [],
   "source": [
    "torch.manual_seed(69)\n",
    "np.random.seed(69)\n",
    "\n",
    "\n",
    "bert2 = BerTwo(dropout_prob=0.3, \n",
    "               hidden_size= 768,\n",
    "               pretrained_model_name_or_path='bert_models/roberta-base', \n",
    "               bert_constructor=transformers.RobertaModel).to(device)\n",
    "\n",
    "\n",
    "if FIT_BERTWO:\n",
    "    optimizer_test = OptimizerWrapper(torch.optim.Adam, identifier=f'lr={1e-5}', optimizer_partial_params={'lr': 1e-5})          \n",
    "   \n",
    "    weights_tensor = calculate_class_weights(train_labels_df)\n",
    "    criterion_test = Criterion('loss', loss_function=torch.nn.BCEWithLogitsLoss(weight=weights_tensor, reduction='none'), reduction_function=torch.mean)\n",
    "    \n",
    "    \n",
    "    bert2_history = bert2.fit(train_loader=dataloaders['roberta-base']['CP']['train'], \n",
    "                              val_loader=dataloaders['roberta-base']['CP']['val'], \n",
    "                              criterion=criterion_test, \n",
    "                              metrics=[F1_Score_Multi_Labels('F1_macro_avg', num_labels=N_LABELS, num_classes=N_CLASSES, compute_mean=True)], \n",
    "                              optimizer=optimizer_test,\n",
    "                              early_stopper=EarlyStopper(monitor='F1_macro_avg', patience=4, delta=0, mode='max', restore_weights=True),\n",
    "                              num_epochs=200)\n",
    "    \n",
    "    torch.save(bert2.state_dict(), BERTWO_WEIGHTS_PATH)\n",
    "\n",
    "else:\n",
    "    bert2.load_state_dict(torch.load(BERTWO_WEIGHTS_PATH))\n",
    "    bert2_history = None\n",
    "    "
   ],
   "metadata": {
    "collapsed": false,
    "ExecuteTime": {
     "end_time": "2024-01-05T17:54:06.289969288Z",
     "start_time": "2024-01-05T17:54:05.299960747Z"
    }
   },
   "id": "a536ac48aad19715"
  },
  {
   "cell_type": "markdown",
   "source": [
    "###### Plotting the training and validation history for our bert w/C"
   ],
   "metadata": {
    "collapsed": false
   },
   "id": "3ac6a76c83ec82d6"
  },
  {
   "cell_type": "code",
   "execution_count": 54,
   "outputs": [
    {
     "name": "stdout",
     "output_type": "stream",
     "text": [
      "To show the bert w/CP training history you should set the flag FIT_BERTWO=True\n"
     ]
    }
   ],
   "source": [
    "if FIT_BERTWO:\n",
    "    plot_history(bert2_history)\n",
    "else:\n",
    "    print(\"To show the bert w/CP training history you should set the flag FIT_BERTWO=True\")\n",
    "    "
   ],
   "metadata": {
    "collapsed": false,
    "ExecuteTime": {
     "end_time": "2024-01-05T17:54:06.391518199Z",
     "start_time": "2024-01-05T17:54:06.290084261Z"
    }
   },
   "id": "132d3454b20394e8"
  },
  {
   "cell_type": "markdown",
   "source": [
    "######  3) Fitting bert w/CPS\n"
   ],
   "metadata": {
    "collapsed": false
   },
   "id": "4b13a714f1745b5c"
  },
  {
   "cell_type": "code",
   "execution_count": 68,
   "outputs": [
    {
     "name": "stdout",
     "output_type": "stream",
     "text": [
      " Epoch: 1/200 Iterations: 338/338 Time: 155.094s - loss: 0.593286335468292 - F1_macro_avg: 0.726188122215922 - val_loss: 0.648341238498688 - val_F1_macro_avg: 0.689924118698992 \n",
      " Epoch: 2/200 Iterations: 338/338 Time: 154.749s - loss: 0.517006456851959 - F1_macro_avg: 0.775703596234082 - val_loss: 0.613782286643982 - val_F1_macro_avg: 0.710081307754833 \n",
      " Epoch: 3/200 Iterations: 338/338 Time: 155.639s - loss: 0.457617402076721 - F1_macro_avg: 0.807404302467565 - val_loss: 0.603667199611664 - val_F1_macro_avg: 0.714904409744033 \n",
      " Epoch: 4/200 Iterations: 338/338 Time: 154.808s - loss: 0.41057625412941 - F1_macro_avg: 0.835327166554929 - val_loss: 0.626461029052734 - val_F1_macro_avg: 0.716766814841289 \n",
      " Epoch: 5/200 Iterations: 338/338 Time: 155.824s - loss: 0.346811860799789 - F1_macro_avg: 0.866213997297827 - val_loss: 0.635446548461914 - val_F1_macro_avg: 0.722378305929571 \n",
      " Epoch: 6/200 Iterations: 338/338 Time: 157.987s - loss: 0.281832903623581 - F1_macro_avg: 0.90140612627911 - val_loss: 0.66420042514801 - val_F1_macro_avg: 0.714943195997508 \n",
      " Epoch: 7/200 Iterations: 338/338 Time: 155.566s - loss: 0.238906428217888 - F1_macro_avg: 0.918283863685715 - val_loss: 0.709592163562775 - val_F1_macro_avg: 0.711846333570664 \n",
      " Epoch: 8/200 Iterations: 338/338 Time: 155.497s - loss: 0.188590839505196 - F1_macro_avg: 0.942590501615088 - val_loss: 0.753580808639526 - val_F1_macro_avg: 0.713110684623514 \n",
      " Epoch: 9/200 Iterations: 338/338 Time: 155.799s - loss: 0.152941703796387 - F1_macro_avg: 0.956966805879083 - val_loss: 0.789725840091705 - val_F1_macro_avg: 0.711924589879984 \n",
      "Early stopping activated, best weights reloaded\n",
      "Train Completed\n"
     ]
    }
   ],
   "source": [
    "torch.manual_seed(69)\n",
    "np.random.seed(69)\n",
    "\n",
    "\n",
    "bert3 = BerThree(dropout_prob=0.5, \n",
    "                 hidden_size= 768, \n",
    "                 pretrained_model_name_or_path='bert_models/roberta-base', \n",
    "                 bert_constructor=transformers.RobertaModel).to(device)                                                          \n",
    "\n",
    "\n",
    "if FIT_BERTHREE:\n",
    "    optimizer_test = OptimizerWrapper(torch.optim.Adam, identifier=f'lr={1e-5}', optimizer_partial_params={'lr': 1e-5})          \n",
    "    \n",
    "    weights_tensor = calculate_class_weights(train_labels_df)\n",
    "    criterion_test = Criterion('loss', loss_function=torch.nn.BCEWithLogitsLoss(weight=weights_tensor, reduction='none'), reduction_function=torch.mean)\n",
    "    \n",
    "    \n",
    "    bert3_history = bert3.fit(train_loader=dataloaders['roberta-base']['CPS']['train'], \n",
    "                              val_loader=dataloaders['roberta-base']['CPS']['val'], \n",
    "                              criterion=criterion_test, \n",
    "                              metrics=[F1_Score_Multi_Labels('F1_macro_avg', num_labels=N_LABELS, num_classes=N_CLASSES, compute_mean=True)], \n",
    "                              optimizer=optimizer_test,\n",
    "                              early_stopper=EarlyStopper(monitor='F1_macro_avg', patience=4, delta=0, mode='max', restore_weights=True),\n",
    "                              num_epochs=200)\n",
    "    \n",
    "    torch.save(bert3.state_dict(), BERTHREE_WEIGHTS_PATH)\n",
    "\n",
    "else:\n",
    "    bert3.load_state_dict(torch.load(BERTHREE_WEIGHTS_PATH))\n",
    "    bert3_history = None\n",
    "    "
   ],
   "metadata": {
    "collapsed": false,
    "ExecuteTime": {
     "end_time": "2024-01-05T18:29:22.717576518Z",
     "start_time": "2024-01-05T18:05:56.128480923Z"
    }
   },
   "id": "7d9e8beeda8c26f9"
  },
  {
   "cell_type": "markdown",
   "source": [
    "##### Plotting the training and validation history for our bert w/CPS\n"
   ],
   "metadata": {
    "collapsed": false
   },
   "id": "20ba08b982ae143a"
  },
  {
   "cell_type": "code",
   "execution_count": 70,
   "outputs": [
    {
     "data": {
      "text/plain": "<Figure size 1000x1000 with 2 Axes>",
      "image/png": "[encoded data removed]"
     },
     "metadata": {},
     "output_type": "display_data"
    }
   ],
   "source": [
    "if FIT_BERTHREE:\n",
    "    plot_history(bert3_history)\n",
    "else:\n",
    "    print(\"To show the bert w/CPS training history you should set the flag FIT_BERTHREE=True\")\n",
    "    "
   ],
   "metadata": {
    "collapsed": false,
    "ExecuteTime": {
     "end_time": "2024-01-05T18:30:26.239217199Z",
     "start_time": "2024-01-05T18:30:26.026021779Z"
    }
   },
   "id": "db23d4a42fc6284"
  },
  {
   "cell_type": "markdown",
   "source": [
    "#### Calculating the metrics of our models on the test set"
   ],
   "metadata": {
    "collapsed": false
   },
   "id": "32fbc94feb8c293f"
  },
  {
   "cell_type": "code",
   "execution_count": 77,
   "outputs": [
    {
     "name": "stdout",
     "output_type": "stream",
     "text": [
      "torch.Size([1896])\n",
      "torch.Size([1896])\n",
      "torch.Size([1896])\n",
      "torch.Size([1896])\n",
      "torch.Size([1896])\n",
      "torch.Size([1896])\n",
      "torch.Size([1896])\n",
      "torch.Size([1896])\n",
      "torch.Size([1896])\n",
      "torch.Size([1896])\n",
      "torch.Size([1896])\n",
      "torch.Size([1896])\n"
     ]
    }
   ],
   "source": [
    "f1_scorer = F1_Score_Multi_Labels(name='F1_macro_avg', num_labels=N_LABELS, num_classes=N_CLASSES, compute_mean=False)\n",
    "\n",
    "bert_1_predicted_labels = bert1.predict(dataloaders['roberta-base']['C']['val'])       \n",
    "bert_2_predicted_labels = bert2.predict(dataloaders['roberta-base']['CP']['val'])     \n",
    "bert_3_predicted_labels = bert3.predict(dataloaders['roberta-base']['CPS']['val'])\n",
    "\n",
    "#F1 scores for each class\n",
    "f1_scores_bert_1 = f1_scorer(torch.tensor(val_labels_df.values.tolist()).view(-1), bert_1_predicted_labels.view(-1))\n",
    "f1_scores_bert_2 = f1_scorer(torch.tensor(val_labels_df.values.tolist()).view(-1), bert_2_predicted_labels.view(-1))\n",
    "f1_scores_bert_3 = f1_scorer(torch.tensor(val_labels_df.values.tolist()).view(-1), bert_3_predicted_labels.view(-1))\n",
    "\n",
    "# AVG F1 scores\n",
    "f1_avg_bert_1 = np.average(f1_scores_bert_1)\n",
    "f1_avg_bert_2 = np.average(f1_scores_bert_2)\n",
    "f1_avg_bert_3 = np.average(f1_scores_bert_3)"
   ],
   "metadata": {
    "collapsed": false,
    "ExecuteTime": {
     "end_time": "2024-01-05T18:43:47.322416259Z",
     "start_time": "2024-01-05T18:43:23.660266128Z"
    }
   },
   "id": "32db413d52ddccdf"
  },
  {
   "cell_type": "markdown",
   "source": [
    "#### Visualizing our results  "
   ],
   "metadata": {
    "collapsed": false
   },
   "id": "56b4e5b418764d8e"
  },
  {
   "cell_type": "code",
   "execution_count": 72,
   "outputs": [
    {
     "name": "stdout",
     "output_type": "stream",
     "text": [
      "+--------------------+------------+-------------+--------------+\n",
      "| Model              |   bert w/C |   bert w/CP |   bert w/CPS |\n",
      "+====================+============+=============+==============+\n",
      "| Openess_to_change  |   0.508451 |    0.713339 |     0.70166  |\n",
      "+--------------------+------------+-------------+--------------+\n",
      "| Self_enhancement   |   0.668024 |    0.687669 |     0.714898 |\n",
      "+--------------------+------------+-------------+--------------+\n",
      "| Conservation       |   0.452458 |    0.674044 |     0.623948 |\n",
      "+--------------------+------------+-------------+--------------+\n",
      "| Self_transcendence |   0.578045 |    0.64514  |     0.651856 |\n",
      "+--------------------+------------+-------------+--------------+\n",
      "| Avg                |   0.551745 |    0.680048 |     0.673091 |\n",
      "+--------------------+------------+-------------+--------------+\n"
     ]
    }
   ],
   "source": [
    "models = ['bert w/C', 'bert w/CP', 'bert w/CPS']\n",
    "labels = train_labels_df.columns\n",
    "\n",
    "data = [*zip(labels, f1_scores_bert_1, f1_scores_bert_2, f1_scores_bert_3),\n",
    "        ['Avg', f1_avg_bert_1, f1_avg_bert_2, f1_avg_bert_3]\n",
    "        ]\n",
    "\n",
    "table = tabulate(data, headers=['Model'] + models, tablefmt='grid')\n",
    "print(table)\n"
   ],
   "metadata": {
    "collapsed": false,
    "ExecuteTime": {
     "end_time": "2024-01-05T18:31:55.573719234Z",
     "start_time": "2024-01-05T18:31:55.530015100Z"
    }
   },
   "id": "7b739a6739c12624"
  },
  {
   "cell_type": "code",
   "execution_count": 75,
   "outputs": [
    {
     "name": "stdout",
     "output_type": "stream",
     "text": [
      "0.712065646181955\n"
     ]
    }
   ],
   "source": [
    "bert_3_predicted_labels = bert3.predict2(dataloaders['roberta-base']['CPS']['test'])\n"
   ],
   "metadata": {
    "collapsed": false,
    "ExecuteTime": {
     "end_time": "2024-01-05T18:34:33.479901252Z",
     "start_time": "2024-01-05T18:34:23.218667650Z"
    }
   },
   "id": "84a6c08d9633028f"
  },
  {
   "cell_type": "markdown",
   "source": [
    "#### Error analysis \n"
   ],
   "metadata": {
    "collapsed": false
   },
   "id": "71c06fee73964f68"
  },
  {
   "cell_type": "code",
   "execution_count": null,
   "outputs": [],
   "source": [
    "## todo add confusion matrix code \n"
   ],
   "metadata": {
    "collapsed": false,
    "ExecuteTime": {
     "start_time": "2024-01-05T17:16:03.338025380Z"
    }
   },
   "id": "bb73b75e2dde34c8"
  },
  {
   "cell_type": "markdown",
   "source": [
    "## Task 5"
   ],
   "metadata": {
    "collapsed": false
   },
   "id": "ac7dd15c5573eec3"
  }
 ],
 "metadata": {
  "kernelspec": {
   "display_name": "Python 3",
   "language": "python",
   "name": "python3"
  },
  "language_info": {
   "codemirror_mode": {
    "name": "ipython",
    "version": 3
   },
   "file_extension": ".py",
   "mimetype": "text/x-python",
   "name": "python",
   "nbconvert_exporter": "python",
   "pygments_lexer": "ipython3",
   "version": "3.11.6"
  }
 },
 "nbformat": 4,
 "nbformat_minor": 5
}
